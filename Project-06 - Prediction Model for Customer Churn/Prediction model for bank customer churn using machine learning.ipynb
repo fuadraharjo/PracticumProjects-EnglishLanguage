{
 "cells": [
  {
   "cell_type": "markdown",
   "metadata": {},
   "source": [
    "# Prediction Model for Bank Customer Churn Using Machine Learning: A Case Study on Islamic Bank Data <a id='intro'></a>"
   ]
  },
  {
   "cell_type": "markdown",
   "metadata": {},
   "source": [
    "A `Sharia Bank` that implements `religion of Islam` shariah contract in its business processes where it only provides buying and selling services, not a contract of borrowing money with usury to the first party (`developer / seller`), second (`bank`) and third (`customer`). Customers who want something but are constrained by costs can use this facility, where goods are purchased by the bank and then resold at a higher margin to the customer by paying installments over a certain period of time.\n",
    "\n",
    "The customers of the `Islamic Bank` are leaving the company: little by little, their number is decreasing every month. Bank employees realized that it would be more cost-effective if companies focused on retaining their loyal old customers rather than attracting new ones.\n",
    "In this case, our task is to predict whether a customer will leave the bank soon or not. We have data regarding client's past behavior and history of termination of their contracts with the bank. The target is stated as `Class 0` that the customer will not leave soon and `Class 1` that the customer will leave soon.\n",
    "\n",
    "Based on the explanation above, the selected `machine learning model` is a type of `classification - supervised learning`. We'll be looking for the maximum possible F1 score and looking at the AUC-ROC metric. The F1 threshold set for this project is 0.59.\n",
    "\n",
    "Some of the objectives and formulation of the problem from this project analysis:\n",
    "- Knowing the best algorithm for `machine learning` model for `Sharia Bank` dataset\n",
    "- What is the best `Hyperparameter` in `machine learning` models\n",
    "- Does class imbalance affect `machine learning model` quality metrics?\n",
    "- Is it true that a model that has been trained using a balanced data class (`balance`) produces better F1 quality metrics?"
   ]
  },
  {
   "cell_type": "markdown",
   "metadata": {},
   "source": [
    "# Content <a id='back'></a>\n",
    "\n",
    "* [Intro](#intro)\n",
    "* [Content](#back)\n",
    "* [Stage 1. Preparing Dataset](#cont_1)\n",
    "     * [1.1 Loading Library](#cont_2)\n",
    "     * [1.2 Load Dataset](#cont_3)\n",
    "     * [1.3 Selecting Features](#cont_4)\n",
    "     * [1.4 Checking for Duplication](#cont_5)\n",
    "     * [1.5 Checking for Missing Values](#cont_6)\n",
    "* [Stage 2. Machine Learning Model Preparation](#cont_7)\n",
    "     * [2.1 Create One Hot Encoding (OHE)](#cont_8)\n",
    "     * [2.2 Separating Features and Target from Dataset](#cont_9)\n",
    "     * [2.3 Scaling Features](#cont_10)\n",
    "     * [2.4 Class Balance](#cont_11)\n",
    "     * [2.5 Splitting Dataset](#cont_12)\n",
    "* [Stage 3. Machine Learning Model Application](#cont_13)\n",
    "     * [3.1 Decision Tree Classification Algorithm](#cont_14)\n",
    "     * [3.2 Random Forest Classification Algorithm](#cont_15)\n",
    "     * [3.3 Logistic Regression Algorithm](#cont_16)\n",
    "* [Stage 4. General Conclusion](#cont_17)\n",
    "     * [4.1 Addressing Class Imbalances](#cont_18)\n",
    "     * [4.2 Best Model Quality Metric (Optimized Model)](#cont_19)\n",
    "* [Stage 5. General Conclusion](#cont_20)"
   ]
  },
  {
   "cell_type": "markdown",
   "metadata": {},
   "source": [
    "# Preparing Datasets <a id='cont_1'></a>"
   ]
  },
  {
   "cell_type": "markdown",
   "metadata": {},
   "source": [
    "The first step that needs to be done is to prepare the dataset starting from `loading the required library`, `loading the dataset into the project`, `checking sample data`, `checking for missing values`, `checking for duplicates`, `checking the data type` and `checking class balance`."
   ]
  },
  {
   "cell_type": "markdown",
   "metadata": {},
   "source": [
    "## Load Libraries <a id='cont_2'></a>"
   ]
  },
  {
   "cell_type": "markdown",
   "metadata": {},
   "source": [
    "Next, we will load the required libraries. Here we need some libraries namely `pandas` to process datasets, `seaborn` for data visualization and `scikit learn` for `machine learning` modeling. Let's load the required libraries."
   ]
  },
  {
   "cell_type": "code",
   "execution_count": 1,
   "metadata": {},
   "outputs": [],
   "source": [
    "# load libraries\n",
    "import pandas as pd\n",
    "import matplotlib.pyplot as plt\n",
    "import seaborn as sns\n",
    "from sklearn.preprocessing import StandardScaler\n",
    "from sklearn.model_selection import train_test_split\n",
    "from sklearn.metrics import f1_score, roc_auc_score\n",
    "from sklearn.tree import DecisionTreeClassifier\n",
    "from sklearn.ensemble import RandomForestClassifier\n",
    "from sklearn.linear_model import LogisticRegression\n",
    "from sklearn.utils import shuffle\n",
    "\n",
    "# seaborn theme set\n",
    "sns.set_theme(palette='bright')"
   ]
  },
  {
   "cell_type": "markdown",
   "metadata": {},
   "source": [
    "## Load Dataset <a id='cont_3'></a>"
   ]
  },
  {
   "cell_type": "markdown",
   "metadata": {},
   "source": [
    "Let's load the `Sharia Bank` dataset into the project using the `pandas` library. This dataset is not a real dataset from an Islamic bank and it is only an exercise of a `machine learning model`."
   ]
  },
  {
   "cell_type": "code",
   "execution_count": 2,
   "metadata": {},
   "outputs": [],
   "source": [
    "# load dataset\n",
    "df_churn = pd.read_csv('Churn.csv')"
   ]
  },
  {
   "cell_type": "markdown",
   "metadata": {},
   "source": [
    "Next, we will present information and sample data from the `Sharia Bank` dataset."
   ]
  },
  {
   "cell_type": "code",
   "execution_count": 3,
   "metadata": {},
   "outputs": [
    {
     "name": "stdout",
     "output_type": "stream",
     "text": [
      "<class 'pandas.core.frame.DataFrame'>\n",
      "RangeIndex: 10000 entries, 0 to 9999\n",
      "Data columns (total 14 columns):\n",
      " #   Column           Non-Null Count  Dtype  \n",
      "---  ------           --------------  -----  \n",
      " 0   RowNumber        10000 non-null  int64  \n",
      " 1   CustomerId       10000 non-null  int64  \n",
      " 2   Surname          10000 non-null  object \n",
      " 3   CreditScore      10000 non-null  int64  \n",
      " 4   Geography        10000 non-null  object \n",
      " 5   Gender           10000 non-null  object \n",
      " 6   Age              10000 non-null  int64  \n",
      " 7   Tenure           9091 non-null   float64\n",
      " 8   Balance          10000 non-null  float64\n",
      " 9   NumOfProducts    10000 non-null  int64  \n",
      " 10  HasCrCard        10000 non-null  int64  \n",
      " 11  IsActiveMember   10000 non-null  int64  \n",
      " 12  EstimatedSalary  10000 non-null  float64\n",
      " 13  Exited           10000 non-null  int64  \n",
      "dtypes: float64(3), int64(8), object(3)\n",
      "memory usage: 1.1+ MB\n",
      "None\n"
     ]
    },
    {
     "data": {
      "text/html": [
       "<div>\n",
       "<style scoped>\n",
       "    .dataframe tbody tr th:only-of-type {\n",
       "        vertical-align: middle;\n",
       "    }\n",
       "\n",
       "    .dataframe tbody tr th {\n",
       "        vertical-align: top;\n",
       "    }\n",
       "\n",
       "    .dataframe thead th {\n",
       "        text-align: right;\n",
       "    }\n",
       "</style>\n",
       "<table border=\"1\" class=\"dataframe\">\n",
       "  <thead>\n",
       "    <tr style=\"text-align: right;\">\n",
       "      <th></th>\n",
       "      <th>RowNumber</th>\n",
       "      <th>CustomerId</th>\n",
       "      <th>Surname</th>\n",
       "      <th>CreditScore</th>\n",
       "      <th>Geography</th>\n",
       "      <th>Gender</th>\n",
       "      <th>Age</th>\n",
       "      <th>Tenure</th>\n",
       "      <th>Balance</th>\n",
       "      <th>NumOfProducts</th>\n",
       "      <th>HasCrCard</th>\n",
       "      <th>IsActiveMember</th>\n",
       "      <th>EstimatedSalary</th>\n",
       "      <th>Exited</th>\n",
       "    </tr>\n",
       "  </thead>\n",
       "  <tbody>\n",
       "    <tr>\n",
       "      <th>0</th>\n",
       "      <td>1</td>\n",
       "      <td>15634602</td>\n",
       "      <td>Hargrave</td>\n",
       "      <td>619</td>\n",
       "      <td>France</td>\n",
       "      <td>Female</td>\n",
       "      <td>42</td>\n",
       "      <td>2.0</td>\n",
       "      <td>0.00</td>\n",
       "      <td>1</td>\n",
       "      <td>1</td>\n",
       "      <td>1</td>\n",
       "      <td>101348.88</td>\n",
       "      <td>1</td>\n",
       "    </tr>\n",
       "    <tr>\n",
       "      <th>1</th>\n",
       "      <td>2</td>\n",
       "      <td>15647311</td>\n",
       "      <td>Hill</td>\n",
       "      <td>608</td>\n",
       "      <td>Spain</td>\n",
       "      <td>Female</td>\n",
       "      <td>41</td>\n",
       "      <td>1.0</td>\n",
       "      <td>83807.86</td>\n",
       "      <td>1</td>\n",
       "      <td>0</td>\n",
       "      <td>1</td>\n",
       "      <td>112542.58</td>\n",
       "      <td>0</td>\n",
       "    </tr>\n",
       "    <tr>\n",
       "      <th>2</th>\n",
       "      <td>3</td>\n",
       "      <td>15619304</td>\n",
       "      <td>Onio</td>\n",
       "      <td>502</td>\n",
       "      <td>France</td>\n",
       "      <td>Female</td>\n",
       "      <td>42</td>\n",
       "      <td>8.0</td>\n",
       "      <td>159660.80</td>\n",
       "      <td>3</td>\n",
       "      <td>1</td>\n",
       "      <td>0</td>\n",
       "      <td>113931.57</td>\n",
       "      <td>1</td>\n",
       "    </tr>\n",
       "    <tr>\n",
       "      <th>3</th>\n",
       "      <td>4</td>\n",
       "      <td>15701354</td>\n",
       "      <td>Boni</td>\n",
       "      <td>699</td>\n",
       "      <td>France</td>\n",
       "      <td>Female</td>\n",
       "      <td>39</td>\n",
       "      <td>1.0</td>\n",
       "      <td>0.00</td>\n",
       "      <td>2</td>\n",
       "      <td>0</td>\n",
       "      <td>0</td>\n",
       "      <td>93826.63</td>\n",
       "      <td>0</td>\n",
       "    </tr>\n",
       "    <tr>\n",
       "      <th>4</th>\n",
       "      <td>5</td>\n",
       "      <td>15737888</td>\n",
       "      <td>Mitchell</td>\n",
       "      <td>850</td>\n",
       "      <td>Spain</td>\n",
       "      <td>Female</td>\n",
       "      <td>43</td>\n",
       "      <td>2.0</td>\n",
       "      <td>125510.82</td>\n",
       "      <td>1</td>\n",
       "      <td>1</td>\n",
       "      <td>1</td>\n",
       "      <td>79084.10</td>\n",
       "      <td>0</td>\n",
       "    </tr>\n",
       "  </tbody>\n",
       "</table>\n",
       "</div>"
      ],
      "text/plain": [
       "   RowNumber  CustomerId   Surname  CreditScore Geography  Gender  Age  \\\n",
       "0          1    15634602  Hargrave          619    France  Female   42   \n",
       "1          2    15647311      Hill          608     Spain  Female   41   \n",
       "2          3    15619304      Onio          502    France  Female   42   \n",
       "3          4    15701354      Boni          699    France  Female   39   \n",
       "4          5    15737888  Mitchell          850     Spain  Female   43   \n",
       "\n",
       "   Tenure    Balance  NumOfProducts  HasCrCard  IsActiveMember  \\\n",
       "0     2.0       0.00              1          1               1   \n",
       "1     1.0   83807.86              1          0               1   \n",
       "2     8.0  159660.80              3          1               0   \n",
       "3     1.0       0.00              2          0               0   \n",
       "4     2.0  125510.82              1          1               1   \n",
       "\n",
       "   EstimatedSalary  Exited  \n",
       "0        101348.88       1  \n",
       "1        112542.58       0  \n",
       "2        113931.57       1  \n",
       "3         93826.63       0  \n",
       "4         79084.10       0  "
      ]
     },
     "execution_count": 3,
     "metadata": {},
     "output_type": "execute_result"
    }
   ],
   "source": [
    "# check dataset information\n",
    "print(df_churn.info())\n",
    "\n",
    "# displays sample data\n",
    "df_churn.head()"
   ]
  },
  {
   "cell_type": "markdown",
   "metadata": {},
   "source": [
    "Dataset contains the following fields:\n",
    "<br><br>\n",
    "Features:\n",
    "- `RowNumber` — is the index of record\n",
    "- `CustomerId` — is the customer identity\n",
    "- `Surname` — is last name\n",
    "- `CreditScore` — is credit score\n",
    "- `Geography` — is the user nasionality\n",
    "- `Gender` — is the gender\n",
    "- `Age` — is the age\n",
    "- `Tenure` — is user tenure in year\n",
    "- `Balance` — is the user balance\n",
    "- `NumOfProducts` — is the number of products that user used\n",
    "- `HasCrCard` — is user have a card or not, if yes for 1, no for 0\n",
    "- `IsActiveMember` — is user as active member, if yes for 1, no for 0\n",
    "- `EstimatedSalary` — is user salary\n",
    "\n",
    "Target:\n",
    "- `Exited` — is user exited, if yes for 1, no for 0"
   ]
  },
  {
   "cell_type": "markdown",
   "metadata": {},
   "source": [
    "Based on the information above, it shows that the dataset consists of `10000 rows` and `14 columns` and has `missing values` in the `Tenure` column."
   ]
  },
  {
   "cell_type": "markdown",
   "metadata": {},
   "source": [
    "## Selecting Features <a id='cont_4'></a>"
   ]
  },
  {
   "cell_type": "markdown",
   "metadata": {},
   "source": [
    "Based on the information above, there are several features/columns that are not supported for the `Model Machine Learning` training, including the `RowNumber`, `CustomerId`, `Surname` columns. Let's get rid of these variables."
   ]
  },
  {
   "cell_type": "code",
   "execution_count": 4,
   "metadata": {},
   "outputs": [
    {
     "data": {
      "text/html": [
       "<div>\n",
       "<style scoped>\n",
       "    .dataframe tbody tr th:only-of-type {\n",
       "        vertical-align: middle;\n",
       "    }\n",
       "\n",
       "    .dataframe tbody tr th {\n",
       "        vertical-align: top;\n",
       "    }\n",
       "\n",
       "    .dataframe thead th {\n",
       "        text-align: right;\n",
       "    }\n",
       "</style>\n",
       "<table border=\"1\" class=\"dataframe\">\n",
       "  <thead>\n",
       "    <tr style=\"text-align: right;\">\n",
       "      <th></th>\n",
       "      <th>CreditScore</th>\n",
       "      <th>Geography</th>\n",
       "      <th>Gender</th>\n",
       "      <th>Age</th>\n",
       "      <th>Tenure</th>\n",
       "      <th>Balance</th>\n",
       "      <th>NumOfProducts</th>\n",
       "      <th>HasCrCard</th>\n",
       "      <th>IsActiveMember</th>\n",
       "      <th>EstimatedSalary</th>\n",
       "      <th>Exited</th>\n",
       "    </tr>\n",
       "  </thead>\n",
       "  <tbody>\n",
       "    <tr>\n",
       "      <th>0</th>\n",
       "      <td>619</td>\n",
       "      <td>France</td>\n",
       "      <td>Female</td>\n",
       "      <td>42</td>\n",
       "      <td>2.0</td>\n",
       "      <td>0.00</td>\n",
       "      <td>1</td>\n",
       "      <td>1</td>\n",
       "      <td>1</td>\n",
       "      <td>101348.88</td>\n",
       "      <td>1</td>\n",
       "    </tr>\n",
       "    <tr>\n",
       "      <th>1</th>\n",
       "      <td>608</td>\n",
       "      <td>Spain</td>\n",
       "      <td>Female</td>\n",
       "      <td>41</td>\n",
       "      <td>1.0</td>\n",
       "      <td>83807.86</td>\n",
       "      <td>1</td>\n",
       "      <td>0</td>\n",
       "      <td>1</td>\n",
       "      <td>112542.58</td>\n",
       "      <td>0</td>\n",
       "    </tr>\n",
       "    <tr>\n",
       "      <th>2</th>\n",
       "      <td>502</td>\n",
       "      <td>France</td>\n",
       "      <td>Female</td>\n",
       "      <td>42</td>\n",
       "      <td>8.0</td>\n",
       "      <td>159660.80</td>\n",
       "      <td>3</td>\n",
       "      <td>1</td>\n",
       "      <td>0</td>\n",
       "      <td>113931.57</td>\n",
       "      <td>1</td>\n",
       "    </tr>\n",
       "    <tr>\n",
       "      <th>3</th>\n",
       "      <td>699</td>\n",
       "      <td>France</td>\n",
       "      <td>Female</td>\n",
       "      <td>39</td>\n",
       "      <td>1.0</td>\n",
       "      <td>0.00</td>\n",
       "      <td>2</td>\n",
       "      <td>0</td>\n",
       "      <td>0</td>\n",
       "      <td>93826.63</td>\n",
       "      <td>0</td>\n",
       "    </tr>\n",
       "    <tr>\n",
       "      <th>4</th>\n",
       "      <td>850</td>\n",
       "      <td>Spain</td>\n",
       "      <td>Female</td>\n",
       "      <td>43</td>\n",
       "      <td>2.0</td>\n",
       "      <td>125510.82</td>\n",
       "      <td>1</td>\n",
       "      <td>1</td>\n",
       "      <td>1</td>\n",
       "      <td>79084.10</td>\n",
       "      <td>0</td>\n",
       "    </tr>\n",
       "  </tbody>\n",
       "</table>\n",
       "</div>"
      ],
      "text/plain": [
       "   CreditScore Geography  Gender  Age  Tenure    Balance  NumOfProducts  \\\n",
       "0          619    France  Female   42     2.0       0.00              1   \n",
       "1          608     Spain  Female   41     1.0   83807.86              1   \n",
       "2          502    France  Female   42     8.0  159660.80              3   \n",
       "3          699    France  Female   39     1.0       0.00              2   \n",
       "4          850     Spain  Female   43     2.0  125510.82              1   \n",
       "\n",
       "   HasCrCard  IsActiveMember  EstimatedSalary  Exited  \n",
       "0          1               1        101348.88       1  \n",
       "1          0               1        112542.58       0  \n",
       "2          1               0        113931.57       1  \n",
       "3          0               0         93826.63       0  \n",
       "4          1               1         79084.10       0  "
      ]
     },
     "execution_count": 4,
     "metadata": {},
     "output_type": "execute_result"
    }
   ],
   "source": [
    "# removes the `RowNumber`, `CustomerId`, `Surname` columns\n",
    "df_churn.drop(columns=['RowNumber','CustomerId','Surname'], inplace=True)\n",
    "\n",
    "# displays sample datasets\n",
    "df_churn.head()"
   ]
  },
  {
   "cell_type": "markdown",
   "metadata": {},
   "source": [
    "We have removed the `RowNumber`, `CustomerId`, `Surname` columns."
   ]
  },
  {
   "cell_type": "markdown",
   "metadata": {},
   "source": [
    "## Check for Duplication <a id='cont_5'></a>"
   ]
  },
  {
   "cell_type": "markdown",
   "metadata": {},
   "source": [
    "Next, we will check for duplication in the dataset. If there are many duplicates of the same row, it will reduce the accuracy of the `machine learning model` that we will create."
   ]
  },
  {
   "cell_type": "code",
   "execution_count": 5,
   "metadata": {},
   "outputs": [
    {
     "data": {
      "text/plain": [
       "0"
      ]
     },
     "execution_count": 5,
     "metadata": {},
     "output_type": "execute_result"
    }
   ],
   "source": [
    "# check for duplication in the dataset\n",
    "df_churn.duplicated().sum()"
   ]
  },
  {
   "cell_type": "markdown",
   "metadata": {},
   "source": [
    "It can be seen that we do not have the same duplicate data in this dataset."
   ]
  },
  {
   "cell_type": "markdown",
   "metadata": {},
   "source": [
    "## Checking for Missing Values <a id='cont_6'></a>"
   ]
  },
  {
   "cell_type": "markdown",
   "metadata": {},
   "source": [
    "Let's reconfirm for missing values in the dataset we have."
   ]
  },
  {
   "cell_type": "code",
   "execution_count": 6,
   "metadata": {},
   "outputs": [
    {
     "data": {
      "text/plain": [
       "CreditScore          0\n",
       "Geography            0\n",
       "Gender               0\n",
       "Age                  0\n",
       "Tenure             909\n",
       "Balance              0\n",
       "NumOfProducts        0\n",
       "HasCrCard            0\n",
       "IsActiveMember       0\n",
       "EstimatedSalary      0\n",
       "Exited               0\n",
       "dtype: int64"
      ]
     },
     "execution_count": 6,
     "metadata": {},
     "output_type": "execute_result"
    }
   ],
   "source": [
    "# check for missing values in the dataset\n",
    "df_churn.isna().sum()"
   ]
  },
  {
   "cell_type": "markdown",
   "metadata": {},
   "source": [
    "There are `909` missing values in the `Tenure` column. Let's fix the missing values by using the `mean` or `median` values. Let's find out the distribution of data in these columns using the `boxplot`."
   ]
  },
  {
   "cell_type": "code",
   "execution_count": 7,
   "metadata": {},
   "outputs": [
    {
     "data": {
      "image/png": "[encoded data removed]",
      "text/plain": [
       "<Figure size 500x600 with 1 Axes>"
      ]
     },
     "metadata": {},
     "output_type": "display_data"
    }
   ],
   "source": [
    "# check distribution of column 'Tenure' with boxplot\n",
    "plt.figure(figsize=(5,6))\n",
    "sns.boxplot(data=df_churn, y='Tenure', color='yellow')\n",
    "\n",
    "# add attributes to the chart\n",
    "plt.title('Tenure Distribution Data')\n",
    "plt.ylabel('Year')\n",
    "plt.xlabel('Tenure')\n",
    "\n",
    "# displays graphs\n",
    "plt.show()"
   ]
  },
  {
   "cell_type": "markdown",
   "metadata": {},
   "source": [
    "It can be seen that the data in this column does not have `outliers`, so we can fill it using the `mean` value."
   ]
  },
  {
   "cell_type": "code",
   "execution_count": 8,
   "metadata": {},
   "outputs": [
    {
     "data": {
      "text/plain": [
       "5"
      ]
     },
     "execution_count": 8,
     "metadata": {},
     "output_type": "execute_result"
    }
   ],
   "source": [
    "# average tenure\n",
    "mean_tenure = round(df_churn['Tenure'].mean())\n",
    "mean_tenure"
   ]
  },
  {
   "cell_type": "code",
   "execution_count": 9,
   "metadata": {},
   "outputs": [
    {
     "data": {
      "text/plain": [
       "0"
      ]
     },
     "execution_count": 9,
     "metadata": {},
     "output_type": "execute_result"
    }
   ],
   "source": [
    "# fill in the missing values in the 'Tenure' column\n",
    "df_churn['Tenure'].fillna(mean_tenure, inplace=True)\n",
    "\n",
    "# check for missing values in column 'Tenure'\n",
    "df_churn['Tenure'].isna().sum()"
   ]
  },
  {
   "cell_type": "markdown",
   "metadata": {},
   "source": [
    "Now we don't have a dataset that has missing values and the data is ready to be processed."
   ]
  },
  {
   "cell_type": "markdown",
   "metadata": {},
   "source": [
    "# Machine Learning Model Preparation <a id='cont_7'></a>"
   ]
  },
  {
   "cell_type": "markdown",
   "metadata": {},
   "source": [
    "Making the best `machine learning model` requires several steps including: dividing the dataset, choosing an algorithm, testing the algorithm, `tuning hyperparamater`. Preparing dataset to train `machine learning models` is different from preparing data for ordinary statistical analysis."
   ]
  },
  {
   "cell_type": "markdown",
   "metadata": {},
   "source": [
    "## Creating One Hot Encoding (OHE) <a id='cont_8'></a>"
   ]
  },
  {
   "cell_type": "markdown",
   "metadata": {},
   "source": [
    "In the dataset there are features/columns that contain categorical classes such as the `Geography` and `Gender` columns. We check whether the column is suitable for One Hot Encoding (OHE) application."
   ]
  },
  {
   "cell_type": "code",
   "execution_count": 10,
   "metadata": {},
   "outputs": [
    {
     "name": "stdout",
     "output_type": "stream",
     "text": [
      "Geography --> ['France' 'Spain' 'Germany']\n",
      "Gender --> ['Female' 'Male']\n"
     ]
    }
   ],
   "source": [
    "# check category data\n",
    "# displays the geography column\n",
    "print('Geography -->',df_churn['Geography'].unique())\n",
    "\n",
    "# displays the gender column\n",
    "print('Gender -->',df_churn['Gender'].unique())"
   ]
  },
  {
   "cell_type": "markdown",
   "metadata": {},
   "source": [
    "Since the `Geography` and `Gender` columns contain only a small number of classes we can implement `One Hot Encoder (OHE)`."
   ]
  },
  {
   "cell_type": "code",
   "execution_count": 11,
   "metadata": {},
   "outputs": [
    {
     "data": {
      "text/html": [
       "<div>\n",
       "<style scoped>\n",
       "    .dataframe tbody tr th:only-of-type {\n",
       "        vertical-align: middle;\n",
       "    }\n",
       "\n",
       "    .dataframe tbody tr th {\n",
       "        vertical-align: top;\n",
       "    }\n",
       "\n",
       "    .dataframe thead th {\n",
       "        text-align: right;\n",
       "    }\n",
       "</style>\n",
       "<table border=\"1\" class=\"dataframe\">\n",
       "  <thead>\n",
       "    <tr style=\"text-align: right;\">\n",
       "      <th></th>\n",
       "      <th>CreditScore</th>\n",
       "      <th>Age</th>\n",
       "      <th>Tenure</th>\n",
       "      <th>Balance</th>\n",
       "      <th>NumOfProducts</th>\n",
       "      <th>HasCrCard</th>\n",
       "      <th>IsActiveMember</th>\n",
       "      <th>EstimatedSalary</th>\n",
       "      <th>Exited</th>\n",
       "      <th>Geography_Germany</th>\n",
       "      <th>Geography_Spain</th>\n",
       "      <th>Gender_Male</th>\n",
       "    </tr>\n",
       "  </thead>\n",
       "  <tbody>\n",
       "    <tr>\n",
       "      <th>0</th>\n",
       "      <td>619</td>\n",
       "      <td>42</td>\n",
       "      <td>2.0</td>\n",
       "      <td>0.00</td>\n",
       "      <td>1</td>\n",
       "      <td>1</td>\n",
       "      <td>1</td>\n",
       "      <td>101348.88</td>\n",
       "      <td>1</td>\n",
       "      <td>False</td>\n",
       "      <td>False</td>\n",
       "      <td>False</td>\n",
       "    </tr>\n",
       "    <tr>\n",
       "      <th>1</th>\n",
       "      <td>608</td>\n",
       "      <td>41</td>\n",
       "      <td>1.0</td>\n",
       "      <td>83807.86</td>\n",
       "      <td>1</td>\n",
       "      <td>0</td>\n",
       "      <td>1</td>\n",
       "      <td>112542.58</td>\n",
       "      <td>0</td>\n",
       "      <td>False</td>\n",
       "      <td>True</td>\n",
       "      <td>False</td>\n",
       "    </tr>\n",
       "    <tr>\n",
       "      <th>2</th>\n",
       "      <td>502</td>\n",
       "      <td>42</td>\n",
       "      <td>8.0</td>\n",
       "      <td>159660.80</td>\n",
       "      <td>3</td>\n",
       "      <td>1</td>\n",
       "      <td>0</td>\n",
       "      <td>113931.57</td>\n",
       "      <td>1</td>\n",
       "      <td>False</td>\n",
       "      <td>False</td>\n",
       "      <td>False</td>\n",
       "    </tr>\n",
       "    <tr>\n",
       "      <th>3</th>\n",
       "      <td>699</td>\n",
       "      <td>39</td>\n",
       "      <td>1.0</td>\n",
       "      <td>0.00</td>\n",
       "      <td>2</td>\n",
       "      <td>0</td>\n",
       "      <td>0</td>\n",
       "      <td>93826.63</td>\n",
       "      <td>0</td>\n",
       "      <td>False</td>\n",
       "      <td>False</td>\n",
       "      <td>False</td>\n",
       "    </tr>\n",
       "    <tr>\n",
       "      <th>4</th>\n",
       "      <td>850</td>\n",
       "      <td>43</td>\n",
       "      <td>2.0</td>\n",
       "      <td>125510.82</td>\n",
       "      <td>1</td>\n",
       "      <td>1</td>\n",
       "      <td>1</td>\n",
       "      <td>79084.10</td>\n",
       "      <td>0</td>\n",
       "      <td>False</td>\n",
       "      <td>True</td>\n",
       "      <td>False</td>\n",
       "    </tr>\n",
       "  </tbody>\n",
       "</table>\n",
       "</div>"
      ],
      "text/plain": [
       "   CreditScore  Age  Tenure    Balance  NumOfProducts  HasCrCard  \\\n",
       "0          619   42     2.0       0.00              1          1   \n",
       "1          608   41     1.0   83807.86              1          0   \n",
       "2          502   42     8.0  159660.80              3          1   \n",
       "3          699   39     1.0       0.00              2          0   \n",
       "4          850   43     2.0  125510.82              1          1   \n",
       "\n",
       "   IsActiveMember  EstimatedSalary  Exited  Geography_Germany  \\\n",
       "0               1        101348.88       1              False   \n",
       "1               1        112542.58       0              False   \n",
       "2               0        113931.57       1              False   \n",
       "3               0         93826.63       0              False   \n",
       "4               1         79084.10       0              False   \n",
       "\n",
       "   Geography_Spain  Gender_Male  \n",
       "0            False        False  \n",
       "1             True        False  \n",
       "2            False        False  \n",
       "3            False        False  \n",
       "4             True        False  "
      ]
     },
     "execution_count": 11,
     "metadata": {},
     "output_type": "execute_result"
    }
   ],
   "source": [
    "# create dummies on categorical columns\n",
    "df_churn = pd.get_dummies(df_churn, drop_first=True)\n",
    "\n",
    "# displays the most recent sample dataset\n",
    "df_churn.head()"
   ]
  },
  {
   "cell_type": "markdown",
   "metadata": {},
   "source": [
    "We can apply `One Hot Encoder (OHE)`."
   ]
  },
  {
   "cell_type": "markdown",
   "metadata": {},
   "source": [
    "## Separating Features and Target from Dataset <a id='cont_9'></a>"
   ]
  },
  {
   "cell_type": "markdown",
   "metadata": {},
   "source": [
    "Here we will define the `Exited` column as `target` and the rest as `Features`."
   ]
  },
  {
   "cell_type": "code",
   "execution_count": 12,
   "metadata": {},
   "outputs": [
    {
     "name": "stdout",
     "output_type": "stream",
     "text": [
      "Features --> (10000, 11)\n",
      "Target --> (10000,)\n"
     ]
    }
   ],
   "source": [
    "# separate features and targets from the dataset\n",
    "features = df_churn. drop('Exited', axis=1)\n",
    "target = df_churn['Exited']\n",
    "\n",
    "print('Features -->', features.shape)\n",
    "print('Target -->', target.shape)"
   ]
  },
  {
   "cell_type": "markdown",
   "metadata": {},
   "source": [
    "Now we have `11 Features` and `1 Target`."
   ]
  },
  {
   "cell_type": "markdown",
   "metadata": {},
   "source": [
    "## Scaling Features <a id='cont_10'></a>"
   ]
  },
  {
   "cell_type": "markdown",
   "metadata": {},
   "source": [
    "Here we will `scaling` the numerical features to facilitate training in `machine learning models`. Let's check which numeric features we are `scaling`. Some big numeric features like 'CreditScore', 'Age', 'Balance', 'EstimatedSalary', but for 'Tenure' and 'NumOfProducts' we will review them."
   ]
  },
  {
   "cell_type": "code",
   "execution_count": 13,
   "metadata": {},
   "outputs": [
    {
     "name": "stdout",
     "output_type": "stream",
     "text": [
      "Tenure --> [ 2.  1.  8.  7.  4.  6.  3. 10.  5.  9.  0.]\n",
      "NumOfProducts --> [1 3 2 4]\n"
     ]
    }
   ],
   "source": [
    "# unique values in 'Tenure' and 'NumOfProducts' columns\n",
    "print('Tenure -->',features['Tenure'].unique())\n",
    "print('NumOfProducts -->',features['NumOfProducts'].unique())"
   ]
  },
  {
   "cell_type": "markdown",
   "metadata": {},
   "source": [
    "We can see that the classes in these two features don't have a wide enough range, so we won't do `scaling` on this column."
   ]
  },
  {
   "cell_type": "markdown",
   "metadata": {},
   "source": [
    "Next we do `scaling` for the 'CreditScore', 'Age', 'Balance', 'EstimatedSalary' features."
   ]
  },
  {
   "cell_type": "code",
   "execution_count": 14,
   "metadata": {},
   "outputs": [
    {
     "data": {
      "text/html": [
       "<div>\n",
       "<style scoped>\n",
       "    .dataframe tbody tr th:only-of-type {\n",
       "        vertical-align: middle;\n",
       "    }\n",
       "\n",
       "    .dataframe tbody tr th {\n",
       "        vertical-align: top;\n",
       "    }\n",
       "\n",
       "    .dataframe thead th {\n",
       "        text-align: right;\n",
       "    }\n",
       "</style>\n",
       "<table border=\"1\" class=\"dataframe\">\n",
       "  <thead>\n",
       "    <tr style=\"text-align: right;\">\n",
       "      <th></th>\n",
       "      <th>CreditScore</th>\n",
       "      <th>Age</th>\n",
       "      <th>Tenure</th>\n",
       "      <th>Balance</th>\n",
       "      <th>NumOfProducts</th>\n",
       "      <th>HasCrCard</th>\n",
       "      <th>IsActiveMember</th>\n",
       "      <th>EstimatedSalary</th>\n",
       "      <th>Geography_Germany</th>\n",
       "      <th>Geography_Spain</th>\n",
       "      <th>Gender_Male</th>\n",
       "    </tr>\n",
       "  </thead>\n",
       "  <tbody>\n",
       "    <tr>\n",
       "      <th>0</th>\n",
       "      <td>-0.326221</td>\n",
       "      <td>0.293517</td>\n",
       "      <td>2.0</td>\n",
       "      <td>-1.225848</td>\n",
       "      <td>1</td>\n",
       "      <td>1</td>\n",
       "      <td>1</td>\n",
       "      <td>0.021886</td>\n",
       "      <td>False</td>\n",
       "      <td>False</td>\n",
       "      <td>False</td>\n",
       "    </tr>\n",
       "    <tr>\n",
       "      <th>1</th>\n",
       "      <td>-0.440036</td>\n",
       "      <td>0.198164</td>\n",
       "      <td>1.0</td>\n",
       "      <td>0.117350</td>\n",
       "      <td>1</td>\n",
       "      <td>0</td>\n",
       "      <td>1</td>\n",
       "      <td>0.216534</td>\n",
       "      <td>False</td>\n",
       "      <td>True</td>\n",
       "      <td>False</td>\n",
       "    </tr>\n",
       "    <tr>\n",
       "      <th>2</th>\n",
       "      <td>-1.536794</td>\n",
       "      <td>0.293517</td>\n",
       "      <td>8.0</td>\n",
       "      <td>1.333053</td>\n",
       "      <td>3</td>\n",
       "      <td>1</td>\n",
       "      <td>0</td>\n",
       "      <td>0.240687</td>\n",
       "      <td>False</td>\n",
       "      <td>False</td>\n",
       "      <td>False</td>\n",
       "    </tr>\n",
       "    <tr>\n",
       "      <th>3</th>\n",
       "      <td>0.501521</td>\n",
       "      <td>0.007457</td>\n",
       "      <td>1.0</td>\n",
       "      <td>-1.225848</td>\n",
       "      <td>2</td>\n",
       "      <td>0</td>\n",
       "      <td>0</td>\n",
       "      <td>-0.108918</td>\n",
       "      <td>False</td>\n",
       "      <td>False</td>\n",
       "      <td>False</td>\n",
       "    </tr>\n",
       "    <tr>\n",
       "      <th>4</th>\n",
       "      <td>2.063884</td>\n",
       "      <td>0.388871</td>\n",
       "      <td>2.0</td>\n",
       "      <td>0.785728</td>\n",
       "      <td>1</td>\n",
       "      <td>1</td>\n",
       "      <td>1</td>\n",
       "      <td>-0.365276</td>\n",
       "      <td>False</td>\n",
       "      <td>True</td>\n",
       "      <td>False</td>\n",
       "    </tr>\n",
       "  </tbody>\n",
       "</table>\n",
       "</div>"
      ],
      "text/plain": [
       "   CreditScore       Age  Tenure   Balance  NumOfProducts  HasCrCard  \\\n",
       "0    -0.326221  0.293517     2.0 -1.225848              1          1   \n",
       "1    -0.440036  0.198164     1.0  0.117350              1          0   \n",
       "2    -1.536794  0.293517     8.0  1.333053              3          1   \n",
       "3     0.501521  0.007457     1.0 -1.225848              2          0   \n",
       "4     2.063884  0.388871     2.0  0.785728              1          1   \n",
       "\n",
       "   IsActiveMember  EstimatedSalary  Geography_Germany  Geography_Spain  \\\n",
       "0               1         0.021886              False            False   \n",
       "1               1         0.216534              False             True   \n",
       "2               0         0.240687              False            False   \n",
       "3               0        -0.108918              False            False   \n",
       "4               1        -0.365276              False             True   \n",
       "\n",
       "   Gender_Male  \n",
       "0        False  \n",
       "1        False  \n",
       "2        False  \n",
       "3        False  \n",
       "4        False  "
      ]
     },
     "execution_count": 14,
     "metadata": {},
     "output_type": "execute_result"
    }
   ],
   "source": [
    "# scale features using 'StandardScaler'\n",
    "numeric = ['CreditScore','Age','Balance','EstimatedSalary']\n",
    "features[numeric] = StandardScaler().fit_transform(features[numeric])\n",
    "\n",
    "# displays feature samples\n",
    "features.head()"
   ]
  },
  {
   "cell_type": "markdown",
   "metadata": {},
   "source": [
    "We have finished `scaling` these features."
   ]
  },
  {
   "cell_type": "markdown",
   "metadata": {},
   "source": [
    "## Class Balance <a id='cont_11'></a>"
   ]
  },
  {
   "cell_type": "markdown",
   "metadata": {},
   "source": [
    "To find out whether our dataset is balanced or unbalanced, we can find out in the `target` column. Let's find out."
   ]
  },
  {
   "cell_type": "code",
   "execution_count": 15,
   "metadata": {},
   "outputs": [
    {
     "data": {
      "text/plain": [
       "Exited\n",
       "0    0.7963\n",
       "1    0.2037\n",
       "Name: proportion, dtype: float64"
      ]
     },
     "execution_count": 15,
     "metadata": {},
     "output_type": "execute_result"
    }
   ],
   "source": [
    "# check the balance of the dataset using the target column\n",
    "target.value_counts(normalize=True)"
   ]
  },
  {
   "cell_type": "markdown",
   "metadata": {},
   "source": [
    "It can be seen that the dataset we have is in fact unbalanced where the proportion of `class 0` is far more than `class 1`."
   ]
  },
  {
   "cell_type": "markdown",
   "metadata": {},
   "source": [
    "## Splitting Dataset <a id='cont_12'></a>"
   ]
  },
  {
   "cell_type": "markdown",
   "metadata": {},
   "source": [
    "Since we only have one dataset, we will divide it into two groups to create a `machine learning model`. The division is broken down into `80%` dataset for `training` and `20%` dataset for `validation`."
   ]
  },
  {
   "cell_type": "code",
   "execution_count": 16,
   "metadata": {},
   "outputs": [
    {
     "name": "stdout",
     "output_type": "stream",
     "text": [
      "feature train --> (8000, 11)\n",
      "feature valid --> (2000, 11)\n",
      "target train --> (8000,)\n",
      "valid target --> (2000,)\n"
     ]
    }
   ],
   "source": [
    "# divide the dataset into two kinds with training portion(80%) and validation(20%)\n",
    "features_train, features_valid, target_train, target_valid = train_test_split(features, target, test_size=0.20, random_state=12345)\n",
    "\n",
    "# displays the shape of the variable above\n",
    "print('feature train -->', features_train.shape)\n",
    "print('feature valid -->', features_valid.shape)\n",
    "print('target train -->', target_train.shape)\n",
    "print('valid target -->', target_valid.shape)"
   ]
  },
  {
   "cell_type": "markdown",
   "metadata": {},
   "source": [
    "We have succeeded in splitting the dataset according to the percentage."
   ]
  },
  {
   "cell_type": "markdown",
   "metadata": {},
   "source": [
    "# Application of Machine Learning Models <a id='cont_13'></a>"
   ]
  },
  {
   "cell_type": "markdown",
   "metadata": {},
   "source": [
    "Next, we will create a `model` and `test` it using an algorithm that is suitable for this type of classification analysis including:\n",
    "- Decision Tree Classification Algorithm\n",
    "- Random Forest Classification Algorithm\n",
    "- Logistic Regression Algorithm\n",
    "\n",
    "The metrics used to test the quality of the model that we will apply include:\n",
    "- F1 Score\n",
    "- AUC-ROC"
   ]
  },
  {
   "cell_type": "markdown",
   "metadata": {},
   "source": [
    "### Decision Tree Classification Algorithm <a id='cont_14'></a>"
   ]
  },
  {
   "cell_type": "markdown",
   "metadata": {},
   "source": [
    "Here we will find out the optimal `depth` for the Classification Decision Tree Algorithm. We set the depth from 1 to 50."
   ]
  },
  {
   "cell_type": "code",
   "execution_count": 17,
   "metadata": {},
   "outputs": [
    {
     "name": "stdout",
     "output_type": "stream",
     "text": [
      "Best Model (Decision Tree)\n",
      "Depth --> 5\n",
      "F1 Score --> 0.5632183908045977\n",
      "AUC_ROC --> 0.8451183689633763\n"
     ]
    }
   ],
   "source": [
    "# trial decision tree algorithm\n",
    "\n",
    "# create a temporary variable\n",
    "f1_best = 0\n",
    "AUC_ROC_best = 0\n",
    "depth_best = 0\n",
    "\n",
    "# testing the depth of the decision tree model (depth -> 1 ~ 50)\n",
    "for depth in range(1, 51):\n",
    "    # create a decision tree model\n",
    "    model = DecisionTreeClassifier(random_state=12345, max_depth=depth)\n",
    "    # train the model using features and target train\n",
    "    model.fit(features_train, target_train)\n",
    "    # model predictions\n",
    "    predict = model. predict(features_valid)\n",
    "    predict_proba = model.predict_proba(features_valid)\n",
    "    predict_one_valid = predict_proba[:,1]\n",
    "    # calculate F1 and AUC_ROC using features and target validation\n",
    "    f1 = f1_score(target_valid,predict)\n",
    "    AUC_ROC = roc_auc_score(target_valid,predict_one_valid)\n",
    "\n",
    "    if f1 > f1_best and AUC_ROC > AUC_ROC_best:\n",
    "        f1_best = f1\n",
    "        AUC_ROC_best = AUC_ROC\n",
    "        depth_best = depth\n",
    "\n",
    "# displays the output\n",
    "print(\"Best Model (Decision Tree)\")\n",
    "print('Depth -->', depth_best)\n",
    "print('F1 Score -->', f1_best)\n",
    "print('AUC_ROC -->', AUC_ROC_best)"
   ]
  },
  {
   "cell_type": "markdown",
   "metadata": {},
   "source": [
    "From this we can see that the optimal depth is at `depth=5` where the quality of the model produces `F1 Score = 0.56` and `AUC_ROC=0.84`."
   ]
  },
  {
   "cell_type": "markdown",
   "metadata": {},
   "source": [
    "### Random Forest Classification Algorithm <a id='cont_15'></a>"
   ]
  },
  {
   "cell_type": "markdown",
   "metadata": {},
   "source": [
    "In the same way, we set the tree depth (`depth`) from 1 to 20, while the number of trees (`n_estimators`) we set from 1 to 60."
   ]
  },
  {
   "cell_type": "code",
   "execution_count": 18,
   "metadata": {},
   "outputs": [
    {
     "name": "stdout",
     "output_type": "stream",
     "text": [
      "Best Model (Random Forest)\n",
      "Depth --> 10\n",
      "Trees --> 21\n",
      "F1 Score --> 0.5523520485584218\n",
      "AUC_ROC --> 0.863364653230525\n"
     ]
    }
   ],
   "source": [
    "# trial random forest algorithm\n",
    "# tree depth: depth -> 1 ~ 20\n",
    "# number of trees: n_estimators -> 1 ~ 60 {increment 10}\n",
    "\n",
    "# create temporary\n",
    "f1_best = 0\n",
    "AUC_ROC_best = 0\n",
    "depth_best = 0\n",
    "estimators_best = 0\n",
    "\n",
    "# testing the depth of the model and the number of trees\n",
    "# setting the number of trees\n",
    "for est in range(1, 61, 10):\n",
    "     # setting the amount of tree depth\n",
    "     for depth in range(1, 21):\n",
    "         # create a random forest classifier model\n",
    "         model = RandomForestClassifier(random_state=12345, n_estimators=est, max_depth=depth)\n",
    "         # train the model using features and target train\n",
    "         model.fit(features_train, target_train)\n",
    "         predict = model. predict(features_valid)\n",
    "         predict_proba = model.predict_proba(features_valid)\n",
    "         predict_one_valid = predict_proba[:,1]\n",
    "         # calculate F1 and AUC_ROC using features and target validation\n",
    "         f1 = f1_score(target_valid,predict)\n",
    "         AUC_ROC = roc_auc_score(target_valid,predict_one_valid)\n",
    "\n",
    "         if f1 > f1_best and AUC_ROC > AUC_ROC_best:\n",
    "             f1_best = f1\n",
    "             AUC_ROC_best = AUC_ROC\n",
    "             depth_best = depth\n",
    "             estimators_best = est\n",
    "\n",
    "# displays the output\n",
    "print(\"Best Model (Random Forest)\")\n",
    "print('Depth -->', depth_best)\n",
    "print('Trees -->', estimators_best)\n",
    "print('F1 Score -->', f1_best)\n",
    "print('AUC_ROC -->', AUC_ROC_best)"
   ]
  },
  {
   "cell_type": "markdown",
   "metadata": {},
   "source": [
    "From this we can see that the optimal depth is at `depth=10` and the optimal number of trees is at `n_estimators=21` where the quality of the model produces `F1 Score = 0.55` and `AUC_ROC=0.86`."
   ]
  },
  {
   "cell_type": "markdown",
   "metadata": {},
   "source": [
    "### Logistic Regression Algorithm <a id='cont_16'></a>"
   ]
  },
  {
   "cell_type": "markdown",
   "metadata": {},
   "source": [
    "In the same way, we will test the `logistic regression algorithm` using the 'liblinear' `solver`."
   ]
  },
  {
   "cell_type": "code",
   "execution_count": 19,
   "metadata": {},
   "outputs": [
    {
     "name": "stdout",
     "output_type": "stream",
     "text": [
      "Logistic Regression Model\n",
      "F1 Score --> 0.2857142857142857\n",
      "AUC_ROC --> 0.7575881644436042\n"
     ]
    }
   ],
   "source": [
    "# logistic regression algorithm trials\n",
    "\n",
    "# create a logistic regression model\n",
    "model = LogisticRegression(random_state=12345, solver='liblinear')\n",
    "\n",
    "# train the model using features and target train\n",
    "model.fit(features_train, target_train)\n",
    "\n",
    "# calculate accuracy using features and target validation\n",
    "predict = model.predict(features_valid)\n",
    "predict_proba = model.predict_proba(features_valid)\n",
    "predict_one_valid = predict_proba[:,1]\n",
    "\n",
    "# calculate F1 Score and AUC_ROC\n",
    "f1 = f1_score(target_valid,predict)\n",
    "AUC_ROC = roc_auc_score(target_valid,predict_one_valid)\n",
    "\n",
    "# displays the output\n",
    "print(\"Logistic Regression Model\")\n",
    "print('F1 Score -->', f1)\n",
    "print('AUC_ROC -->', AUC_ROC)"
   ]
  },
  {
   "cell_type": "markdown",
   "metadata": {},
   "source": [
    "From here we can see that the quality of the model produces `F1 Score = 0.28` and `AUC_ROC=0.76`."
   ]
  },
  {
   "cell_type": "markdown",
   "metadata": {},
   "source": [
    "Of the three models, what we will choose as the best algorithm is the `random forest` algorithm with the best `hyperparamater` at `depth=10` and `n_estimators=21`."
   ]
  },
  {
   "cell_type": "markdown",
   "metadata": {},
   "source": [
    "# Optimization of Machine Learning Models <a id='cont_17'></a>"
   ]
  },
  {
   "cell_type": "markdown",
   "metadata": {},
   "source": [
    "Based on previous information that the dataset we have has an unbalanced class (`imbalance`), so the model is trained which is less than optimal. Let's optimize the dataset so that it becomes balanced (`balance`) and the `F1 Score` goes beyond the `threshold` set at `0.59`."
   ]
  },
  {
   "cell_type": "markdown",
   "metadata": {},
   "source": [
    "## Overcoming Unbalanced Classes (Imbalance) <a id='cont_18'></a>"
   ]
  },
  {
   "cell_type": "markdown",
   "metadata": {},
   "source": [
    "The method that we will use to balance the dataset is `upsampling technique`, `downsampling` on the dataset and also enabling `class_weight = 'balanced'` in the model.\n",
    "\n",
    "`Class 0` has far more numbers than `Class 1`, so we will double `Class 1` and reduce `Class 0`. Let's create a function."
   ]
  },
  {
   "cell_type": "code",
   "execution_count": 20,
   "metadata": {},
   "outputs": [],
   "source": [
    "# upsampling and downsampling the dataset\n",
    "\n",
    "def up_down(feature,target,repeat,fraction):\n",
    "    features_zero = feature[target == 0]\n",
    "    feature_one = feature[target == 1]\n",
    "    target_zero = target[target == 0]\n",
    "    target_one = target[target == 1]\n",
    "\n",
    "    # downsampling dataset\n",
    "    down_1 = features_zero.sample(frac=fraction,random_state=12345)\n",
    "    down_2 = target_zero.sample(frac=fraction,random_state=12345)\n",
    "\n",
    "    # upsampling dataset\n",
    "    temp_1 = pd.concat([down_1] + [feature_one]*repeat)\n",
    "    temp_2 = pd.concat([down_2] + [target_one]*repeat)\n",
    "\n",
    "    # scramble data\n",
    "    features_new, target_new = shuffle(temp_1, temp_2, random_state=12345)\n",
    "\n",
    "    return features_new, target_new"
   ]
  },
  {
   "cell_type": "markdown",
   "metadata": {},
   "source": [
    "Next, let's create a new features and target. For balance let's multiply `Class 1` by `2x` and we `reduce 50%` on `Class 0`."
   ]
  },
  {
   "cell_type": "code",
   "execution_count": 21,
   "metadata": {},
   "outputs": [
    {
     "data": {
      "text/plain": [
       "Exited\n",
       "1    0.501949\n",
       "0    0.498051\n",
       "Name: proportion, dtype: float64"
      ]
     },
     "execution_count": 21,
     "metadata": {},
     "output_type": "execute_result"
    }
   ],
   "source": [
    "# apply to already created function repeat=2, fraction=50%\n",
    "features_updown, target_updown = up_down(features_train, target_train, 2, 0.5)\n",
    "\n",
    "# re-check the balance of the dataset on the target\n",
    "target_updown.value_counts(normalize=True)"
   ]
  },
  {
   "cell_type": "markdown",
   "metadata": {},
   "source": [
    "It has been seen that the new `Class 1` and `Class 0` are very close to being in balance (`balance`)."
   ]
  },
  {
   "cell_type": "markdown",
   "metadata": {},
   "source": [
    "## Best Model Quality Metric (Optimized Model) <a id='cont_19'></a>"
   ]
  },
  {
   "cell_type": "markdown",
   "metadata": {},
   "source": [
    "Next, we create an optimal model and test it using a balanced dataset (`balance`). We use the `Random Forest Algorithm` for `depth=10` and `n_estimators=21` and enable `class_weight = 'balanced'`."
   ]
  },
  {
   "cell_type": "code",
   "execution_count": 22,
   "metadata": {},
   "outputs": [
    {
     "data": {
      "text/html": [
       "<style>#sk-container-id-1 {color: black;}#sk-container-id-1 pre{padding: 0;}#sk-container-id-1 div.sk-toggleable {background-color: white;}#sk-container-id-1 label.sk-toggleable__label {cursor: pointer;display: block;width: 100%;margin-bottom: 0;padding: 0.3em;box-sizing: border-box;text-align: center;}#sk-container-id-1 label.sk-toggleable__label-arrow:before {content: \"▸\";float: left;margin-right: 0.25em;color: #696969;}#sk-container-id-1 label.sk-toggleable__label-arrow:hover:before {color: black;}#sk-container-id-1 div.sk-estimator:hover label.sk-toggleable__label-arrow:before {color: black;}#sk-container-id-1 div.sk-toggleable__content {max-height: 0;max-width: 0;overflow: hidden;text-align: left;background-color: #f0f8ff;}#sk-container-id-1 div.sk-toggleable__content pre {margin: 0.2em;color: black;border-radius: 0.25em;background-color: #f0f8ff;}#sk-container-id-1 input.sk-toggleable__control:checked~div.sk-toggleable__content {max-height: 200px;max-width: 100%;overflow: auto;}#sk-container-id-1 input.sk-toggleable__control:checked~label.sk-toggleable__label-arrow:before {content: \"▾\";}#sk-container-id-1 div.sk-estimator input.sk-toggleable__control:checked~label.sk-toggleable__label {background-color: #d4ebff;}#sk-container-id-1 div.sk-label input.sk-toggleable__control:checked~label.sk-toggleable__label {background-color: #d4ebff;}#sk-container-id-1 input.sk-hidden--visually {border: 0;clip: rect(1px 1px 1px 1px);clip: rect(1px, 1px, 1px, 1px);height: 1px;margin: -1px;overflow: hidden;padding: 0;position: absolute;width: 1px;}#sk-container-id-1 div.sk-estimator {font-family: monospace;background-color: #f0f8ff;border: 1px dotted black;border-radius: 0.25em;box-sizing: border-box;margin-bottom: 0.5em;}#sk-container-id-1 div.sk-estimator:hover {background-color: #d4ebff;}#sk-container-id-1 div.sk-parallel-item::after {content: \"\";width: 100%;border-bottom: 1px solid gray;flex-grow: 1;}#sk-container-id-1 div.sk-label:hover label.sk-toggleable__label {background-color: #d4ebff;}#sk-container-id-1 div.sk-serial::before {content: \"\";position: absolute;border-left: 1px solid gray;box-sizing: border-box;top: 0;bottom: 0;left: 50%;z-index: 0;}#sk-container-id-1 div.sk-serial {display: flex;flex-direction: column;align-items: center;background-color: white;padding-right: 0.2em;padding-left: 0.2em;position: relative;}#sk-container-id-1 div.sk-item {position: relative;z-index: 1;}#sk-container-id-1 div.sk-parallel {display: flex;align-items: stretch;justify-content: center;background-color: white;position: relative;}#sk-container-id-1 div.sk-item::before, #sk-container-id-1 div.sk-parallel-item::before {content: \"\";position: absolute;border-left: 1px solid gray;box-sizing: border-box;top: 0;bottom: 0;left: 50%;z-index: -1;}#sk-container-id-1 div.sk-parallel-item {display: flex;flex-direction: column;z-index: 1;position: relative;background-color: white;}#sk-container-id-1 div.sk-parallel-item:first-child::after {align-self: flex-end;width: 50%;}#sk-container-id-1 div.sk-parallel-item:last-child::after {align-self: flex-start;width: 50%;}#sk-container-id-1 div.sk-parallel-item:only-child::after {width: 0;}#sk-container-id-1 div.sk-dashed-wrapped {border: 1px dashed gray;margin: 0 0.4em 0.5em 0.4em;box-sizing: border-box;padding-bottom: 0.4em;background-color: white;}#sk-container-id-1 div.sk-label label {font-family: monospace;font-weight: bold;display: inline-block;line-height: 1.2em;}#sk-container-id-1 div.sk-label-container {text-align: center;}#sk-container-id-1 div.sk-container {/* jupyter's `normalize.less` sets `[hidden] { display: none; }` but bootstrap.min.css set `[hidden] { display: none !important; }` so we also need the `!important` here to be able to override the default hidden behavior on the sphinx rendered scikit-learn.org. See: https://github.com/scikit-learn/scikit-learn/issues/21755 */display: inline-block !important;position: relative;}#sk-container-id-1 div.sk-text-repr-fallback {display: none;}</style><div id=\"sk-container-id-1\" class=\"sk-top-container\"><div class=\"sk-text-repr-fallback\"><pre>RandomForestClassifier(class_weight=&#x27;balanced&#x27;, max_depth=10, n_estimators=21,\n",
       "                       random_state=12345)</pre><b>In a Jupyter environment, please rerun this cell to show the HTML representation or trust the notebook. <br />On GitHub, the HTML representation is unable to render, please try loading this page with nbviewer.org.</b></div><div class=\"sk-container\" hidden><div class=\"sk-item\"><div class=\"sk-estimator sk-toggleable\"><input class=\"sk-toggleable__control sk-hidden--visually\" id=\"sk-estimator-id-1\" type=\"checkbox\" checked><label for=\"sk-estimator-id-1\" class=\"sk-toggleable__label sk-toggleable__label-arrow\">RandomForestClassifier</label><div class=\"sk-toggleable__content\"><pre>RandomForestClassifier(class_weight=&#x27;balanced&#x27;, max_depth=10, n_estimators=21,\n",
       "                       random_state=12345)</pre></div></div></div></div></div>"
      ],
      "text/plain": [
       "RandomForestClassifier(class_weight='balanced', max_depth=10, n_estimators=21,\n",
       "                       random_state=12345)"
      ]
     },
     "execution_count": 22,
     "metadata": {},
     "output_type": "execute_result"
    }
   ],
   "source": [
    "# create a random forest model with balancing weights\n",
    "#n_estimators = 21\n",
    "# depth = 10\n",
    "\n",
    "model = RandomForestClassifier(\n",
    "     random_state = 12345,\n",
    "     n_estimators = 21,\n",
    "     max_depth = 10,\n",
    "     class_weight = 'balanced'\n",
    "     )\n",
    "\n",
    "# train the model using the new dataset\n",
    "model.fit(features_updown, target_updown)"
   ]
  },
  {
   "cell_type": "markdown",
   "metadata": {},
   "source": [
    "Let's train the best model as well as test their quality."
   ]
  },
  {
   "cell_type": "code",
   "execution_count": 23,
   "metadata": {},
   "outputs": [
    {
     "name": "stdout",
     "output_type": "stream",
     "text": [
      "Optimize Model (Random Forest)\n",
      "F1 Score --> 0.6252465483234714\n",
      "AUC_ROC --> 0.857552283781792\n"
     ]
    }
   ],
   "source": [
    "# make predictions based on the model\n",
    "predict = model.predict(features_valid)\n",
    "predict_proba = model.predict_proba(features_valid)\n",
    "predict_one_valid = predict_proba[:,1]\n",
    "\n",
    "# create f1 score and AUC_ROC\n",
    "f1 = f1_score(target_valid,predict)\n",
    "AUC_ROC = roc_auc_score(target_valid,predict_one_valid)\n",
    "\n",
    "print(\"Optimize Model (Random Forest)\")\n",
    "print('F1 Score -->', f1)\n",
    "print('AUC_ROC -->', AUC_ROC)"
   ]
  },
  {
   "cell_type": "markdown",
   "metadata": {},
   "source": [
    "Now our model has a `F1 Score` of `0.62` which exceeds the `threshold` set of `0.59`."
   ]
  },
  {
   "cell_type": "markdown",
   "metadata": {},
   "source": [
    "# General Conclusion <a id='cont_20'></a>"
   ]
  },
  {
   "cell_type": "markdown",
   "metadata": {},
   "source": [
    "From this project, we have loaded the necessary libraries, prepared the dataset, divided the dataset, trained and tested the `machine learning` model, and optimized the model by overcoming the `imbalance` in the dataset. It can be concluded as follows:\n",
    "- Dataset division for training and testing `machine learning` models is divided into `80%` for `training` and `20%` for `validation`.\n",
    "- Algorithms tested include: `Decision Tree Classification`, `Random Forest Classification`, and `Logistic Regression`.\n",
    "- The best algorithm with `hyperparameter` is `Random Forest Classification Algorithm` with `hyperparameter` for `depth=10` and `n_estimators=21` with quality `F1 Score` of `0.55` and `AUC_ROC` of `0.86`.\n",
    "- Methods for overcoming class imbalances, namely `upsampling technique`, `downsampling` in the dataset, and also enabling `class_weight = 'balanced'` in the model.\n",
    "- The quality of the model produced after optimization produces an `F1 score` of `0.62` which exceeds the `threshold` set at `0.59`."
   ]
  }
 ],
 "metadata": {
  "kernelspec": {
   "display_name": "Python 3 (ipykernel)",
   "language": "python",
   "name": "python3"
  },
  "language_info": {
   "codemirror_mode": {
    "name": "ipython",
    "version": 3
   },
   "file_extension": ".py",
   "mimetype": "text/x-python",
   "name": "python",
   "nbconvert_exporter": "python",
   "pygments_lexer": "ipython3",
   "version": "3.11.5"
  },
  "toc": {
   "base_numbering": 1,
   "nav_menu": {},
   "number_sections": true,
   "sideBar": true,
   "skip_h1_title": true,
   "title_cell": "Table of Contents",
   "title_sidebar": "Contents",
   "toc_cell": false,
   "toc_position": {},
   "toc_section_display": true,
   "toc_window_display": false
  }
 },
 "nbformat": 4,
 "nbformat_minor": 2
}
