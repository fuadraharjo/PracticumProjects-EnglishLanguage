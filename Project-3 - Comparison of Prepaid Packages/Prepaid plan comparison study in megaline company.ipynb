{
 "cells": [
  {
   "attachments": {},
   "cell_type": "markdown",
   "metadata": {},
   "source": [
    "# Prepaid Plan Comparison Study: Surf vs. Ultimate in Megaline Company <a id='intro'></a>\n",
    "\n",
    "An analyst at the telecom operator company `Megaline` was asked by the company to analyze two types of prepaid packages, namely `Surf` packages and `Ultimate` packages. The company's advertising department wanted to know which prepaid plans generated more revenue, so they could create an appropriate advertising budget.\n",
    "\n",
    "We will conduct an initial analysis of these prepaid packages based on a relatively small sample of clients. we have 500 `Megaline` client data, which contains information such as: who they are, where they come from, what kind of package they use, and the number of calls and messages they sent in 2018. Our task is to analyze the behavior of the users, then determine which prepaid package is more profitable for `Megaline` companies."
   ]
  },
  {
   "attachments": {},
   "cell_type": "markdown",
   "metadata": {},
   "source": [
    "The dataset owned by the company `Megaline` includes `'calls'`, `'internet'`, `'messages'`, `'plans'` and `'users'` which all contain important information for the analysis of this project. The purpose of this project is not only to find the most revenue from the two prepaid packages, but also to analyze user behavior such as 'call duration', 'number of sms' and 'amount of internet data usage' towards the two prepaid packages. Several hypotheses are proposed as follows:\n",
    "- Is it true that `call duration` category from `Surf Plan` in a month is the most in number?\n",
    "- Is it true that `sms count` category from `Surf Plan` in a month is the most in number?\n",
    "- Is it true that the average amount of internet data usage per month for both types of `Prepaid Packages` is around `16 GB`?\n",
    "- Is it true that the highest amount of revenue from users per month belongs to the `Ultimate Plan`?\n",
    "- Is it true that the Average Income of Ultimate and Surf Prepaid Package Users is Different?\n",
    "- Is the Average Income of Users in the NY-NJ Region Different from Other Regions?"
   ]
  },
  {
   "attachments": {},
   "cell_type": "markdown",
   "metadata": {},
   "source": [
    "# Content <a id='back'></a>\n",
    "\n",
    "* [Intro](#intro)\n",
    "* [Stage 1. Initialization](#cont_1)\n",
    "* [Stage 2. Load Data](#cont_2)\n",
    "* [Stage 3. Preparing Data](#cont_3)\n",
    "     * [3.1 Prepaid Package](#cont_4)\n",
    "     * [3.2 Users](#cont_5)\n",
    "         * [3.2.1 Fixed Data](#cont_6)\n",
    "         * [3.2.2 Enrich Data Quality](#cont_7)\n",
    "     * [3.3 Call](#cont_8)\n",
    "         * [3.3.1 Fixed Data](#cont_9)\n",
    "         * [3.3.2 Enrich Data Quality](#cont_10)\n",
    "     * [3.4 Messaging/SMS](#cont_11)\n",
    "         * [3.4.1 Fixed Data](#cont_12)\n",
    "         * [3.4.2 Enrich Data Quality](#cont_13)\n",
    "     * [3.5 Internet](#cont_14)\n",
    "         * [3.5.1 Fixed Data](#cont_15)\n",
    "         * [3.5.2 Enrich Data Quality](#cont_16)\n",
    "* [Step 4. Studying Terms and Conditions Regarding Prepaid Packages](#cont_17)\n",
    "* [Step 5. Aggregating Data per User](#cont_18)\n",
    "* [Step 6. Studying User Behavior](#cont_19)\n",
    "     * [6.1 Call](#cont_20)\n",
    "     * [6.2 Messaging/SMS](#cont_21)\n",
    "     * [6.3 Internet](#cont_22)\n",
    "* [Stage 7. Income](#cont_23)\n",
    "* [Step 8. Testing Statistical Hypotheses](#cont_24)\n",
    "     * [8.1 Hypothesis Testing 1: The Average Income of Ultimate and Surf Prepaid Package Users Is Different](#cont_25)\n",
    "     * [8.2 Hypothesis Test 2: The Average Revenue of Users in the NY-NJ Region Differs from the Earnings of Users from Other Regions](#cont_26)\n",
    "* [Step 9. General Conclusion](#cont_27)"
   ]
  },
  {
   "attachments": {},
   "cell_type": "markdown",
   "metadata": {},
   "source": [
    "## Initialization <a id= 'cont_1' ></a>"
   ]
  },
  {
   "attachments": {},
   "cell_type": "markdown",
   "metadata": {},
   "source": [
    "Some of the libraries used to complete this project are `pandas`, `numpy`, `matplotlib`, `seaborn`, `math` and `scypi` with explanations in them."
   ]
  },
  {
   "cell_type": "code",
   "execution_count": 581,
   "metadata": {},
   "outputs": [],
   "source": [
    "# load all libraries\n",
    "import pandas as pd # process dataframe\n",
    "import numpy as np # process descriptive statistics\n",
    "import matplotlib.pyplot as plt # visualize data\n",
    "import seaborn as sns # visualize data\n",
    "import math as mt # add math functions\n",
    "from scipy import stats as st # processing hypotheses\n",
    "\n",
    "# seaborn theme set\n",
    "sns.set_theme(palette='bright')"
   ]
  },
  {
   "attachments": {},
   "cell_type": "markdown",
   "metadata": {},
   "source": [
    "## Load Data <a id= 'cont_2' ></a>"
   ]
  },
  {
   "attachments": {},
   "cell_type": "markdown",
   "metadata": {},
   "source": [
    "Megaline divides data by group into several groups including: `calls`, `internet`, `messages`, `plans` and `users`. Now we will load it into `notebook`."
   ]
  },
  {
   "cell_type": "code",
   "execution_count": 582,
   "metadata": {},
   "outputs": [],
   "source": [
    "# load data files into different DataFrames\n",
    "calls = pd.read_csv('megaline_calls.csv')\n",
    "internet = pd.read_csv('megaline_internet.csv')\n",
    "messages = pd.read_csv('megaline_messages.csv')\n",
    "plans = pd.read_csv('megaline_plans.csv')\n",
    "users = pd.read_csv('megaline_users.csv')"
   ]
  },
  {
   "attachments": {},
   "cell_type": "markdown",
   "metadata": {},
   "source": [
    "## Preparing Data <a id= 'cont_3' ></a>"
   ]
  },
  {
   "attachments": {},
   "cell_type": "markdown",
   "metadata": {},
   "source": [
    "Next, let's prepare the data starting from checking the `data type`, `duplicate`, `blank value` and adding a few additional columns to facilitate analysis."
   ]
  },
  {
   "attachments": {},
   "cell_type": "markdown",
   "metadata": {},
   "source": [
    "## Prepaid Package <a id= 'cont_4' ></a>"
   ]
  },
  {
   "attachments": {},
   "cell_type": "markdown",
   "metadata": {},
   "source": [
    "We will display information from the `plans` data group as follows:"
   ]
  },
  {
   "cell_type": "code",
   "execution_count": 583,
   "metadata": {},
   "outputs": [
    {
     "name": "stdout",
     "output_type": "stream",
     "text": [
      "<class 'pandas.core.frame.DataFrame'>\n",
      "RangeIndex: 2 entries, 0 to 1\n",
      "Data columns (total 8 columns):\n",
      " #   Column                 Non-Null Count  Dtype  \n",
      "---  ------                 --------------  -----  \n",
      " 0   messages_included      2 non-null      int64  \n",
      " 1   mb_per_month_included  2 non-null      int64  \n",
      " 2   minutes_included       2 non-null      int64  \n",
      " 3   usd_monthly_pay        2 non-null      int64  \n",
      " 4   usd_per_gb             2 non-null      int64  \n",
      " 5   usd_per_message        2 non-null      float64\n",
      " 6   usd_per_minute         2 non-null      float64\n",
      " 7   plan_name              2 non-null      object \n",
      "dtypes: float64(2), int64(5), object(1)\n",
      "memory usage: 260.0+ bytes\n"
     ]
    }
   ],
   "source": [
    "# displays general information/summary about DataFrame prepaid packages\n",
    "plans.info()"
   ]
  },
  {
   "cell_type": "code",
   "execution_count": 584,
   "metadata": {},
   "outputs": [
    {
     "data": {
      "text/html": [
       "<div>\n",
       "<style scoped>\n",
       "    .dataframe tbody tr th:only-of-type {\n",
       "        vertical-align: middle;\n",
       "    }\n",
       "\n",
       "    .dataframe tbody tr th {\n",
       "        vertical-align: top;\n",
       "    }\n",
       "\n",
       "    .dataframe thead th {\n",
       "        text-align: right;\n",
       "    }\n",
       "</style>\n",
       "<table border=\"1\" class=\"dataframe\">\n",
       "  <thead>\n",
       "    <tr style=\"text-align: right;\">\n",
       "      <th></th>\n",
       "      <th>messages_included</th>\n",
       "      <th>mb_per_month_included</th>\n",
       "      <th>minutes_included</th>\n",
       "      <th>usd_monthly_pay</th>\n",
       "      <th>usd_per_gb</th>\n",
       "      <th>usd_per_message</th>\n",
       "      <th>usd_per_minute</th>\n",
       "      <th>plan_name</th>\n",
       "    </tr>\n",
       "  </thead>\n",
       "  <tbody>\n",
       "    <tr>\n",
       "      <th>0</th>\n",
       "      <td>50</td>\n",
       "      <td>15360</td>\n",
       "      <td>500</td>\n",
       "      <td>20</td>\n",
       "      <td>10</td>\n",
       "      <td>0.03</td>\n",
       "      <td>0.03</td>\n",
       "      <td>surf</td>\n",
       "    </tr>\n",
       "    <tr>\n",
       "      <th>1</th>\n",
       "      <td>1000</td>\n",
       "      <td>30720</td>\n",
       "      <td>3000</td>\n",
       "      <td>70</td>\n",
       "      <td>7</td>\n",
       "      <td>0.01</td>\n",
       "      <td>0.01</td>\n",
       "      <td>ultimate</td>\n",
       "    </tr>\n",
       "  </tbody>\n",
       "</table>\n",
       "</div>"
      ],
      "text/plain": [
       "   messages_included  mb_per_month_included  minutes_included   \n",
       "0                 50                  15360               500  \\\n",
       "1               1000                  30720              3000   \n",
       "\n",
       "   usd_monthly_pay  usd_per_gb  usd_per_message  usd_per_minute plan_name  \n",
       "0               20          10             0.03            0.03      surf  \n",
       "1               70           7             0.01            0.01  ultimate  "
      ]
     },
     "execution_count": 584,
     "metadata": {},
     "output_type": "execute_result"
    }
   ],
   "source": [
    "# displays sample data for the packages\n",
    "plans.head()"
   ]
  },
  {
   "attachments": {},
   "cell_type": "markdown",
   "metadata": {},
   "source": [
    "From the information above it shows that the data is good enough such as `data type`, `duplicate`, `missing value` and other information so no improvement is needed on the data."
   ]
  },
  {
   "attachments": {},
   "cell_type": "markdown",
   "metadata": {},
   "source": [
    "## User <a id= 'cont_5' ></a>"
   ]
  },
  {
   "cell_type": "code",
   "execution_count": 585,
   "metadata": {},
   "outputs": [
    {
     "name": "stdout",
     "output_type": "stream",
     "text": [
      "<class 'pandas.core.frame.DataFrame'>\n",
      "RangeIndex: 500 entries, 0 to 499\n",
      "Data columns (total 8 columns):\n",
      " #   Column      Non-Null Count  Dtype \n",
      "---  ------      --------------  ----- \n",
      " 0   user_id     500 non-null    int64 \n",
      " 1   first_name  500 non-null    object\n",
      " 2   last_name   500 non-null    object\n",
      " 3   age         500 non-null    int64 \n",
      " 4   city        500 non-null    object\n",
      " 5   reg_date    500 non-null    object\n",
      " 6   plan        500 non-null    object\n",
      " 7   churn_date  34 non-null     object\n",
      "dtypes: int64(2), object(6)\n",
      "memory usage: 31.4+ KB\n"
     ]
    }
   ],
   "source": [
    "# displays general information/summary about the user's DataFrame\n",
    "users.info()"
   ]
  },
  {
   "cell_type": "code",
   "execution_count": 586,
   "metadata": {},
   "outputs": [
    {
     "data": {
      "text/html": [
       "<div>\n",
       "<style scoped>\n",
       "    .dataframe tbody tr th:only-of-type {\n",
       "        vertical-align: middle;\n",
       "    }\n",
       "\n",
       "    .dataframe tbody tr th {\n",
       "        vertical-align: top;\n",
       "    }\n",
       "\n",
       "    .dataframe thead th {\n",
       "        text-align: right;\n",
       "    }\n",
       "</style>\n",
       "<table border=\"1\" class=\"dataframe\">\n",
       "  <thead>\n",
       "    <tr style=\"text-align: right;\">\n",
       "      <th></th>\n",
       "      <th>user_id</th>\n",
       "      <th>first_name</th>\n",
       "      <th>last_name</th>\n",
       "      <th>age</th>\n",
       "      <th>city</th>\n",
       "      <th>reg_date</th>\n",
       "      <th>plan</th>\n",
       "      <th>churn_date</th>\n",
       "    </tr>\n",
       "  </thead>\n",
       "  <tbody>\n",
       "    <tr>\n",
       "      <th>0</th>\n",
       "      <td>1000</td>\n",
       "      <td>Anamaria</td>\n",
       "      <td>Bauer</td>\n",
       "      <td>45</td>\n",
       "      <td>Atlanta-Sandy Springs-Roswell, GA MSA</td>\n",
       "      <td>2018-12-24</td>\n",
       "      <td>ultimate</td>\n",
       "      <td>NaN</td>\n",
       "    </tr>\n",
       "    <tr>\n",
       "      <th>1</th>\n",
       "      <td>1001</td>\n",
       "      <td>Mickey</td>\n",
       "      <td>Wilkerson</td>\n",
       "      <td>28</td>\n",
       "      <td>Seattle-Tacoma-Bellevue, WA MSA</td>\n",
       "      <td>2018-08-13</td>\n",
       "      <td>surf</td>\n",
       "      <td>NaN</td>\n",
       "    </tr>\n",
       "    <tr>\n",
       "      <th>2</th>\n",
       "      <td>1002</td>\n",
       "      <td>Carlee</td>\n",
       "      <td>Hoffman</td>\n",
       "      <td>36</td>\n",
       "      <td>Las Vegas-Henderson-Paradise, NV MSA</td>\n",
       "      <td>2018-10-21</td>\n",
       "      <td>surf</td>\n",
       "      <td>NaN</td>\n",
       "    </tr>\n",
       "    <tr>\n",
       "      <th>3</th>\n",
       "      <td>1003</td>\n",
       "      <td>Reynaldo</td>\n",
       "      <td>Jenkins</td>\n",
       "      <td>52</td>\n",
       "      <td>Tulsa, OK MSA</td>\n",
       "      <td>2018-01-28</td>\n",
       "      <td>surf</td>\n",
       "      <td>NaN</td>\n",
       "    </tr>\n",
       "    <tr>\n",
       "      <th>4</th>\n",
       "      <td>1004</td>\n",
       "      <td>Leonila</td>\n",
       "      <td>Thompson</td>\n",
       "      <td>40</td>\n",
       "      <td>Seattle-Tacoma-Bellevue, WA MSA</td>\n",
       "      <td>2018-05-23</td>\n",
       "      <td>surf</td>\n",
       "      <td>NaN</td>\n",
       "    </tr>\n",
       "    <tr>\n",
       "      <th>...</th>\n",
       "      <td>...</td>\n",
       "      <td>...</td>\n",
       "      <td>...</td>\n",
       "      <td>...</td>\n",
       "      <td>...</td>\n",
       "      <td>...</td>\n",
       "      <td>...</td>\n",
       "      <td>...</td>\n",
       "    </tr>\n",
       "    <tr>\n",
       "      <th>495</th>\n",
       "      <td>1495</td>\n",
       "      <td>Fidel</td>\n",
       "      <td>Sharpe</td>\n",
       "      <td>67</td>\n",
       "      <td>New York-Newark-Jersey City, NY-NJ-PA MSA</td>\n",
       "      <td>2018-09-04</td>\n",
       "      <td>surf</td>\n",
       "      <td>NaN</td>\n",
       "    </tr>\n",
       "    <tr>\n",
       "      <th>496</th>\n",
       "      <td>1496</td>\n",
       "      <td>Ariel</td>\n",
       "      <td>Shepherd</td>\n",
       "      <td>49</td>\n",
       "      <td>New Orleans-Metairie, LA MSA</td>\n",
       "      <td>2018-02-20</td>\n",
       "      <td>surf</td>\n",
       "      <td>NaN</td>\n",
       "    </tr>\n",
       "    <tr>\n",
       "      <th>497</th>\n",
       "      <td>1497</td>\n",
       "      <td>Donte</td>\n",
       "      <td>Barrera</td>\n",
       "      <td>49</td>\n",
       "      <td>Los Angeles-Long Beach-Anaheim, CA MSA</td>\n",
       "      <td>2018-12-10</td>\n",
       "      <td>ultimate</td>\n",
       "      <td>NaN</td>\n",
       "    </tr>\n",
       "    <tr>\n",
       "      <th>498</th>\n",
       "      <td>1498</td>\n",
       "      <td>Scot</td>\n",
       "      <td>Williamson</td>\n",
       "      <td>51</td>\n",
       "      <td>New York-Newark-Jersey City, NY-NJ-PA MSA</td>\n",
       "      <td>2018-02-04</td>\n",
       "      <td>surf</td>\n",
       "      <td>NaN</td>\n",
       "    </tr>\n",
       "    <tr>\n",
       "      <th>499</th>\n",
       "      <td>1499</td>\n",
       "      <td>Shena</td>\n",
       "      <td>Dickson</td>\n",
       "      <td>37</td>\n",
       "      <td>Orlando-Kissimmee-Sanford, FL MSA</td>\n",
       "      <td>2018-05-06</td>\n",
       "      <td>surf</td>\n",
       "      <td>NaN</td>\n",
       "    </tr>\n",
       "  </tbody>\n",
       "</table>\n",
       "<p>500 rows × 8 columns</p>\n",
       "</div>"
      ],
      "text/plain": [
       "     user_id first_name   last_name  age   \n",
       "0       1000   Anamaria       Bauer   45  \\\n",
       "1       1001     Mickey   Wilkerson   28   \n",
       "2       1002     Carlee     Hoffman   36   \n",
       "3       1003   Reynaldo     Jenkins   52   \n",
       "4       1004    Leonila    Thompson   40   \n",
       "..       ...        ...         ...  ...   \n",
       "495     1495      Fidel      Sharpe   67   \n",
       "496     1496      Ariel    Shepherd   49   \n",
       "497     1497      Donte     Barrera   49   \n",
       "498     1498       Scot  Williamson   51   \n",
       "499     1499      Shena     Dickson   37   \n",
       "\n",
       "                                          city    reg_date      plan   \n",
       "0        Atlanta-Sandy Springs-Roswell, GA MSA  2018-12-24  ultimate  \\\n",
       "1              Seattle-Tacoma-Bellevue, WA MSA  2018-08-13      surf   \n",
       "2         Las Vegas-Henderson-Paradise, NV MSA  2018-10-21      surf   \n",
       "3                                Tulsa, OK MSA  2018-01-28      surf   \n",
       "4              Seattle-Tacoma-Bellevue, WA MSA  2018-05-23      surf   \n",
       "..                                         ...         ...       ...   \n",
       "495  New York-Newark-Jersey City, NY-NJ-PA MSA  2018-09-04      surf   \n",
       "496               New Orleans-Metairie, LA MSA  2018-02-20      surf   \n",
       "497     Los Angeles-Long Beach-Anaheim, CA MSA  2018-12-10  ultimate   \n",
       "498  New York-Newark-Jersey City, NY-NJ-PA MSA  2018-02-04      surf   \n",
       "499          Orlando-Kissimmee-Sanford, FL MSA  2018-05-06      surf   \n",
       "\n",
       "    churn_date  \n",
       "0          NaN  \n",
       "1          NaN  \n",
       "2          NaN  \n",
       "3          NaN  \n",
       "4          NaN  \n",
       "..         ...  \n",
       "495        NaN  \n",
       "496        NaN  \n",
       "497        NaN  \n",
       "498        NaN  \n",
       "499        NaN  \n",
       "\n",
       "[500 rows x 8 columns]"
      ]
     },
     "execution_count": 586,
     "metadata": {},
     "output_type": "execute_result"
    }
   ],
   "source": [
    "# displays a sample of user data\n",
    "users"
   ]
  },
  {
   "cell_type": "code",
   "execution_count": 587,
   "metadata": {},
   "outputs": [
    {
     "data": {
      "text/plain": [
       "0"
      ]
     },
     "execution_count": 587,
     "metadata": {},
     "output_type": "execute_result"
    }
   ],
   "source": [
    "# check for duplicate `users` data\n",
    "users.duplicated().sum()"
   ]
  },
  {
   "attachments": {},
   "cell_type": "markdown",
   "metadata": {},
   "source": [
    "From the check above it can be seen that there are `wrong data types` and `missing values`. Next is the fix for those problems."
   ]
  },
  {
   "attachments": {},
   "cell_type": "markdown",
   "metadata": {},
   "source": [
    "### Fix Data <a id= 'cont_6' ></a>"
   ]
  },
  {
   "attachments": {},
   "cell_type": "markdown",
   "metadata": {},
   "source": [
    "Changed the wrong data type from `object` to `datetime`."
   ]
  },
  {
   "cell_type": "code",
   "execution_count": 588,
   "metadata": {},
   "outputs": [
    {
     "name": "stdout",
     "output_type": "stream",
     "text": [
      "<class 'pandas.core.frame.DataFrame'>\n",
      "RangeIndex: 500 entries, 0 to 499\n",
      "Data columns (total 8 columns):\n",
      " #   Column      Non-Null Count  Dtype         \n",
      "---  ------      --------------  -----         \n",
      " 0   user_id     500 non-null    int64         \n",
      " 1   first_name  500 non-null    object        \n",
      " 2   last_name   500 non-null    object        \n",
      " 3   age         500 non-null    int64         \n",
      " 4   city        500 non-null    object        \n",
      " 5   reg_date    500 non-null    datetime64[ns]\n",
      " 6   plan        500 non-null    object        \n",
      " 7   churn_date  34 non-null     object        \n",
      "dtypes: datetime64[ns](1), int64(2), object(5)\n",
      "memory usage: 31.4+ KB\n"
     ]
    }
   ],
   "source": [
    "# fix wrong data type in date column\n",
    "# change the data type of `object` to `datetime`\n",
    "users['reg_date'] = pd.to_datetime(users['reg_date'], format = '%Y-%m-%d')\n",
    "\n",
    "# displays `users` information\n",
    "users.info()"
   ]
  },
  {
   "attachments": {},
   "cell_type": "markdown",
   "metadata": {},
   "source": [
    "The data type in the `reg_date` column has become the `datetime` data type."
   ]
  },
  {
   "attachments": {},
   "cell_type": "markdown",
   "metadata": {},
   "source": [
    "Next, fill in the missing values in the `churn_date` column. Because the missing values are customers who are still active today and the dates recorded are only throughout 2018. So we fill in these values with the date `2018-12-31`. Then we continue by changing the data type to `date_time`."
   ]
  },
  {
   "cell_type": "code",
   "execution_count": 589,
   "metadata": {},
   "outputs": [
    {
     "name": "stdout",
     "output_type": "stream",
     "text": [
      "<class 'pandas.core.frame.DataFrame'>\n",
      "RangeIndex: 500 entries, 0 to 499\n",
      "Data columns (total 8 columns):\n",
      " #   Column      Non-Null Count  Dtype         \n",
      "---  ------      --------------  -----         \n",
      " 0   user_id     500 non-null    int64         \n",
      " 1   first_name  500 non-null    object        \n",
      " 2   last_name   500 non-null    object        \n",
      " 3   age         500 non-null    int64         \n",
      " 4   city        500 non-null    object        \n",
      " 5   reg_date    500 non-null    datetime64[ns]\n",
      " 6   plan        500 non-null    object        \n",
      " 7   churn_date  500 non-null    datetime64[ns]\n",
      "dtypes: datetime64[ns](2), int64(2), object(4)\n",
      "memory usage: 31.4+ KB\n"
     ]
    }
   ],
   "source": [
    "# fill in missing values\n",
    "users['churn_date'].fillna('2018-12-31', inplace = True)\n",
    "\n",
    "# change the `churn_date` data type to `datetime`\n",
    "users['churn_date'] = pd.to_datetime(users['churn_date'], format = '%Y-%m-%d')\n",
    "\n",
    "# displays `users` information\n",
    "users.info()"
   ]
  },
  {
   "attachments": {},
   "cell_type": "markdown",
   "metadata": {},
   "source": [
    "Incorrect data types and missing values have been fixed."
   ]
  },
  {
   "attachments": {},
   "cell_type": "markdown",
   "metadata": {},
   "source": [
    "### Enrich Data Quality <a id= 'cont_7' ></a>"
   ]
  },
  {
   "attachments": {},
   "cell_type": "markdown",
   "metadata": {},
   "source": [
    "Furthermore, to facilitate analysis, several additional columns are needed such as separating `datetime` based on `day`, `month`, `year`. Then proceed with creating the `region` column which contains whether the city originates from `'NY-NJ'` or not `'other'`."
   ]
  },
  {
   "cell_type": "code",
   "execution_count": 590,
   "metadata": {},
   "outputs": [
    {
     "data": {
      "text/html": [
       "<div>\n",
       "<style scoped>\n",
       "    .dataframe tbody tr th:only-of-type {\n",
       "        vertical-align: middle;\n",
       "    }\n",
       "\n",
       "    .dataframe tbody tr th {\n",
       "        vertical-align: top;\n",
       "    }\n",
       "\n",
       "    .dataframe thead th {\n",
       "        text-align: right;\n",
       "    }\n",
       "</style>\n",
       "<table border=\"1\" class=\"dataframe\">\n",
       "  <thead>\n",
       "    <tr style=\"text-align: right;\">\n",
       "      <th></th>\n",
       "      <th>user_id</th>\n",
       "      <th>first_name</th>\n",
       "      <th>last_name</th>\n",
       "      <th>age</th>\n",
       "      <th>city</th>\n",
       "      <th>reg_date</th>\n",
       "      <th>plan</th>\n",
       "      <th>churn_date</th>\n",
       "      <th>day</th>\n",
       "      <th>month</th>\n",
       "      <th>year</th>\n",
       "    </tr>\n",
       "  </thead>\n",
       "  <tbody>\n",
       "    <tr>\n",
       "      <th>0</th>\n",
       "      <td>1000</td>\n",
       "      <td>Anamaria</td>\n",
       "      <td>Bauer</td>\n",
       "      <td>45</td>\n",
       "      <td>Atlanta-Sandy Springs-Roswell, GA MSA</td>\n",
       "      <td>2018-12-24</td>\n",
       "      <td>ultimate</td>\n",
       "      <td>2018-12-31</td>\n",
       "      <td>24</td>\n",
       "      <td>12</td>\n",
       "      <td>2018</td>\n",
       "    </tr>\n",
       "    <tr>\n",
       "      <th>1</th>\n",
       "      <td>1001</td>\n",
       "      <td>Mickey</td>\n",
       "      <td>Wilkerson</td>\n",
       "      <td>28</td>\n",
       "      <td>Seattle-Tacoma-Bellevue, WA MSA</td>\n",
       "      <td>2018-08-13</td>\n",
       "      <td>surf</td>\n",
       "      <td>2018-12-31</td>\n",
       "      <td>13</td>\n",
       "      <td>8</td>\n",
       "      <td>2018</td>\n",
       "    </tr>\n",
       "    <tr>\n",
       "      <th>2</th>\n",
       "      <td>1002</td>\n",
       "      <td>Carlee</td>\n",
       "      <td>Hoffman</td>\n",
       "      <td>36</td>\n",
       "      <td>Las Vegas-Henderson-Paradise, NV MSA</td>\n",
       "      <td>2018-10-21</td>\n",
       "      <td>surf</td>\n",
       "      <td>2018-12-31</td>\n",
       "      <td>21</td>\n",
       "      <td>10</td>\n",
       "      <td>2018</td>\n",
       "    </tr>\n",
       "    <tr>\n",
       "      <th>3</th>\n",
       "      <td>1003</td>\n",
       "      <td>Reynaldo</td>\n",
       "      <td>Jenkins</td>\n",
       "      <td>52</td>\n",
       "      <td>Tulsa, OK MSA</td>\n",
       "      <td>2018-01-28</td>\n",
       "      <td>surf</td>\n",
       "      <td>2018-12-31</td>\n",
       "      <td>28</td>\n",
       "      <td>1</td>\n",
       "      <td>2018</td>\n",
       "    </tr>\n",
       "    <tr>\n",
       "      <th>4</th>\n",
       "      <td>1004</td>\n",
       "      <td>Leonila</td>\n",
       "      <td>Thompson</td>\n",
       "      <td>40</td>\n",
       "      <td>Seattle-Tacoma-Bellevue, WA MSA</td>\n",
       "      <td>2018-05-23</td>\n",
       "      <td>surf</td>\n",
       "      <td>2018-12-31</td>\n",
       "      <td>23</td>\n",
       "      <td>5</td>\n",
       "      <td>2018</td>\n",
       "    </tr>\n",
       "  </tbody>\n",
       "</table>\n",
       "</div>"
      ],
      "text/plain": [
       "   user_id first_name  last_name  age                                   city   \n",
       "0     1000   Anamaria      Bauer   45  Atlanta-Sandy Springs-Roswell, GA MSA  \\\n",
       "1     1001     Mickey  Wilkerson   28        Seattle-Tacoma-Bellevue, WA MSA   \n",
       "2     1002     Carlee    Hoffman   36   Las Vegas-Henderson-Paradise, NV MSA   \n",
       "3     1003   Reynaldo    Jenkins   52                          Tulsa, OK MSA   \n",
       "4     1004    Leonila   Thompson   40        Seattle-Tacoma-Bellevue, WA MSA   \n",
       "\n",
       "    reg_date      plan churn_date  day  month  year  \n",
       "0 2018-12-24  ultimate 2018-12-31   24     12  2018  \n",
       "1 2018-08-13      surf 2018-12-31   13      8  2018  \n",
       "2 2018-10-21      surf 2018-12-31   21     10  2018  \n",
       "3 2018-01-28      surf 2018-12-31   28      1  2018  \n",
       "4 2018-05-23      surf 2018-12-31   23      5  2018  "
      ]
     },
     "execution_count": 590,
     "metadata": {},
     "output_type": "execute_result"
    }
   ],
   "source": [
    "# separates the datetime column\n",
    "\n",
    "# create a day column\n",
    "users['day'] = users['reg_date'].dt.day\n",
    "\n",
    "# create month column\n",
    "users['month'] = users['reg_date'].dt. month\n",
    "\n",
    "# create a year column\n",
    "users['year'] = users['reg_date'].dt. year\n",
    "\n",
    "# displays sample data\n",
    "users.head()"
   ]
  },
  {
   "cell_type": "code",
   "execution_count": 591,
   "metadata": {},
   "outputs": [
    {
     "data": {
      "text/plain": [
       "array(['Atlanta-Sandy Springs-Roswell, GA MSA',\n",
       "       'Seattle-Tacoma-Bellevue, WA MSA',\n",
       "       'Las Vegas-Henderson-Paradise, NV MSA', 'Tulsa, OK MSA',\n",
       "       'Dallas-Fort Worth-Arlington, TX MSA',\n",
       "       'San Francisco-Oakland-Berkeley, CA MSA',\n",
       "       'Grand Rapids-Kentwood, MI MSA',\n",
       "       'Orlando-Kissimmee-Sanford, FL MSA',\n",
       "       'San Jose-Sunnyvale-Santa Clara, CA MSA',\n",
       "       'Cleveland-Elyria, OH MSA',\n",
       "       'Chicago-Naperville-Elgin, IL-IN-WI MSA', 'Knoxville, TN MSA',\n",
       "       'New York-Newark-Jersey City, NY-NJ-PA MSA', 'Pittsburgh, PA MSA',\n",
       "       'Fresno, CA MSA',\n",
       "       'Washington-Arlington-Alexandria, DC-VA-MD-WV MSA',\n",
       "       'Indianapolis-Carmel-Anderson, IN MSA', 'Jacksonville, FL MSA',\n",
       "       'Los Angeles-Long Beach-Anaheim, CA MSA',\n",
       "       'Omaha-Council Bluffs, NE-IA MSA',\n",
       "       'Houston-The Woodlands-Sugar Land, TX MSA',\n",
       "       'Philadelphia-Camden-Wilmington, PA-NJ-DE-MD MSA',\n",
       "       'Tampa-St. Petersburg-Clearwater, FL MSA',\n",
       "       'Birmingham-Hoover, AL MSA', 'Oklahoma City, OK MSA',\n",
       "       'Charlotte-Concord-Gastonia, NC-SC MSA',\n",
       "       'Denver-Aurora-Lakewood, CO MSA',\n",
       "       'Nashville-Davidson–Murfreesboro–Franklin, TN MSA',\n",
       "       'Columbus, OH MSA', 'Albuquerque, NM MSA',\n",
       "       'Boston-Cambridge-Newton, MA-NH MSA',\n",
       "       'Miami-Fort Lauderdale-West Palm Beach, FL MSA',\n",
       "       'San Diego-Chula Vista-Carlsbad, CA MSA',\n",
       "       'Phoenix-Mesa-Chandler, AZ MSA',\n",
       "       'Portland-Vancouver-Hillsboro, OR-WA MSA',\n",
       "       'Cincinnati, OH-KY-IN MSA', 'Columbia, SC MSA',\n",
       "       'San Antonio-New Braunfels, TX MSA', 'Buffalo-Cheektowaga, NY MSA',\n",
       "       'Memphis, TN-MS-AR MSA',\n",
       "       'Riverside-San Bernardino-Ontario, CA MSA',\n",
       "       'Louisville/Jefferson County, KY-IN MSA',\n",
       "       'Albany-Schenectady-Troy, NY MSA', 'Providence-Warwick, RI-MA MSA',\n",
       "       'Salt Lake City, UT MSA', 'Urban Honolulu, HI MSA',\n",
       "       'El Paso, TX MSA', 'New Haven-Milford, CT MSA',\n",
       "       'North Port-Sarasota-Bradenton, FL MSA', 'Baton Rouge, LA MSA',\n",
       "       'New Orleans-Metairie, LA MSA',\n",
       "       'Bridgeport-Stamford-Norwalk, CT MSA',\n",
       "       'Virginia Beach-Norfolk-Newport News, VA-NC MSA',\n",
       "       'Baltimore-Columbia-Towson, MD MSA', 'Milwaukee-Waukesha, WI MSA',\n",
       "       'Oxnard-Thousand Oaks-Ventura, CA MSA',\n",
       "       'Sacramento–Roseville–Folsom, CA MSA',\n",
       "       'Austin-Round Rock-Georgetown, TX MSA', 'Richmond, VA MSA',\n",
       "       'St. Louis, MO-IL MSA',\n",
       "       'Minneapolis-St. Paul-Bloomington, MN-WI MSA',\n",
       "       'Dayton-Kettering, OH MSA', 'Bakersfield, CA MSA',\n",
       "       'Detroit-Warren-Dearborn, MI MSA', 'Kansas City, MO-KS MSA',\n",
       "       'Charleston-North Charleston, SC MSA', 'Rochester, NY MSA',\n",
       "       'Raleigh-Cary, NC MSA', 'Colorado Springs, CO MSA',\n",
       "       'Greensboro-High Point, NC MSA', 'Tucson, AZ MSA',\n",
       "       'Stockton, CA MSA', 'Cape Coral-Fort Myers, FL MSA'], dtype=object)"
      ]
     },
     "execution_count": 591,
     "metadata": {},
     "output_type": "execute_result"
    }
   ],
   "source": [
    "# create a column to separate the NY-NJ region from other regions\n",
    "# checks for unique values in the `city` column\n",
    "users['city'].unique()"
   ]
  },
  {
   "cell_type": "code",
   "execution_count": 592,
   "metadata": {},
   "outputs": [
    {
     "data": {
      "text/plain": [
       "region\n",
       "other    420\n",
       "NY-NJ     80\n",
       "Name: count, dtype: int64"
      ]
     },
     "execution_count": 592,
     "metadata": {},
     "output_type": "execute_result"
    }
   ],
   "source": [
    "# create the NY-NJ region column\n",
    "\n",
    "# create a function to check whether it originates from the `NY-NJ` region or not\n",
    "def split_region(data):\n",
    "     if ('NY-NJ' in data)|(data == 'NY')|(data == 'NJ'):\n",
    "         return 'NY-NJ'\n",
    "     else:\n",
    "         return 'other'\n",
    "\n",
    "# create a region column using the already created function\n",
    "users['region'] = users['city'].apply(split_region)\n",
    "\n",
    "# returns the value_counts of the `region` column\n",
    "users['region'].value_counts()"
   ]
  },
  {
   "attachments": {},
   "cell_type": "markdown",
   "metadata": {},
   "source": [
    "Additional columns have been made and are as expected."
   ]
  },
  {
   "attachments": {},
   "cell_type": "markdown",
   "metadata": {},
   "source": [
    "## Calling <a id= 'cont_8' ></a>"
   ]
  },
  {
   "cell_type": "code",
   "execution_count": 593,
   "metadata": {},
   "outputs": [
    {
     "name": "stdout",
     "output_type": "stream",
     "text": [
      "<class 'pandas.core.frame.DataFrame'>\n",
      "RangeIndex: 137735 entries, 0 to 137734\n",
      "Data columns (total 4 columns):\n",
      " #   Column     Non-Null Count   Dtype  \n",
      "---  ------     --------------   -----  \n",
      " 0   id         137735 non-null  object \n",
      " 1   user_id    137735 non-null  int64  \n",
      " 2   call_date  137735 non-null  object \n",
      " 3   duration   137735 non-null  float64\n",
      "dtypes: float64(1), int64(1), object(2)\n",
      "memory usage: 4.2+ MB\n"
     ]
    }
   ],
   "source": [
    "# displays general information/summary about the calling DataFrame\n",
    "calls.info()"
   ]
  },
  {
   "cell_type": "code",
   "execution_count": 594,
   "metadata": {},
   "outputs": [
    {
     "data": {
      "text/plain": [
       "0"
      ]
     },
     "execution_count": 594,
     "metadata": {},
     "output_type": "execute_result"
    }
   ],
   "source": [
    "# checks whether there are duplicates in the dataset\n",
    "calls.duplicated().sum()"
   ]
  },
  {
   "cell_type": "code",
   "execution_count": 595,
   "metadata": {},
   "outputs": [
    {
     "data": {
      "text/html": [
       "<div>\n",
       "<style scoped>\n",
       "    .dataframe tbody tr th:only-of-type {\n",
       "        vertical-align: middle;\n",
       "    }\n",
       "\n",
       "    .dataframe tbody tr th {\n",
       "        vertical-align: top;\n",
       "    }\n",
       "\n",
       "    .dataframe thead th {\n",
       "        text-align: right;\n",
       "    }\n",
       "</style>\n",
       "<table border=\"1\" class=\"dataframe\">\n",
       "  <thead>\n",
       "    <tr style=\"text-align: right;\">\n",
       "      <th></th>\n",
       "      <th>id</th>\n",
       "      <th>user_id</th>\n",
       "      <th>call_date</th>\n",
       "      <th>duration</th>\n",
       "    </tr>\n",
       "  </thead>\n",
       "  <tbody>\n",
       "    <tr>\n",
       "      <th>0</th>\n",
       "      <td>1000_93</td>\n",
       "      <td>1000</td>\n",
       "      <td>2018-12-27</td>\n",
       "      <td>8.52</td>\n",
       "    </tr>\n",
       "    <tr>\n",
       "      <th>1</th>\n",
       "      <td>1000_145</td>\n",
       "      <td>1000</td>\n",
       "      <td>2018-12-27</td>\n",
       "      <td>13.66</td>\n",
       "    </tr>\n",
       "    <tr>\n",
       "      <th>2</th>\n",
       "      <td>1000_247</td>\n",
       "      <td>1000</td>\n",
       "      <td>2018-12-27</td>\n",
       "      <td>14.48</td>\n",
       "    </tr>\n",
       "    <tr>\n",
       "      <th>3</th>\n",
       "      <td>1000_309</td>\n",
       "      <td>1000</td>\n",
       "      <td>2018-12-28</td>\n",
       "      <td>5.76</td>\n",
       "    </tr>\n",
       "    <tr>\n",
       "      <th>4</th>\n",
       "      <td>1000_380</td>\n",
       "      <td>1000</td>\n",
       "      <td>2018-12-30</td>\n",
       "      <td>4.22</td>\n",
       "    </tr>\n",
       "    <tr>\n",
       "      <th>...</th>\n",
       "      <td>...</td>\n",
       "      <td>...</td>\n",
       "      <td>...</td>\n",
       "      <td>...</td>\n",
       "    </tr>\n",
       "    <tr>\n",
       "      <th>137730</th>\n",
       "      <td>1499_199</td>\n",
       "      <td>1499</td>\n",
       "      <td>2018-11-21</td>\n",
       "      <td>8.72</td>\n",
       "    </tr>\n",
       "    <tr>\n",
       "      <th>137731</th>\n",
       "      <td>1499_200</td>\n",
       "      <td>1499</td>\n",
       "      <td>2018-10-20</td>\n",
       "      <td>10.89</td>\n",
       "    </tr>\n",
       "    <tr>\n",
       "      <th>137732</th>\n",
       "      <td>1499_201</td>\n",
       "      <td>1499</td>\n",
       "      <td>2018-09-21</td>\n",
       "      <td>8.12</td>\n",
       "    </tr>\n",
       "    <tr>\n",
       "      <th>137733</th>\n",
       "      <td>1499_202</td>\n",
       "      <td>1499</td>\n",
       "      <td>2018-10-10</td>\n",
       "      <td>0.37</td>\n",
       "    </tr>\n",
       "    <tr>\n",
       "      <th>137734</th>\n",
       "      <td>1499_203</td>\n",
       "      <td>1499</td>\n",
       "      <td>2018-12-29</td>\n",
       "      <td>13.86</td>\n",
       "    </tr>\n",
       "  </tbody>\n",
       "</table>\n",
       "<p>137735 rows × 4 columns</p>\n",
       "</div>"
      ],
      "text/plain": [
       "              id  user_id   call_date  duration\n",
       "0        1000_93     1000  2018-12-27      8.52\n",
       "1       1000_145     1000  2018-12-27     13.66\n",
       "2       1000_247     1000  2018-12-27     14.48\n",
       "3       1000_309     1000  2018-12-28      5.76\n",
       "4       1000_380     1000  2018-12-30      4.22\n",
       "...          ...      ...         ...       ...\n",
       "137730  1499_199     1499  2018-11-21      8.72\n",
       "137731  1499_200     1499  2018-10-20     10.89\n",
       "137732  1499_201     1499  2018-09-21      8.12\n",
       "137733  1499_202     1499  2018-10-10      0.37\n",
       "137734  1499_203     1499  2018-12-29     13.86\n",
       "\n",
       "[137735 rows x 4 columns]"
      ]
     },
     "execution_count": 595,
     "metadata": {},
     "output_type": "execute_result"
    }
   ],
   "source": [
    "# displays sample data containing calls\n",
    "calls"
   ]
  },
  {
   "attachments": {},
   "cell_type": "markdown",
   "metadata": {},
   "source": [
    "From checking above, it can be seen that there is `wrong data type`. Next is the fix for the problem."
   ]
  },
  {
   "attachments": {},
   "cell_type": "markdown",
   "metadata": {},
   "source": [
    "### Fix Data <a id= 'cont_9' ></a>"
   ]
  },
  {
   "attachments": {},
   "cell_type": "markdown",
   "metadata": {},
   "source": [
    "Changed the wrong data type from `object` to `datetime`."
   ]
  },
  {
   "cell_type": "code",
   "execution_count": 596,
   "metadata": {},
   "outputs": [
    {
     "name": "stdout",
     "output_type": "stream",
     "text": [
      "<class 'pandas.core.frame.DataFrame'>\n",
      "RangeIndex: 137735 entries, 0 to 137734\n",
      "Data columns (total 4 columns):\n",
      " #   Column     Non-Null Count   Dtype         \n",
      "---  ------     --------------   -----         \n",
      " 0   id         137735 non-null  object        \n",
      " 1   user_id    137735 non-null  int64         \n",
      " 2   call_date  137735 non-null  datetime64[ns]\n",
      " 3   duration   137735 non-null  float64       \n",
      "dtypes: datetime64[ns](1), float64(1), int64(1), object(1)\n",
      "memory usage: 4.2+ MB\n"
     ]
    }
   ],
   "source": [
    "# change data type `object` to type `datetime`\n",
    "calls['call_date'] = pd.to_datetime(calls['call_date'], format = '%Y-%m-%d')\n",
    "\n",
    "# displays data information\n",
    "calls.info()"
   ]
  },
  {
   "attachments": {},
   "cell_type": "markdown",
   "metadata": {},
   "source": [
    "The data type in `call_date` has been fixed to `datetime`."
   ]
  },
  {
   "attachments": {},
   "cell_type": "markdown",
   "metadata": {},
   "source": [
    "### Enrich Data Quality <a id= 'cont_10' ></a>"
   ]
  },
  {
   "attachments": {},
   "cell_type": "markdown",
   "metadata": {},
   "source": [
    "Furthermore, to facilitate analysis, several additional columns are needed such as separating `datetime` based on `day`, `month`, `year`."
   ]
  },
  {
   "cell_type": "code",
   "execution_count": 597,
   "metadata": {},
   "outputs": [
    {
     "data": {
      "text/html": [
       "<div>\n",
       "<style scoped>\n",
       "    .dataframe tbody tr th:only-of-type {\n",
       "        vertical-align: middle;\n",
       "    }\n",
       "\n",
       "    .dataframe tbody tr th {\n",
       "        vertical-align: top;\n",
       "    }\n",
       "\n",
       "    .dataframe thead th {\n",
       "        text-align: right;\n",
       "    }\n",
       "</style>\n",
       "<table border=\"1\" class=\"dataframe\">\n",
       "  <thead>\n",
       "    <tr style=\"text-align: right;\">\n",
       "      <th></th>\n",
       "      <th>id</th>\n",
       "      <th>user_id</th>\n",
       "      <th>call_date</th>\n",
       "      <th>duration</th>\n",
       "      <th>day</th>\n",
       "      <th>month</th>\n",
       "      <th>year</th>\n",
       "    </tr>\n",
       "  </thead>\n",
       "  <tbody>\n",
       "    <tr>\n",
       "      <th>0</th>\n",
       "      <td>1000_93</td>\n",
       "      <td>1000</td>\n",
       "      <td>2018-12-27</td>\n",
       "      <td>8.52</td>\n",
       "      <td>27</td>\n",
       "      <td>12</td>\n",
       "      <td>2018</td>\n",
       "    </tr>\n",
       "    <tr>\n",
       "      <th>1</th>\n",
       "      <td>1000_145</td>\n",
       "      <td>1000</td>\n",
       "      <td>2018-12-27</td>\n",
       "      <td>13.66</td>\n",
       "      <td>27</td>\n",
       "      <td>12</td>\n",
       "      <td>2018</td>\n",
       "    </tr>\n",
       "    <tr>\n",
       "      <th>2</th>\n",
       "      <td>1000_247</td>\n",
       "      <td>1000</td>\n",
       "      <td>2018-12-27</td>\n",
       "      <td>14.48</td>\n",
       "      <td>27</td>\n",
       "      <td>12</td>\n",
       "      <td>2018</td>\n",
       "    </tr>\n",
       "    <tr>\n",
       "      <th>3</th>\n",
       "      <td>1000_309</td>\n",
       "      <td>1000</td>\n",
       "      <td>2018-12-28</td>\n",
       "      <td>5.76</td>\n",
       "      <td>28</td>\n",
       "      <td>12</td>\n",
       "      <td>2018</td>\n",
       "    </tr>\n",
       "    <tr>\n",
       "      <th>4</th>\n",
       "      <td>1000_380</td>\n",
       "      <td>1000</td>\n",
       "      <td>2018-12-30</td>\n",
       "      <td>4.22</td>\n",
       "      <td>30</td>\n",
       "      <td>12</td>\n",
       "      <td>2018</td>\n",
       "    </tr>\n",
       "  </tbody>\n",
       "</table>\n",
       "</div>"
      ],
      "text/plain": [
       "         id  user_id  call_date  duration  day  month  year\n",
       "0   1000_93     1000 2018-12-27      8.52   27     12  2018\n",
       "1  1000_145     1000 2018-12-27     13.66   27     12  2018\n",
       "2  1000_247     1000 2018-12-27     14.48   27     12  2018\n",
       "3  1000_309     1000 2018-12-28      5.76   28     12  2018\n",
       "4  1000_380     1000 2018-12-30      4.22   30     12  2018"
      ]
     },
     "execution_count": 597,
     "metadata": {},
     "output_type": "execute_result"
    }
   ],
   "source": [
    "# separates the datetime column\n",
    "\n",
    "# create a day column\n",
    "calls['day'] = calls['call_date'].dt. day\n",
    "\n",
    "# create month column\n",
    "calls['month'] = calls['call_date'].dt. month\n",
    "\n",
    "# create a year column\n",
    "calls['year'] = calls['call_date'].dt. year\n",
    "\n",
    "# displays sample data\n",
    "calls.head()"
   ]
  },
  {
   "attachments": {},
   "cell_type": "markdown",
   "metadata": {},
   "source": [
    "Additional columns have been made and are as expected."
   ]
  },
  {
   "attachments": {},
   "cell_type": "markdown",
   "metadata": {},
   "source": [
    "## Messaging/SMS <a id= 'cont_11' ></a>"
   ]
  },
  {
   "cell_type": "code",
   "execution_count": 598,
   "metadata": {},
   "outputs": [
    {
     "name": "stdout",
     "output_type": "stream",
     "text": [
      "<class 'pandas.core.frame.DataFrame'>\n",
      "RangeIndex: 76051 entries, 0 to 76050\n",
      "Data columns (total 3 columns):\n",
      " #   Column        Non-Null Count  Dtype \n",
      "---  ------        --------------  ----- \n",
      " 0   id            76051 non-null  object\n",
      " 1   user_id       76051 non-null  int64 \n",
      " 2   message_date  76051 non-null  object\n",
      "dtypes: int64(1), object(2)\n",
      "memory usage: 1.7+ MB\n"
     ]
    }
   ],
   "source": [
    "# displays general information/summary about the SMS DataFrame\n",
    "messages.info()"
   ]
  },
  {
   "cell_type": "code",
   "execution_count": 599,
   "metadata": {},
   "outputs": [
    {
     "data": {
      "text/html": [
       "<div>\n",
       "<style scoped>\n",
       "    .dataframe tbody tr th:only-of-type {\n",
       "        vertical-align: middle;\n",
       "    }\n",
       "\n",
       "    .dataframe tbody tr th {\n",
       "        vertical-align: top;\n",
       "    }\n",
       "\n",
       "    .dataframe thead th {\n",
       "        text-align: right;\n",
       "    }\n",
       "</style>\n",
       "<table border=\"1\" class=\"dataframe\">\n",
       "  <thead>\n",
       "    <tr style=\"text-align: right;\">\n",
       "      <th></th>\n",
       "      <th>id</th>\n",
       "      <th>user_id</th>\n",
       "      <th>message_date</th>\n",
       "    </tr>\n",
       "  </thead>\n",
       "  <tbody>\n",
       "    <tr>\n",
       "      <th>0</th>\n",
       "      <td>1000_125</td>\n",
       "      <td>1000</td>\n",
       "      <td>2018-12-27</td>\n",
       "    </tr>\n",
       "    <tr>\n",
       "      <th>1</th>\n",
       "      <td>1000_160</td>\n",
       "      <td>1000</td>\n",
       "      <td>2018-12-31</td>\n",
       "    </tr>\n",
       "    <tr>\n",
       "      <th>2</th>\n",
       "      <td>1000_223</td>\n",
       "      <td>1000</td>\n",
       "      <td>2018-12-31</td>\n",
       "    </tr>\n",
       "    <tr>\n",
       "      <th>3</th>\n",
       "      <td>1000_251</td>\n",
       "      <td>1000</td>\n",
       "      <td>2018-12-27</td>\n",
       "    </tr>\n",
       "    <tr>\n",
       "      <th>4</th>\n",
       "      <td>1000_255</td>\n",
       "      <td>1000</td>\n",
       "      <td>2018-12-26</td>\n",
       "    </tr>\n",
       "    <tr>\n",
       "      <th>...</th>\n",
       "      <td>...</td>\n",
       "      <td>...</td>\n",
       "      <td>...</td>\n",
       "    </tr>\n",
       "    <tr>\n",
       "      <th>76046</th>\n",
       "      <td>1497_526</td>\n",
       "      <td>1497</td>\n",
       "      <td>2018-12-24</td>\n",
       "    </tr>\n",
       "    <tr>\n",
       "      <th>76047</th>\n",
       "      <td>1497_536</td>\n",
       "      <td>1497</td>\n",
       "      <td>2018-12-24</td>\n",
       "    </tr>\n",
       "    <tr>\n",
       "      <th>76048</th>\n",
       "      <td>1497_547</td>\n",
       "      <td>1497</td>\n",
       "      <td>2018-12-31</td>\n",
       "    </tr>\n",
       "    <tr>\n",
       "      <th>76049</th>\n",
       "      <td>1497_558</td>\n",
       "      <td>1497</td>\n",
       "      <td>2018-12-24</td>\n",
       "    </tr>\n",
       "    <tr>\n",
       "      <th>76050</th>\n",
       "      <td>1497_613</td>\n",
       "      <td>1497</td>\n",
       "      <td>2018-12-23</td>\n",
       "    </tr>\n",
       "  </tbody>\n",
       "</table>\n",
       "<p>76051 rows × 3 columns</p>\n",
       "</div>"
      ],
      "text/plain": [
       "             id  user_id message_date\n",
       "0      1000_125     1000   2018-12-27\n",
       "1      1000_160     1000   2018-12-31\n",
       "2      1000_223     1000   2018-12-31\n",
       "3      1000_251     1000   2018-12-27\n",
       "4      1000_255     1000   2018-12-26\n",
       "...         ...      ...          ...\n",
       "76046  1497_526     1497   2018-12-24\n",
       "76047  1497_536     1497   2018-12-24\n",
       "76048  1497_547     1497   2018-12-31\n",
       "76049  1497_558     1497   2018-12-24\n",
       "76050  1497_613     1497   2018-12-23\n",
       "\n",
       "[76051 rows x 3 columns]"
      ]
     },
     "execution_count": 599,
     "metadata": {},
     "output_type": "execute_result"
    }
   ],
   "source": [
    "# displays sample data for SMS\n",
    "messages"
   ]
  },
  {
   "cell_type": "code",
   "execution_count": 600,
   "metadata": {},
   "outputs": [
    {
     "data": {
      "text/plain": [
       "0"
      ]
     },
     "execution_count": 600,
     "metadata": {},
     "output_type": "execute_result"
    }
   ],
   "source": [
    "# check the number of duplicates in the data\n",
    "messages.duplicated().sum()"
   ]
  },
  {
   "attachments": {},
   "cell_type": "markdown",
   "metadata": {},
   "source": [
    "From checking above, it can be seen that there is `wrong data type`. Next is the fix for the problem."
   ]
  },
  {
   "attachments": {},
   "cell_type": "markdown",
   "metadata": {},
   "source": [
    "### Fix Data <a id= 'cont_12' ></a>"
   ]
  },
  {
   "attachments": {},
   "cell_type": "markdown",
   "metadata": {},
   "source": [
    "Changed the wrong data type from `object` to `datetime`."
   ]
  },
  {
   "cell_type": "code",
   "execution_count": 601,
   "metadata": {},
   "outputs": [
    {
     "name": "stdout",
     "output_type": "stream",
     "text": [
      "<class 'pandas.core.frame.DataFrame'>\n",
      "RangeIndex: 76051 entries, 0 to 76050\n",
      "Data columns (total 3 columns):\n",
      " #   Column        Non-Null Count  Dtype         \n",
      "---  ------        --------------  -----         \n",
      " 0   id            76051 non-null  object        \n",
      " 1   user_id       76051 non-null  int64         \n",
      " 2   message_date  76051 non-null  datetime64[ns]\n",
      "dtypes: datetime64[ns](1), int64(1), object(1)\n",
      "memory usage: 1.7+ MB\n"
     ]
    }
   ],
   "source": [
    "# change the data type from `object` to `datetime`\n",
    "messages['message_date'] = pd.to_datetime(messages['message_date'], format = '%Y-%m-%d')\n",
    "\n",
    "# displays the `messages` column information\n",
    "messages.info()"
   ]
  },
  {
   "attachments": {},
   "cell_type": "markdown",
   "metadata": {},
   "source": [
    "The data type in the `message_date` column has been fixed to `datetime`."
   ]
  },
  {
   "attachments": {},
   "cell_type": "markdown",
   "metadata": {},
   "source": [
    "### Enrich Data Quality <a id= 'cont_13' ></a>"
   ]
  },
  {
   "attachments": {},
   "cell_type": "markdown",
   "metadata": {},
   "source": [
    "Furthermore, to facilitate analysis, several additional columns are needed such as separating `datetime` based on `day`, `month`, `year`."
   ]
  },
  {
   "cell_type": "code",
   "execution_count": 602,
   "metadata": {},
   "outputs": [
    {
     "data": {
      "text/html": [
       "<div>\n",
       "<style scoped>\n",
       "    .dataframe tbody tr th:only-of-type {\n",
       "        vertical-align: middle;\n",
       "    }\n",
       "\n",
       "    .dataframe tbody tr th {\n",
       "        vertical-align: top;\n",
       "    }\n",
       "\n",
       "    .dataframe thead th {\n",
       "        text-align: right;\n",
       "    }\n",
       "</style>\n",
       "<table border=\"1\" class=\"dataframe\">\n",
       "  <thead>\n",
       "    <tr style=\"text-align: right;\">\n",
       "      <th></th>\n",
       "      <th>id</th>\n",
       "      <th>user_id</th>\n",
       "      <th>message_date</th>\n",
       "      <th>day</th>\n",
       "      <th>month</th>\n",
       "      <th>year</th>\n",
       "    </tr>\n",
       "  </thead>\n",
       "  <tbody>\n",
       "    <tr>\n",
       "      <th>0</th>\n",
       "      <td>1000_125</td>\n",
       "      <td>1000</td>\n",
       "      <td>2018-12-27</td>\n",
       "      <td>27</td>\n",
       "      <td>12</td>\n",
       "      <td>2018</td>\n",
       "    </tr>\n",
       "    <tr>\n",
       "      <th>1</th>\n",
       "      <td>1000_160</td>\n",
       "      <td>1000</td>\n",
       "      <td>2018-12-31</td>\n",
       "      <td>31</td>\n",
       "      <td>12</td>\n",
       "      <td>2018</td>\n",
       "    </tr>\n",
       "    <tr>\n",
       "      <th>2</th>\n",
       "      <td>1000_223</td>\n",
       "      <td>1000</td>\n",
       "      <td>2018-12-31</td>\n",
       "      <td>31</td>\n",
       "      <td>12</td>\n",
       "      <td>2018</td>\n",
       "    </tr>\n",
       "    <tr>\n",
       "      <th>3</th>\n",
       "      <td>1000_251</td>\n",
       "      <td>1000</td>\n",
       "      <td>2018-12-27</td>\n",
       "      <td>27</td>\n",
       "      <td>12</td>\n",
       "      <td>2018</td>\n",
       "    </tr>\n",
       "    <tr>\n",
       "      <th>4</th>\n",
       "      <td>1000_255</td>\n",
       "      <td>1000</td>\n",
       "      <td>2018-12-26</td>\n",
       "      <td>26</td>\n",
       "      <td>12</td>\n",
       "      <td>2018</td>\n",
       "    </tr>\n",
       "  </tbody>\n",
       "</table>\n",
       "</div>"
      ],
      "text/plain": [
       "         id  user_id message_date  day  month  year\n",
       "0  1000_125     1000   2018-12-27   27     12  2018\n",
       "1  1000_160     1000   2018-12-31   31     12  2018\n",
       "2  1000_223     1000   2018-12-31   31     12  2018\n",
       "3  1000_251     1000   2018-12-27   27     12  2018\n",
       "4  1000_255     1000   2018-12-26   26     12  2018"
      ]
     },
     "execution_count": 602,
     "metadata": {},
     "output_type": "execute_result"
    }
   ],
   "source": [
    "# separates the datetime column\n",
    "\n",
    "# create a day column\n",
    "messages['day'] = messages['message_date'].dt.day\n",
    "\n",
    "# create month column\n",
    "messages['month'] = messages['message_date'].dt. month\n",
    "\n",
    "# create a year column\n",
    "messages['year'] = messages['message_date'].dt. year\n",
    "\n",
    "# displays sample data\n",
    "messages.head()"
   ]
  },
  {
   "attachments": {},
   "cell_type": "markdown",
   "metadata": {},
   "source": [
    "Additional columns have been made and are as expected."
   ]
  },
  {
   "attachments": {},
   "cell_type": "markdown",
   "metadata": {},
   "source": [
    "## Internet <a id= 'cont_14' ></a>"
   ]
  },
  {
   "cell_type": "code",
   "execution_count": 603,
   "metadata": {},
   "outputs": [
    {
     "name": "stdout",
     "output_type": "stream",
     "text": [
      "<class 'pandas.core.frame.DataFrame'>\n",
      "RangeIndex: 104825 entries, 0 to 104824\n",
      "Data columns (total 4 columns):\n",
      " #   Column        Non-Null Count   Dtype  \n",
      "---  ------        --------------   -----  \n",
      " 0   id            104825 non-null  object \n",
      " 1   user_id       104825 non-null  int64  \n",
      " 2   session_date  104825 non-null  object \n",
      " 3   mb_used       104825 non-null  float64\n",
      "dtypes: float64(1), int64(1), object(2)\n",
      "memory usage: 3.2+ MB\n"
     ]
    }
   ],
   "source": [
    "# displays general information/summary about Internet DataFrames\n",
    "internet.info()"
   ]
  },
  {
   "cell_type": "code",
   "execution_count": 604,
   "metadata": {},
   "outputs": [
    {
     "data": {
      "text/html": [
       "<div>\n",
       "<style scoped>\n",
       "    .dataframe tbody tr th:only-of-type {\n",
       "        vertical-align: middle;\n",
       "    }\n",
       "\n",
       "    .dataframe tbody tr th {\n",
       "        vertical-align: top;\n",
       "    }\n",
       "\n",
       "    .dataframe thead th {\n",
       "        text-align: right;\n",
       "    }\n",
       "</style>\n",
       "<table border=\"1\" class=\"dataframe\">\n",
       "  <thead>\n",
       "    <tr style=\"text-align: right;\">\n",
       "      <th></th>\n",
       "      <th>id</th>\n",
       "      <th>user_id</th>\n",
       "      <th>session_date</th>\n",
       "      <th>mb_used</th>\n",
       "    </tr>\n",
       "  </thead>\n",
       "  <tbody>\n",
       "    <tr>\n",
       "      <th>0</th>\n",
       "      <td>1000_13</td>\n",
       "      <td>1000</td>\n",
       "      <td>2018-12-29</td>\n",
       "      <td>89.86</td>\n",
       "    </tr>\n",
       "    <tr>\n",
       "      <th>1</th>\n",
       "      <td>1000_204</td>\n",
       "      <td>1000</td>\n",
       "      <td>2018-12-31</td>\n",
       "      <td>0.00</td>\n",
       "    </tr>\n",
       "    <tr>\n",
       "      <th>2</th>\n",
       "      <td>1000_379</td>\n",
       "      <td>1000</td>\n",
       "      <td>2018-12-28</td>\n",
       "      <td>660.40</td>\n",
       "    </tr>\n",
       "    <tr>\n",
       "      <th>3</th>\n",
       "      <td>1000_413</td>\n",
       "      <td>1000</td>\n",
       "      <td>2018-12-26</td>\n",
       "      <td>270.99</td>\n",
       "    </tr>\n",
       "    <tr>\n",
       "      <th>4</th>\n",
       "      <td>1000_442</td>\n",
       "      <td>1000</td>\n",
       "      <td>2018-12-27</td>\n",
       "      <td>880.22</td>\n",
       "    </tr>\n",
       "    <tr>\n",
       "      <th>...</th>\n",
       "      <td>...</td>\n",
       "      <td>...</td>\n",
       "      <td>...</td>\n",
       "      <td>...</td>\n",
       "    </tr>\n",
       "    <tr>\n",
       "      <th>104820</th>\n",
       "      <td>1499_215</td>\n",
       "      <td>1499</td>\n",
       "      <td>2018-10-20</td>\n",
       "      <td>218.06</td>\n",
       "    </tr>\n",
       "    <tr>\n",
       "      <th>104821</th>\n",
       "      <td>1499_216</td>\n",
       "      <td>1499</td>\n",
       "      <td>2018-12-30</td>\n",
       "      <td>304.72</td>\n",
       "    </tr>\n",
       "    <tr>\n",
       "      <th>104822</th>\n",
       "      <td>1499_217</td>\n",
       "      <td>1499</td>\n",
       "      <td>2018-09-22</td>\n",
       "      <td>292.75</td>\n",
       "    </tr>\n",
       "    <tr>\n",
       "      <th>104823</th>\n",
       "      <td>1499_218</td>\n",
       "      <td>1499</td>\n",
       "      <td>2018-12-07</td>\n",
       "      <td>0.00</td>\n",
       "    </tr>\n",
       "    <tr>\n",
       "      <th>104824</th>\n",
       "      <td>1499_219</td>\n",
       "      <td>1499</td>\n",
       "      <td>2018-12-24</td>\n",
       "      <td>758.31</td>\n",
       "    </tr>\n",
       "  </tbody>\n",
       "</table>\n",
       "<p>104825 rows × 4 columns</p>\n",
       "</div>"
      ],
      "text/plain": [
       "              id  user_id session_date  mb_used\n",
       "0        1000_13     1000   2018-12-29    89.86\n",
       "1       1000_204     1000   2018-12-31     0.00\n",
       "2       1000_379     1000   2018-12-28   660.40\n",
       "3       1000_413     1000   2018-12-26   270.99\n",
       "4       1000_442     1000   2018-12-27   880.22\n",
       "...          ...      ...          ...      ...\n",
       "104820  1499_215     1499   2018-10-20   218.06\n",
       "104821  1499_216     1499   2018-12-30   304.72\n",
       "104822  1499_217     1499   2018-09-22   292.75\n",
       "104823  1499_218     1499   2018-12-07     0.00\n",
       "104824  1499_219     1499   2018-12-24   758.31\n",
       "\n",
       "[104825 rows x 4 columns]"
      ]
     },
     "execution_count": 604,
     "metadata": {},
     "output_type": "execute_result"
    }
   ],
   "source": [
    "# displays sample data for internet traffic\n",
    "internet"
   ]
  },
  {
   "cell_type": "code",
   "execution_count": 605,
   "metadata": {},
   "outputs": [
    {
     "data": {
      "text/plain": [
       "0"
      ]
     },
     "execution_count": 605,
     "metadata": {},
     "output_type": "execute_result"
    }
   ],
   "source": [
    "# check for duplicates in the `internet` dataset\n",
    "internet.duplicated().sum()"
   ]
  },
  {
   "attachments": {},
   "cell_type": "markdown",
   "metadata": {},
   "source": [
    "From checking above, it can be seen that there is `wrong data type`. Next is the fix for the problem."
   ]
  },
  {
   "attachments": {},
   "cell_type": "markdown",
   "metadata": {},
   "source": [
    "### Fix Data <a id= 'cont_15' ></a>"
   ]
  },
  {
   "attachments": {},
   "cell_type": "markdown",
   "metadata": {},
   "source": [
    "Changed the wrong data type from `object` to `datetime`."
   ]
  },
  {
   "cell_type": "code",
   "execution_count": 606,
   "metadata": {},
   "outputs": [
    {
     "name": "stdout",
     "output_type": "stream",
     "text": [
      "<class 'pandas.core.frame.DataFrame'>\n",
      "RangeIndex: 104825 entries, 0 to 104824\n",
      "Data columns (total 4 columns):\n",
      " #   Column        Non-Null Count   Dtype         \n",
      "---  ------        --------------   -----         \n",
      " 0   id            104825 non-null  object        \n",
      " 1   user_id       104825 non-null  int64         \n",
      " 2   session_date  104825 non-null  datetime64[ns]\n",
      " 3   mb_used       104825 non-null  float64       \n",
      "dtypes: datetime64[ns](1), float64(1), int64(1), object(1)\n",
      "memory usage: 3.2+ MB\n"
     ]
    }
   ],
   "source": [
    "# change the data type in the `session_date` column to the `datetime` data type\n",
    "internet['session_date'] = pd.to_datetime(internet['session_date'],format='%Y-%m-%d')\n",
    "\n",
    "# display the `internet` dataframe information\n",
    "internet.info()"
   ]
  },
  {
   "attachments": {},
   "cell_type": "markdown",
   "metadata": {},
   "source": [
    "The data type in the `session_date` column has been fixed to `datetime`."
   ]
  },
  {
   "attachments": {},
   "cell_type": "markdown",
   "metadata": {},
   "source": [
    "### Enrich Data Quality <a id= 'cont_16' ></a>"
   ]
  },
  {
   "attachments": {},
   "cell_type": "markdown",
   "metadata": {},
   "source": [
    "Furthermore, to facilitate analysis, several additional columns are needed such as separating `datetime` based on `day`, `month`, `year`."
   ]
  },
  {
   "cell_type": "code",
   "execution_count": 607,
   "metadata": {},
   "outputs": [
    {
     "data": {
      "text/html": [
       "<div>\n",
       "<style scoped>\n",
       "    .dataframe tbody tr th:only-of-type {\n",
       "        vertical-align: middle;\n",
       "    }\n",
       "\n",
       "    .dataframe tbody tr th {\n",
       "        vertical-align: top;\n",
       "    }\n",
       "\n",
       "    .dataframe thead th {\n",
       "        text-align: right;\n",
       "    }\n",
       "</style>\n",
       "<table border=\"1\" class=\"dataframe\">\n",
       "  <thead>\n",
       "    <tr style=\"text-align: right;\">\n",
       "      <th></th>\n",
       "      <th>id</th>\n",
       "      <th>user_id</th>\n",
       "      <th>session_date</th>\n",
       "      <th>mb_used</th>\n",
       "      <th>day</th>\n",
       "      <th>month</th>\n",
       "      <th>year</th>\n",
       "    </tr>\n",
       "  </thead>\n",
       "  <tbody>\n",
       "    <tr>\n",
       "      <th>0</th>\n",
       "      <td>1000_13</td>\n",
       "      <td>1000</td>\n",
       "      <td>2018-12-29</td>\n",
       "      <td>89.86</td>\n",
       "      <td>29</td>\n",
       "      <td>12</td>\n",
       "      <td>2018</td>\n",
       "    </tr>\n",
       "    <tr>\n",
       "      <th>1</th>\n",
       "      <td>1000_204</td>\n",
       "      <td>1000</td>\n",
       "      <td>2018-12-31</td>\n",
       "      <td>0.00</td>\n",
       "      <td>31</td>\n",
       "      <td>12</td>\n",
       "      <td>2018</td>\n",
       "    </tr>\n",
       "    <tr>\n",
       "      <th>2</th>\n",
       "      <td>1000_379</td>\n",
       "      <td>1000</td>\n",
       "      <td>2018-12-28</td>\n",
       "      <td>660.40</td>\n",
       "      <td>28</td>\n",
       "      <td>12</td>\n",
       "      <td>2018</td>\n",
       "    </tr>\n",
       "    <tr>\n",
       "      <th>3</th>\n",
       "      <td>1000_413</td>\n",
       "      <td>1000</td>\n",
       "      <td>2018-12-26</td>\n",
       "      <td>270.99</td>\n",
       "      <td>26</td>\n",
       "      <td>12</td>\n",
       "      <td>2018</td>\n",
       "    </tr>\n",
       "    <tr>\n",
       "      <th>4</th>\n",
       "      <td>1000_442</td>\n",
       "      <td>1000</td>\n",
       "      <td>2018-12-27</td>\n",
       "      <td>880.22</td>\n",
       "      <td>27</td>\n",
       "      <td>12</td>\n",
       "      <td>2018</td>\n",
       "    </tr>\n",
       "  </tbody>\n",
       "</table>\n",
       "</div>"
      ],
      "text/plain": [
       "         id  user_id session_date  mb_used  day  month  year\n",
       "0   1000_13     1000   2018-12-29    89.86   29     12  2018\n",
       "1  1000_204     1000   2018-12-31     0.00   31     12  2018\n",
       "2  1000_379     1000   2018-12-28   660.40   28     12  2018\n",
       "3  1000_413     1000   2018-12-26   270.99   26     12  2018\n",
       "4  1000_442     1000   2018-12-27   880.22   27     12  2018"
      ]
     },
     "execution_count": 607,
     "metadata": {},
     "output_type": "execute_result"
    }
   ],
   "source": [
    "# separates the datetime column\n",
    "\n",
    "# create a day column\n",
    "internet['day'] = internet['session_date'].dt.day\n",
    "\n",
    "# create month column\n",
    "internet['month'] = internet['session_date'].dt. month\n",
    "\n",
    "# create a year column\n",
    "internet['year'] = internet['session_date'].dt. year\n",
    "\n",
    "# displays sample data\n",
    "internet.head()"
   ]
  },
  {
   "attachments": {},
   "cell_type": "markdown",
   "metadata": {},
   "source": [
    "Additional columns have been made and are as expected."
   ]
  },
  {
   "attachments": {},
   "cell_type": "markdown",
   "metadata": {},
   "source": [
    "## Study the Terms and Conditions Related to Prepaid Packages <a id= 'cont_17' ></a>"
   ]
  },
  {
   "attachments": {},
   "cell_type": "markdown",
   "metadata": {},
   "source": [
    "Let's study the terms and conditions related to Prepaid Packages based on the `plans` dataframe. Let's display the dataframe again."
   ]
  },
  {
   "cell_type": "code",
   "execution_count": 608,
   "metadata": {},
   "outputs": [
    {
     "data": {
      "text/html": [
       "<div>\n",
       "<style scoped>\n",
       "    .dataframe tbody tr th:only-of-type {\n",
       "        vertical-align: middle;\n",
       "    }\n",
       "\n",
       "    .dataframe tbody tr th {\n",
       "        vertical-align: top;\n",
       "    }\n",
       "\n",
       "    .dataframe thead th {\n",
       "        text-align: right;\n",
       "    }\n",
       "</style>\n",
       "<table border=\"1\" class=\"dataframe\">\n",
       "  <thead>\n",
       "    <tr style=\"text-align: right;\">\n",
       "      <th></th>\n",
       "      <th>messages_included</th>\n",
       "      <th>mb_per_month_included</th>\n",
       "      <th>minutes_included</th>\n",
       "      <th>usd_monthly_pay</th>\n",
       "      <th>usd_per_gb</th>\n",
       "      <th>usd_per_message</th>\n",
       "      <th>usd_per_minute</th>\n",
       "      <th>plan_name</th>\n",
       "    </tr>\n",
       "  </thead>\n",
       "  <tbody>\n",
       "    <tr>\n",
       "      <th>0</th>\n",
       "      <td>50</td>\n",
       "      <td>15360</td>\n",
       "      <td>500</td>\n",
       "      <td>20</td>\n",
       "      <td>10</td>\n",
       "      <td>0.03</td>\n",
       "      <td>0.03</td>\n",
       "      <td>surf</td>\n",
       "    </tr>\n",
       "    <tr>\n",
       "      <th>1</th>\n",
       "      <td>1000</td>\n",
       "      <td>30720</td>\n",
       "      <td>3000</td>\n",
       "      <td>70</td>\n",
       "      <td>7</td>\n",
       "      <td>0.01</td>\n",
       "      <td>0.01</td>\n",
       "      <td>ultimate</td>\n",
       "    </tr>\n",
       "  </tbody>\n",
       "</table>\n",
       "</div>"
      ],
      "text/plain": [
       "   messages_included  mb_per_month_included  minutes_included   \n",
       "0                 50                  15360               500  \\\n",
       "1               1000                  30720              3000   \n",
       "\n",
       "   usd_monthly_pay  usd_per_gb  usd_per_message  usd_per_minute plan_name  \n",
       "0               20          10             0.03            0.03      surf  \n",
       "1               70           7             0.01            0.01  ultimate  "
      ]
     },
     "execution_count": 608,
     "metadata": {},
     "output_type": "execute_result"
    }
   ],
   "source": [
    "# displays the terms of the prepaid package\n",
    "plans"
   ]
  },
  {
   "attachments": {},
   "cell_type": "markdown",
   "metadata": {},
   "source": [
    "From the information above we can conclude that:\n",
    "- `Package` consists of two types, namely `Surf Plan` and `Ultimate Plan`\n",
    "- Each package has facilities that are provided when we buy the package and if the facility runs out, an 'additional fee' will be charged which is calculated based on the unit usage fee multiplied by the number of uses.\n",
    "- Some of the facilities and amounts provided when we choose a prepaid package are listed in the `messages_included`, `mb_per_month_included` and `minutes_included` columns.\n",
    "- The monthly package fee is listed in the `usd_monthly_pay` column.\n",
    "- Additional fees charged if the main facility has been used up by category by multiplying the number of categories used by the category units charged are listed in the `usd_per_gb`, `usd_per_message` and `usd_per_minute` columns."
   ]
  },
  {
   "attachments": {},
   "cell_type": "markdown",
   "metadata": {},
   "source": [
    "## Aggregating Data per User <a id= 'cont_18' ></a>"
   ]
  },
  {
   "attachments": {},
   "cell_type": "markdown",
   "metadata": {},
   "source": [
    "After the data pre-processing stage, we will continue by aggregating data to make it easier to analyze. Some of the steps include:\n",
    "1. Aggregation of each dataframe based on `user_id` includes desired data such as `amount` or `counting` performed by users during 2018.\n",
    "2. Create a column to calculate the number of active months for each user.\n",
    "3. Create a column for the number of user data for one year divided by the number of active months of the user to get the average user data for a month in each dataframe.\n",
    "4. Create a new dataframe by combining all the user's needs for `user_id` for a month both `call`, `sms`, `internet` and add a column for the user package purchased by `plans`.\n",
    "5. Calculate additional costs if the facilities available in the package run out and calculate the total cost per user.\n",
    "6. Filter the dataframe according to the dataset needed for further analysis."
   ]
  },
  {
   "cell_type": "code",
   "execution_count": 609,
   "metadata": {},
   "outputs": [
    {
     "data": {
      "text/html": [
       "<div>\n",
       "<style scoped>\n",
       "    .dataframe tbody tr th:only-of-type {\n",
       "        vertical-align: middle;\n",
       "    }\n",
       "\n",
       "    .dataframe tbody tr th {\n",
       "        vertical-align: top;\n",
       "    }\n",
       "\n",
       "    .dataframe thead th {\n",
       "        text-align: right;\n",
       "    }\n",
       "</style>\n",
       "<table border=\"1\" class=\"dataframe\">\n",
       "  <thead>\n",
       "    <tr style=\"text-align: right;\">\n",
       "      <th></th>\n",
       "      <th>count_call</th>\n",
       "      <th>call_month</th>\n",
       "      <th>call_per_month</th>\n",
       "    </tr>\n",
       "    <tr>\n",
       "      <th>user_id</th>\n",
       "      <th></th>\n",
       "      <th></th>\n",
       "      <th></th>\n",
       "    </tr>\n",
       "  </thead>\n",
       "  <tbody>\n",
       "    <tr>\n",
       "      <th>1000</th>\n",
       "      <td>16</td>\n",
       "      <td>1</td>\n",
       "      <td>16</td>\n",
       "    </tr>\n",
       "    <tr>\n",
       "      <th>1001</th>\n",
       "      <td>261</td>\n",
       "      <td>5</td>\n",
       "      <td>53</td>\n",
       "    </tr>\n",
       "    <tr>\n",
       "      <th>1002</th>\n",
       "      <td>113</td>\n",
       "      <td>3</td>\n",
       "      <td>38</td>\n",
       "    </tr>\n",
       "    <tr>\n",
       "      <th>1003</th>\n",
       "      <td>149</td>\n",
       "      <td>1</td>\n",
       "      <td>149</td>\n",
       "    </tr>\n",
       "    <tr>\n",
       "      <th>1004</th>\n",
       "      <td>370</td>\n",
       "      <td>8</td>\n",
       "      <td>47</td>\n",
       "    </tr>\n",
       "  </tbody>\n",
       "</table>\n",
       "</div>"
      ],
      "text/plain": [
       "         count_call  call_month  call_per_month\n",
       "user_id                                        \n",
       "1000             16           1              16\n",
       "1001            261           5              53\n",
       "1002            113           3              38\n",
       "1003            149           1             149\n",
       "1004            370           8              47"
      ]
     },
     "execution_count": 609,
     "metadata": {},
     "output_type": "execute_result"
    }
   ],
   "source": [
    "# calculate the number of calls made by each user per month.\n",
    "\n",
    "# create a pivot_table for the number of calls users made in 2018\n",
    "call_count = pd.pivot_table(calls, index = 'user_id', values = 'call_date', aggfunc = 'count').reset_index()\n",
    "\n",
    "# create a function to calculate the number of active months per user\n",
    "def month_calls(user):\n",
    "    slicer = calls. query('user_id == @user')\n",
    "    total = len(slicer['month'].unique())\n",
    "    return total\n",
    "\n",
    "# implement the function of calculating each user's active months into a new column\n",
    "call_count['call_month'] = call_count['user_id'].apply(month_calls)\n",
    "\n",
    "# calculate the number of user calls for one month\n",
    "call_count['call_per_month'] = call_count['call_date']/call_count['call_month']\n",
    "\n",
    "# round off the number of user calls for a month\n",
    "call_count['call_per_month'] = call_count['call_per_month'].apply(lambda x: mt. ceil(x))\n",
    "\n",
    "# rename column `call_date` to column name `count_call`\n",
    "call_count.rename(columns={'call_date':'count_call'},inplace=True)\n",
    "\n",
    "# make column `user_id` index\n",
    "call_count.set_index('user_id',inplace = True)\n",
    "\n",
    "# displays sample data\n",
    "call_count.head()"
   ]
  },
  {
   "cell_type": "code",
   "execution_count": 610,
   "metadata": {},
   "outputs": [
    {
     "data": {
      "text/html": [
       "<div>\n",
       "<style scoped>\n",
       "    .dataframe tbody tr th:only-of-type {\n",
       "        vertical-align: middle;\n",
       "    }\n",
       "\n",
       "    .dataframe tbody tr th {\n",
       "        vertical-align: top;\n",
       "    }\n",
       "\n",
       "    .dataframe thead th {\n",
       "        text-align: right;\n",
       "    }\n",
       "</style>\n",
       "<table border=\"1\" class=\"dataframe\">\n",
       "  <thead>\n",
       "    <tr style=\"text-align: right;\">\n",
       "      <th></th>\n",
       "      <th>sum_duration</th>\n",
       "      <th>count_month</th>\n",
       "      <th>min_per_month</th>\n",
       "    </tr>\n",
       "    <tr>\n",
       "      <th>user_id</th>\n",
       "      <th></th>\n",
       "      <th></th>\n",
       "      <th></th>\n",
       "    </tr>\n",
       "  </thead>\n",
       "  <tbody>\n",
       "    <tr>\n",
       "      <th>1000</th>\n",
       "      <td>116.83</td>\n",
       "      <td>1</td>\n",
       "      <td>116.830000</td>\n",
       "    </tr>\n",
       "    <tr>\n",
       "      <th>1001</th>\n",
       "      <td>1640.46</td>\n",
       "      <td>5</td>\n",
       "      <td>328.092000</td>\n",
       "    </tr>\n",
       "    <tr>\n",
       "      <th>1002</th>\n",
       "      <td>777.13</td>\n",
       "      <td>3</td>\n",
       "      <td>259.043333</td>\n",
       "    </tr>\n",
       "    <tr>\n",
       "      <th>1003</th>\n",
       "      <td>1041.00</td>\n",
       "      <td>1</td>\n",
       "      <td>1041.000000</td>\n",
       "    </tr>\n",
       "    <tr>\n",
       "      <th>1004</th>\n",
       "      <td>2618.95</td>\n",
       "      <td>8</td>\n",
       "      <td>327.368750</td>\n",
       "    </tr>\n",
       "  </tbody>\n",
       "</table>\n",
       "</div>"
      ],
      "text/plain": [
       "         sum_duration  count_month  min_per_month\n",
       "user_id                                          \n",
       "1000           116.83            1     116.830000\n",
       "1001          1640.46            5     328.092000\n",
       "1002           777.13            3     259.043333\n",
       "1003          1041.00            1    1041.000000\n",
       "1004          2618.95            8     327.368750"
      ]
     },
     "execution_count": 610,
     "metadata": {},
     "output_type": "execute_result"
    }
   ],
   "source": [
    "# calculate the number of minutes spent by each user on calls per month.\n",
    "\n",
    "# create a pivot_table for call durations users made in 2018\n",
    "call_min = pd.pivot_table(calls, index = 'user_id', values = 'duration', aggfunc = 'sum').reset_index()\n",
    "\n",
    "# implement the function of calculating each user's active months into a new column\n",
    "call_min['count_month'] = call_min['user_id'].apply(month_calls)\n",
    "\n",
    "# calculates the duration of a user's call for one month\n",
    "call_min['min_per_month'] = call_min['duration']/call_min['count_month']\n",
    "\n",
    "# rename column `duration` to column name `sum_duration`\n",
    "call_min.rename(columns={'duration':'sum_duration'},inplace = True)\n",
    "\n",
    "# make column `user_id` index\n",
    "call_min.set_index('user_id', inplace = True)\n",
    "\n",
    "# displays sample data\n",
    "call_min.head()"
   ]
  },
  {
   "cell_type": "code",
   "execution_count": 611,
   "metadata": {},
   "outputs": [
    {
     "data": {
      "text/html": [
       "<div>\n",
       "<style scoped>\n",
       "    .dataframe tbody tr th:only-of-type {\n",
       "        vertical-align: middle;\n",
       "    }\n",
       "\n",
       "    .dataframe tbody tr th {\n",
       "        vertical-align: top;\n",
       "    }\n",
       "\n",
       "    .dataframe thead th {\n",
       "        text-align: right;\n",
       "    }\n",
       "</style>\n",
       "<table border=\"1\" class=\"dataframe\">\n",
       "  <thead>\n",
       "    <tr style=\"text-align: right;\">\n",
       "      <th></th>\n",
       "      <th>count_sms</th>\n",
       "      <th>count_month</th>\n",
       "      <th>sms_per_month</th>\n",
       "    </tr>\n",
       "    <tr>\n",
       "      <th>user_id</th>\n",
       "      <th></th>\n",
       "      <th></th>\n",
       "      <th></th>\n",
       "    </tr>\n",
       "  </thead>\n",
       "  <tbody>\n",
       "    <tr>\n",
       "      <th>1000</th>\n",
       "      <td>11</td>\n",
       "      <td>1</td>\n",
       "      <td>11</td>\n",
       "    </tr>\n",
       "    <tr>\n",
       "      <th>1001</th>\n",
       "      <td>207</td>\n",
       "      <td>5</td>\n",
       "      <td>42</td>\n",
       "    </tr>\n",
       "    <tr>\n",
       "      <th>1002</th>\n",
       "      <td>88</td>\n",
       "      <td>3</td>\n",
       "      <td>30</td>\n",
       "    </tr>\n",
       "    <tr>\n",
       "      <th>1003</th>\n",
       "      <td>50</td>\n",
       "      <td>1</td>\n",
       "      <td>50</td>\n",
       "    </tr>\n",
       "    <tr>\n",
       "      <th>1004</th>\n",
       "      <td>177</td>\n",
       "      <td>8</td>\n",
       "      <td>23</td>\n",
       "    </tr>\n",
       "  </tbody>\n",
       "</table>\n",
       "</div>"
      ],
      "text/plain": [
       "         count_sms  count_month  sms_per_month\n",
       "user_id                                       \n",
       "1000            11            1             11\n",
       "1001           207            5             42\n",
       "1002            88            3             30\n",
       "1003            50            1             50\n",
       "1004           177            8             23"
      ]
     },
     "execution_count": 611,
     "metadata": {},
     "output_type": "execute_result"
    }
   ],
   "source": [
    "# calculate the number of SMS sent by each user per month.\n",
    "\n",
    "# create a pivot_table for the number of sms users did in 2018\n",
    "message_count = pd.pivot_table(messages, index = 'user_id', values = 'message_date', aggfunc = 'count').reset_index()\n",
    "\n",
    "# create a function to calculate the number of active months per user\n",
    "def month_sms(user):\n",
    "    slice = messages.query('user_id == @user')\n",
    "    total = len(slice['month'].unique())\n",
    "    return total\n",
    "\n",
    "# implement the function of calculating each user's active months into a new column\n",
    "message_count['count_month'] = message_count['user_id'].apply(month_sms)\n",
    "\n",
    "# calculate the number of SMS users for one month\n",
    "message_count['sms_per_month'] = message_count['message_date']/message_count['count_month']\n",
    "\n",
    "# Round up the number of SMS users for one month\n",
    "message_count['sms_per_month'] = message_count['sms_per_month'].apply(lambda x: mt. ceil(x))\n",
    "\n",
    "# rename column `message_date` to column name `count_sms`\n",
    "message_count.rename(columns = {'message_date':'count_sms'}, inplace = True)\n",
    "\n",
    "# make column `user_id` index\n",
    "message_count.set_index('user_id', inplace = True)\n",
    "\n",
    "# displays sample data\n",
    "message_count.head()"
   ]
  },
  {
   "cell_type": "code",
   "execution_count": 612,
   "metadata": {},
   "outputs": [
    {
     "data": {
      "text/html": [
       "<div>\n",
       "<style scoped>\n",
       "    .dataframe tbody tr th:only-of-type {\n",
       "        vertical-align: middle;\n",
       "    }\n",
       "\n",
       "    .dataframe tbody tr th {\n",
       "        vertical-align: top;\n",
       "    }\n",
       "\n",
       "    .dataframe thead th {\n",
       "        text-align: right;\n",
       "    }\n",
       "</style>\n",
       "<table border=\"1\" class=\"dataframe\">\n",
       "  <thead>\n",
       "    <tr style=\"text-align: right;\">\n",
       "      <th></th>\n",
       "      <th>mb_used</th>\n",
       "      <th>count_month</th>\n",
       "      <th>mb_per_month</th>\n",
       "    </tr>\n",
       "    <tr>\n",
       "      <th>user_id</th>\n",
       "      <th></th>\n",
       "      <th></th>\n",
       "      <th></th>\n",
       "    </tr>\n",
       "  </thead>\n",
       "  <tbody>\n",
       "    <tr>\n",
       "      <th>1000</th>\n",
       "      <td>1901.47</td>\n",
       "      <td>1</td>\n",
       "      <td>1901.47000</td>\n",
       "    </tr>\n",
       "    <tr>\n",
       "      <th>1001</th>\n",
       "      <td>80437.94</td>\n",
       "      <td>5</td>\n",
       "      <td>16087.58800</td>\n",
       "    </tr>\n",
       "    <tr>\n",
       "      <th>1002</th>\n",
       "      <td>40293.33</td>\n",
       "      <td>3</td>\n",
       "      <td>13431.11000</td>\n",
       "    </tr>\n",
       "    <tr>\n",
       "      <th>1003</th>\n",
       "      <td>27044.14</td>\n",
       "      <td>1</td>\n",
       "      <td>27044.14000</td>\n",
       "    </tr>\n",
       "    <tr>\n",
       "      <th>1004</th>\n",
       "      <td>156352.81</td>\n",
       "      <td>8</td>\n",
       "      <td>19544.10125</td>\n",
       "    </tr>\n",
       "  </tbody>\n",
       "</table>\n",
       "</div>"
      ],
      "text/plain": [
       "           mb_used  count_month  mb_per_month\n",
       "user_id                                      \n",
       "1000       1901.47            1    1901.47000\n",
       "1001      80437.94            5   16087.58800\n",
       "1002      40293.33            3   13431.11000\n",
       "1003      27044.14            1   27044.14000\n",
       "1004     156352.81            8   19544.10125"
      ]
     },
     "execution_count": 612,
     "metadata": {},
     "output_type": "execute_result"
    }
   ],
   "source": [
    "# calculate the volume of internet traffic used by each user per month.\n",
    "\n",
    "# create a pivot_table for the amount of internet data that users do in 2018\n",
    "internet_count = pd.pivot_table(internet, index = 'user_id', values = 'mb_used', aggfunc = 'sum').reset_index()\n",
    "\n",
    "# create a function to calculate the number of active months per user\n",
    "def month_internet(user):\n",
    "    slice = internet.query('user_id == @user')\n",
    "    total = len(slice['month'].unique())\n",
    "    return total\n",
    "\n",
    "# implement the function of calculating each user's active months into a new column\n",
    "internet_count['count_month'] = internet_count['user_id'].apply(month_internet)\n",
    "\n",
    "# calculate the amount of user internet data for one month\n",
    "internet_count['mb_per_month'] = internet_count['mb_used']/internet_count['count_month']\n",
    "\n",
    "# make column `user_id` index\n",
    "internet_count.set_index('user_id', inplace = True)\n",
    "\n",
    "# displays sample data\n",
    "internet_count.head()"
   ]
  },
  {
   "attachments": {},
   "cell_type": "markdown",
   "metadata": {},
   "source": [
    "After the aggregation process for each dataframe has been carried out, we create a new dataframe and combine it with some of the datasets that we need from the previous dataframe."
   ]
  },
  {
   "cell_type": "code",
   "execution_count": 613,
   "metadata": {},
   "outputs": [
    {
     "data": {
      "text/html": [
       "<div>\n",
       "<style scoped>\n",
       "    .dataframe tbody tr th:only-of-type {\n",
       "        vertical-align: middle;\n",
       "    }\n",
       "\n",
       "    .dataframe tbody tr th {\n",
       "        vertical-align: top;\n",
       "    }\n",
       "\n",
       "    .dataframe thead th {\n",
       "        text-align: right;\n",
       "    }\n",
       "</style>\n",
       "<table border=\"1\" class=\"dataframe\">\n",
       "  <thead>\n",
       "    <tr style=\"text-align: right;\">\n",
       "      <th></th>\n",
       "      <th>user_id</th>\n",
       "      <th>region</th>\n",
       "      <th>call_per_month</th>\n",
       "      <th>min_per_month</th>\n",
       "      <th>sms_per_month</th>\n",
       "      <th>mb_per_month</th>\n",
       "    </tr>\n",
       "  </thead>\n",
       "  <tbody>\n",
       "    <tr>\n",
       "      <th>0</th>\n",
       "      <td>1000</td>\n",
       "      <td>other</td>\n",
       "      <td>16.0</td>\n",
       "      <td>116.830000</td>\n",
       "      <td>11.0</td>\n",
       "      <td>1901.47000</td>\n",
       "    </tr>\n",
       "    <tr>\n",
       "      <th>1</th>\n",
       "      <td>1001</td>\n",
       "      <td>other</td>\n",
       "      <td>53.0</td>\n",
       "      <td>328.092000</td>\n",
       "      <td>42.0</td>\n",
       "      <td>16087.58800</td>\n",
       "    </tr>\n",
       "    <tr>\n",
       "      <th>2</th>\n",
       "      <td>1002</td>\n",
       "      <td>other</td>\n",
       "      <td>38.0</td>\n",
       "      <td>259.043333</td>\n",
       "      <td>30.0</td>\n",
       "      <td>13431.11000</td>\n",
       "    </tr>\n",
       "    <tr>\n",
       "      <th>3</th>\n",
       "      <td>1003</td>\n",
       "      <td>other</td>\n",
       "      <td>149.0</td>\n",
       "      <td>1041.000000</td>\n",
       "      <td>50.0</td>\n",
       "      <td>27044.14000</td>\n",
       "    </tr>\n",
       "    <tr>\n",
       "      <th>4</th>\n",
       "      <td>1004</td>\n",
       "      <td>other</td>\n",
       "      <td>47.0</td>\n",
       "      <td>327.368750</td>\n",
       "      <td>23.0</td>\n",
       "      <td>19544.10125</td>\n",
       "    </tr>\n",
       "  </tbody>\n",
       "</table>\n",
       "</div>"
      ],
      "text/plain": [
       "   user_id region  call_per_month  min_per_month  sms_per_month  mb_per_month\n",
       "0     1000  other            16.0     116.830000           11.0    1901.47000\n",
       "1     1001  other            53.0     328.092000           42.0   16087.58800\n",
       "2     1002  other            38.0     259.043333           30.0   13431.11000\n",
       "3     1003  other           149.0    1041.000000           50.0   27044.14000\n",
       "4     1004  other            47.0     327.368750           23.0   19544.10125"
      ]
     },
     "execution_count": 613,
     "metadata": {},
     "output_type": "execute_result"
    }
   ],
   "source": [
    "# combine call data, minutes, SMS and internet based on user_id and month (month)\n",
    "\n",
    "# create a new dataframe based on the all users dataframe `users` dataframe\n",
    "user_usage = pd.DataFrame(users)\n",
    "\n",
    "# filters the selected datasets namely `user_id` and `region`\n",
    "user_usage = user_usage[['user_id','region']]\n",
    "\n",
    "# make column `user_id` index\n",
    "user_usage.set_index('user_id',inplace = True)\n",
    "\n",
    "# merge selected datasets from other dataframes into the new dataframe\n",
    "user_usage['call_per_month'] = call_count['call_per_month']\n",
    "user_usage['min_per_month'] = call_min['min_per_month']\n",
    "user_usage['sms_per_month'] = message_count['sms_per_month']\n",
    "user_usage['mb_per_month'] = internet_count['mb_per_month']\n",
    "\n",
    "# reset the index on the new dataframe\n",
    "user_usage.reset_index(inplace = True)\n",
    "\n",
    "# displays the new sample dataframe\n",
    "user_usage.head()"
   ]
  },
  {
   "attachments": {},
   "cell_type": "markdown",
   "metadata": {},
   "source": [
    "Next, we add the `Prepaid Package` information purchased by each user in the new dataframe. So that the `user_id` column is not lost when doing `set_index`, we make a duplicate of it first."
   ]
  },
  {
   "cell_type": "code",
   "execution_count": 614,
   "metadata": {},
   "outputs": [
    {
     "data": {
      "text/html": [
       "<div>\n",
       "<style scoped>\n",
       "    .dataframe tbody tr th:only-of-type {\n",
       "        vertical-align: middle;\n",
       "    }\n",
       "\n",
       "    .dataframe tbody tr th {\n",
       "        vertical-align: top;\n",
       "    }\n",
       "\n",
       "    .dataframe thead th {\n",
       "        text-align: right;\n",
       "    }\n",
       "</style>\n",
       "<table border=\"1\" class=\"dataframe\">\n",
       "  <thead>\n",
       "    <tr style=\"text-align: right;\">\n",
       "      <th></th>\n",
       "      <th>region</th>\n",
       "      <th>call_per_month</th>\n",
       "      <th>min_per_month</th>\n",
       "      <th>sms_per_month</th>\n",
       "      <th>mb_per_month</th>\n",
       "      <th>user_id_index</th>\n",
       "      <th>plan</th>\n",
       "    </tr>\n",
       "    <tr>\n",
       "      <th>user_id</th>\n",
       "      <th></th>\n",
       "      <th></th>\n",
       "      <th></th>\n",
       "      <th></th>\n",
       "      <th></th>\n",
       "      <th></th>\n",
       "      <th></th>\n",
       "    </tr>\n",
       "  </thead>\n",
       "  <tbody>\n",
       "    <tr>\n",
       "      <th>1000</th>\n",
       "      <td>other</td>\n",
       "      <td>16.0</td>\n",
       "      <td>116.830000</td>\n",
       "      <td>11.0</td>\n",
       "      <td>1901.47000</td>\n",
       "      <td>1000</td>\n",
       "      <td>ultimate</td>\n",
       "    </tr>\n",
       "    <tr>\n",
       "      <th>1001</th>\n",
       "      <td>other</td>\n",
       "      <td>53.0</td>\n",
       "      <td>328.092000</td>\n",
       "      <td>42.0</td>\n",
       "      <td>16087.58800</td>\n",
       "      <td>1001</td>\n",
       "      <td>surf</td>\n",
       "    </tr>\n",
       "    <tr>\n",
       "      <th>1002</th>\n",
       "      <td>other</td>\n",
       "      <td>38.0</td>\n",
       "      <td>259.043333</td>\n",
       "      <td>30.0</td>\n",
       "      <td>13431.11000</td>\n",
       "      <td>1002</td>\n",
       "      <td>surf</td>\n",
       "    </tr>\n",
       "    <tr>\n",
       "      <th>1003</th>\n",
       "      <td>other</td>\n",
       "      <td>149.0</td>\n",
       "      <td>1041.000000</td>\n",
       "      <td>50.0</td>\n",
       "      <td>27044.14000</td>\n",
       "      <td>1003</td>\n",
       "      <td>surf</td>\n",
       "    </tr>\n",
       "    <tr>\n",
       "      <th>1004</th>\n",
       "      <td>other</td>\n",
       "      <td>47.0</td>\n",
       "      <td>327.368750</td>\n",
       "      <td>23.0</td>\n",
       "      <td>19544.10125</td>\n",
       "      <td>1004</td>\n",
       "      <td>surf</td>\n",
       "    </tr>\n",
       "  </tbody>\n",
       "</table>\n",
       "</div>"
      ],
      "text/plain": [
       "        region  call_per_month  min_per_month  sms_per_month  mb_per_month   \n",
       "user_id                                                                      \n",
       "1000     other            16.0     116.830000           11.0    1901.47000  \\\n",
       "1001     other            53.0     328.092000           42.0   16087.58800   \n",
       "1002     other            38.0     259.043333           30.0   13431.11000   \n",
       "1003     other           149.0    1041.000000           50.0   27044.14000   \n",
       "1004     other            47.0     327.368750           23.0   19544.10125   \n",
       "\n",
       "         user_id_index      plan  \n",
       "user_id                           \n",
       "1000              1000  ultimate  \n",
       "1001              1001      surf  \n",
       "1002              1002      surf  \n",
       "1003              1003      surf  \n",
       "1004              1004      surf  "
      ]
     },
     "execution_count": 614,
     "metadata": {},
     "output_type": "execute_result"
    }
   ],
   "source": [
    "# added prepaid package information\n",
    "\n",
    "# duplicate dataset 'user_id' which will be used as index\n",
    "user_usage['user_id_index'] = user_usage['user_id']\n",
    "\n",
    "# make the `user_id` column an index in the `users` and `user_usage` dataframes\n",
    "users.set_index('user_id',inplace = True)\n",
    "user_usage.set_index('user_id',inplace = True)\n",
    "\n",
    "# merge selected datasets from other dataframes into the new dataframe\n",
    "user_usage['plan'] = users['plan']\n",
    "\n",
    "# displays the new sample dataframe\n",
    "user_usage.head()"
   ]
  },
  {
   "attachments": {},
   "cell_type": "markdown",
   "metadata": {},
   "source": [
    "Next, we will check whether or not there are missing values in the new `user_usage` dataframe."
   ]
  },
  {
   "cell_type": "code",
   "execution_count": 615,
   "metadata": {},
   "outputs": [
    {
     "data": {
      "text/plain": [
       "region             0\n",
       "call_per_month    19\n",
       "min_per_month     19\n",
       "sms_per_month     98\n",
       "mb_per_month      11\n",
       "user_id_index      0\n",
       "plan               0\n",
       "dtype: int64"
      ]
     },
     "execution_count": 615,
     "metadata": {},
     "output_type": "execute_result"
    }
   ],
   "source": [
    "# check for missing values\n",
    "user_usage.isna().sum()"
   ]
  },
  {
   "attachments": {},
   "cell_type": "markdown",
   "metadata": {},
   "source": [
    "There are some `missing values` in some datasets. Let's fix the missing value by filling it with the value `'0'` because the user doesn't take advantage of the facility."
   ]
  },
  {
   "cell_type": "code",
   "execution_count": 616,
   "metadata": {},
   "outputs": [
    {
     "data": {
      "text/html": [
       "<div>\n",
       "<style scoped>\n",
       "    .dataframe tbody tr th:only-of-type {\n",
       "        vertical-align: middle;\n",
       "    }\n",
       "\n",
       "    .dataframe tbody tr th {\n",
       "        vertical-align: top;\n",
       "    }\n",
       "\n",
       "    .dataframe thead th {\n",
       "        text-align: right;\n",
       "    }\n",
       "</style>\n",
       "<table border=\"1\" class=\"dataframe\">\n",
       "  <thead>\n",
       "    <tr style=\"text-align: right;\">\n",
       "      <th></th>\n",
       "      <th>region</th>\n",
       "      <th>call_per_month</th>\n",
       "      <th>min_per_month</th>\n",
       "      <th>sms_per_month</th>\n",
       "      <th>mb_per_month</th>\n",
       "      <th>user_id_index</th>\n",
       "      <th>plan</th>\n",
       "    </tr>\n",
       "    <tr>\n",
       "      <th>user_id</th>\n",
       "      <th></th>\n",
       "      <th></th>\n",
       "      <th></th>\n",
       "      <th></th>\n",
       "      <th></th>\n",
       "      <th></th>\n",
       "      <th></th>\n",
       "    </tr>\n",
       "  </thead>\n",
       "  <tbody>\n",
       "    <tr>\n",
       "      <th>1000</th>\n",
       "      <td>other</td>\n",
       "      <td>16</td>\n",
       "      <td>116.830000</td>\n",
       "      <td>11</td>\n",
       "      <td>1901.47000</td>\n",
       "      <td>1000</td>\n",
       "      <td>ultimate</td>\n",
       "    </tr>\n",
       "    <tr>\n",
       "      <th>1001</th>\n",
       "      <td>other</td>\n",
       "      <td>53</td>\n",
       "      <td>328.092000</td>\n",
       "      <td>42</td>\n",
       "      <td>16087.58800</td>\n",
       "      <td>1001</td>\n",
       "      <td>surf</td>\n",
       "    </tr>\n",
       "    <tr>\n",
       "      <th>1002</th>\n",
       "      <td>other</td>\n",
       "      <td>38</td>\n",
       "      <td>259.043333</td>\n",
       "      <td>30</td>\n",
       "      <td>13431.11000</td>\n",
       "      <td>1002</td>\n",
       "      <td>surf</td>\n",
       "    </tr>\n",
       "    <tr>\n",
       "      <th>1003</th>\n",
       "      <td>other</td>\n",
       "      <td>149</td>\n",
       "      <td>1041.000000</td>\n",
       "      <td>50</td>\n",
       "      <td>27044.14000</td>\n",
       "      <td>1003</td>\n",
       "      <td>surf</td>\n",
       "    </tr>\n",
       "    <tr>\n",
       "      <th>1004</th>\n",
       "      <td>other</td>\n",
       "      <td>47</td>\n",
       "      <td>327.368750</td>\n",
       "      <td>23</td>\n",
       "      <td>19544.10125</td>\n",
       "      <td>1004</td>\n",
       "      <td>surf</td>\n",
       "    </tr>\n",
       "  </tbody>\n",
       "</table>\n",
       "</div>"
      ],
      "text/plain": [
       "        region  call_per_month  min_per_month  sms_per_month  mb_per_month   \n",
       "user_id                                                                      \n",
       "1000     other              16     116.830000             11    1901.47000  \\\n",
       "1001     other              53     328.092000             42   16087.58800   \n",
       "1002     other              38     259.043333             30   13431.11000   \n",
       "1003     other             149    1041.000000             50   27044.14000   \n",
       "1004     other              47     327.368750             23   19544.10125   \n",
       "\n",
       "         user_id_index      plan  \n",
       "user_id                           \n",
       "1000              1000  ultimate  \n",
       "1001              1001      surf  \n",
       "1002              1002      surf  \n",
       "1003              1003      surf  \n",
       "1004              1004      surf  "
      ]
     },
     "execution_count": 616,
     "metadata": {},
     "output_type": "execute_result"
    }
   ],
   "source": [
    "# fix missing values\n",
    "user_usage. fillna(0,inplace = True)\n",
    "\n",
    "# change the data type from `float` to `integer` for sms and number of calls\n",
    "user_usage['call_per_month'] = user_usage['call_per_month'].astype('int')\n",
    "user_usage['sms_per_month'] = user_usage['sms_per_month'].astype('int')\n",
    "\n",
    "# displays sample data\n",
    "user_usage.head()"
   ]
  },
  {
   "attachments": {},
   "cell_type": "markdown",
   "metadata": {},
   "source": [
    "The dataframe is good enough, in the `min_per_month` and `mb_per_month` columns we will round them later."
   ]
  },
  {
   "attachments": {},
   "cell_type": "markdown",
   "metadata": {},
   "source": [
    "Next, we will find out how much income each user receives based on the package purchased and also additional fees if the facilities from the package purchased have run out. Let's do the math."
   ]
  },
  {
   "cell_type": "code",
   "execution_count": 617,
   "metadata": {},
   "outputs": [
    {
     "data": {
      "text/html": [
       "<div>\n",
       "<style scoped>\n",
       "    .dataframe tbody tr th:only-of-type {\n",
       "        vertical-align: middle;\n",
       "    }\n",
       "\n",
       "    .dataframe tbody tr th {\n",
       "        vertical-align: top;\n",
       "    }\n",
       "\n",
       "    .dataframe thead th {\n",
       "        text-align: right;\n",
       "    }\n",
       "</style>\n",
       "<table border=\"1\" class=\"dataframe\">\n",
       "  <thead>\n",
       "    <tr style=\"text-align: right;\">\n",
       "      <th></th>\n",
       "      <th>region</th>\n",
       "      <th>call_per_month</th>\n",
       "      <th>min_per_month</th>\n",
       "      <th>sms_per_month</th>\n",
       "      <th>mb_per_month</th>\n",
       "      <th>plan</th>\n",
       "      <th>minutes_included</th>\n",
       "      <th>messages_included</th>\n",
       "      <th>mb_per_month_included</th>\n",
       "      <th>usd_monthly_pay</th>\n",
       "      <th>usd_per_minute</th>\n",
       "      <th>usd_per_message</th>\n",
       "      <th>usd_per_gb</th>\n",
       "    </tr>\n",
       "    <tr>\n",
       "      <th>user_id</th>\n",
       "      <th></th>\n",
       "      <th></th>\n",
       "      <th></th>\n",
       "      <th></th>\n",
       "      <th></th>\n",
       "      <th></th>\n",
       "      <th></th>\n",
       "      <th></th>\n",
       "      <th></th>\n",
       "      <th></th>\n",
       "      <th></th>\n",
       "      <th></th>\n",
       "      <th></th>\n",
       "    </tr>\n",
       "  </thead>\n",
       "  <tbody>\n",
       "    <tr>\n",
       "      <th>1000</th>\n",
       "      <td>other</td>\n",
       "      <td>16</td>\n",
       "      <td>116.830000</td>\n",
       "      <td>11</td>\n",
       "      <td>1901.47000</td>\n",
       "      <td>ultimate</td>\n",
       "      <td>3000</td>\n",
       "      <td>1000</td>\n",
       "      <td>30720</td>\n",
       "      <td>70</td>\n",
       "      <td>0.01</td>\n",
       "      <td>0.01</td>\n",
       "      <td>7</td>\n",
       "    </tr>\n",
       "    <tr>\n",
       "      <th>1001</th>\n",
       "      <td>other</td>\n",
       "      <td>53</td>\n",
       "      <td>328.092000</td>\n",
       "      <td>42</td>\n",
       "      <td>16087.58800</td>\n",
       "      <td>surf</td>\n",
       "      <td>500</td>\n",
       "      <td>50</td>\n",
       "      <td>15360</td>\n",
       "      <td>20</td>\n",
       "      <td>0.03</td>\n",
       "      <td>0.03</td>\n",
       "      <td>10</td>\n",
       "    </tr>\n",
       "    <tr>\n",
       "      <th>1002</th>\n",
       "      <td>other</td>\n",
       "      <td>38</td>\n",
       "      <td>259.043333</td>\n",
       "      <td>30</td>\n",
       "      <td>13431.11000</td>\n",
       "      <td>surf</td>\n",
       "      <td>500</td>\n",
       "      <td>50</td>\n",
       "      <td>15360</td>\n",
       "      <td>20</td>\n",
       "      <td>0.03</td>\n",
       "      <td>0.03</td>\n",
       "      <td>10</td>\n",
       "    </tr>\n",
       "    <tr>\n",
       "      <th>1003</th>\n",
       "      <td>other</td>\n",
       "      <td>149</td>\n",
       "      <td>1041.000000</td>\n",
       "      <td>50</td>\n",
       "      <td>27044.14000</td>\n",
       "      <td>surf</td>\n",
       "      <td>500</td>\n",
       "      <td>50</td>\n",
       "      <td>15360</td>\n",
       "      <td>20</td>\n",
       "      <td>0.03</td>\n",
       "      <td>0.03</td>\n",
       "      <td>10</td>\n",
       "    </tr>\n",
       "    <tr>\n",
       "      <th>1004</th>\n",
       "      <td>other</td>\n",
       "      <td>47</td>\n",
       "      <td>327.368750</td>\n",
       "      <td>23</td>\n",
       "      <td>19544.10125</td>\n",
       "      <td>surf</td>\n",
       "      <td>500</td>\n",
       "      <td>50</td>\n",
       "      <td>15360</td>\n",
       "      <td>20</td>\n",
       "      <td>0.03</td>\n",
       "      <td>0.03</td>\n",
       "      <td>10</td>\n",
       "    </tr>\n",
       "  </tbody>\n",
       "</table>\n",
       "</div>"
      ],
      "text/plain": [
       "        region  call_per_month  min_per_month  sms_per_month  mb_per_month   \n",
       "user_id                                                                      \n",
       "1000     other              16     116.830000             11    1901.47000  \\\n",
       "1001     other              53     328.092000             42   16087.58800   \n",
       "1002     other              38     259.043333             30   13431.11000   \n",
       "1003     other             149    1041.000000             50   27044.14000   \n",
       "1004     other              47     327.368750             23   19544.10125   \n",
       "\n",
       "             plan  minutes_included  messages_included  mb_per_month_included   \n",
       "user_id                                                                         \n",
       "1000     ultimate              3000               1000                  30720  \\\n",
       "1001         surf               500                 50                  15360   \n",
       "1002         surf               500                 50                  15360   \n",
       "1003         surf               500                 50                  15360   \n",
       "1004         surf               500                 50                  15360   \n",
       "\n",
       "         usd_monthly_pay  usd_per_minute  usd_per_message  usd_per_gb  \n",
       "user_id                                                                \n",
       "1000                  70            0.01             0.01           7  \n",
       "1001                  20            0.03             0.03          10  \n",
       "1002                  20            0.03             0.03          10  \n",
       "1003                  20            0.03             0.03          10  \n",
       "1004                  20            0.03             0.03          10  "
      ]
     },
     "execution_count": 617,
     "metadata": {},
     "output_type": "execute_result"
    }
   ],
   "source": [
    "# calculate monthly income for each user\n",
    "\n",
    "# duplicate column 'plan' to prevent column loss due to set_index\n",
    "user_usage['plan_index'] = user_usage['plan']\n",
    "\n",
    "# change the indexes on the user_usage and plans datasets\n",
    "user_usage.set_index('plan', inplace = True)\n",
    "plans.set_index('plan_name', inplace = True)\n",
    "\n",
    "# combine call duration, sms and free data from available packages into a new dataframe\n",
    "user_usage['minutes_included'] = plans['minutes_included']\n",
    "user_usage['messages_included'] = plans['messages_included']\n",
    "user_usage['mb_per_month_included'] = plans['mb_per_month_included']\n",
    "\n",
    "# combine additional costs for call duration, sms and data into a new dataframe\n",
    "user_usage['usd_monthly_pay'] = plans['usd_monthly_pay']\n",
    "user_usage['usd_per_minute'] = plans['usd_per_minute']\n",
    "user_usage['usd_per_message'] = plans['usd_per_message']\n",
    "user_usage['usd_per_gb'] = plans['usd_per_gb']\n",
    "\n",
    "# change column names from 'user_id_index' to 'user_id' and 'plan_index' to 'plan'\n",
    "user_usage.rename(columns={\n",
    "     'user_id_index':'user_id',\n",
    "     'plan_index':'plan'\n",
    "     },inplace = True)\n",
    "\n",
    "# make column `user_id` index\n",
    "user_usage.set_index('user_id',inplace = True)\n",
    "\n",
    "# displays sample data\n",
    "user_usage.head()"
   ]
  },
  {
   "cell_type": "code",
   "execution_count": 618,
   "metadata": {},
   "outputs": [
    {
     "data": {
      "text/html": [
       "<div>\n",
       "<style scoped>\n",
       "    .dataframe tbody tr th:only-of-type {\n",
       "        vertical-align: middle;\n",
       "    }\n",
       "\n",
       "    .dataframe tbody tr th {\n",
       "        vertical-align: top;\n",
       "    }\n",
       "\n",
       "    .dataframe thead th {\n",
       "        text-align: right;\n",
       "    }\n",
       "</style>\n",
       "<table border=\"1\" class=\"dataframe\">\n",
       "  <thead>\n",
       "    <tr style=\"text-align: right;\">\n",
       "      <th></th>\n",
       "      <th>region</th>\n",
       "      <th>call_per_month</th>\n",
       "      <th>min_per_month</th>\n",
       "      <th>sms_per_month</th>\n",
       "      <th>mb_per_month</th>\n",
       "      <th>plan</th>\n",
       "      <th>minutes_included</th>\n",
       "      <th>messages_included</th>\n",
       "      <th>mb_per_month_included</th>\n",
       "      <th>usd_monthly_pay</th>\n",
       "      <th>usd_per_minute</th>\n",
       "      <th>usd_per_message</th>\n",
       "      <th>usd_per_gb</th>\n",
       "      <th>add_price_call</th>\n",
       "      <th>add_price_message</th>\n",
       "      <th>add_price_internet</th>\n",
       "      <th>gb_per_month</th>\n",
       "    </tr>\n",
       "    <tr>\n",
       "      <th>user_id</th>\n",
       "      <th></th>\n",
       "      <th></th>\n",
       "      <th></th>\n",
       "      <th></th>\n",
       "      <th></th>\n",
       "      <th></th>\n",
       "      <th></th>\n",
       "      <th></th>\n",
       "      <th></th>\n",
       "      <th></th>\n",
       "      <th></th>\n",
       "      <th></th>\n",
       "      <th></th>\n",
       "      <th></th>\n",
       "      <th></th>\n",
       "      <th></th>\n",
       "      <th></th>\n",
       "    </tr>\n",
       "  </thead>\n",
       "  <tbody>\n",
       "    <tr>\n",
       "      <th>1000</th>\n",
       "      <td>other</td>\n",
       "      <td>16</td>\n",
       "      <td>117</td>\n",
       "      <td>11</td>\n",
       "      <td>1901.47000</td>\n",
       "      <td>ultimate</td>\n",
       "      <td>3000</td>\n",
       "      <td>1000</td>\n",
       "      <td>30720</td>\n",
       "      <td>70</td>\n",
       "      <td>0.01</td>\n",
       "      <td>0.01</td>\n",
       "      <td>7</td>\n",
       "      <td>0.00</td>\n",
       "      <td>0.0</td>\n",
       "      <td>0</td>\n",
       "      <td>2</td>\n",
       "    </tr>\n",
       "    <tr>\n",
       "      <th>1001</th>\n",
       "      <td>other</td>\n",
       "      <td>53</td>\n",
       "      <td>329</td>\n",
       "      <td>42</td>\n",
       "      <td>16087.58800</td>\n",
       "      <td>surf</td>\n",
       "      <td>500</td>\n",
       "      <td>50</td>\n",
       "      <td>15360</td>\n",
       "      <td>20</td>\n",
       "      <td>0.03</td>\n",
       "      <td>0.03</td>\n",
       "      <td>10</td>\n",
       "      <td>0.00</td>\n",
       "      <td>0.0</td>\n",
       "      <td>10</td>\n",
       "      <td>16</td>\n",
       "    </tr>\n",
       "    <tr>\n",
       "      <th>1002</th>\n",
       "      <td>other</td>\n",
       "      <td>38</td>\n",
       "      <td>260</td>\n",
       "      <td>30</td>\n",
       "      <td>13431.11000</td>\n",
       "      <td>surf</td>\n",
       "      <td>500</td>\n",
       "      <td>50</td>\n",
       "      <td>15360</td>\n",
       "      <td>20</td>\n",
       "      <td>0.03</td>\n",
       "      <td>0.03</td>\n",
       "      <td>10</td>\n",
       "      <td>0.00</td>\n",
       "      <td>0.0</td>\n",
       "      <td>0</td>\n",
       "      <td>14</td>\n",
       "    </tr>\n",
       "    <tr>\n",
       "      <th>1003</th>\n",
       "      <td>other</td>\n",
       "      <td>149</td>\n",
       "      <td>1041</td>\n",
       "      <td>50</td>\n",
       "      <td>27044.14000</td>\n",
       "      <td>surf</td>\n",
       "      <td>500</td>\n",
       "      <td>50</td>\n",
       "      <td>15360</td>\n",
       "      <td>20</td>\n",
       "      <td>0.03</td>\n",
       "      <td>0.03</td>\n",
       "      <td>10</td>\n",
       "      <td>16.23</td>\n",
       "      <td>0.0</td>\n",
       "      <td>120</td>\n",
       "      <td>27</td>\n",
       "    </tr>\n",
       "    <tr>\n",
       "      <th>1004</th>\n",
       "      <td>other</td>\n",
       "      <td>47</td>\n",
       "      <td>328</td>\n",
       "      <td>23</td>\n",
       "      <td>19544.10125</td>\n",
       "      <td>surf</td>\n",
       "      <td>500</td>\n",
       "      <td>50</td>\n",
       "      <td>15360</td>\n",
       "      <td>20</td>\n",
       "      <td>0.03</td>\n",
       "      <td>0.03</td>\n",
       "      <td>10</td>\n",
       "      <td>0.00</td>\n",
       "      <td>0.0</td>\n",
       "      <td>50</td>\n",
       "      <td>20</td>\n",
       "    </tr>\n",
       "  </tbody>\n",
       "</table>\n",
       "</div>"
      ],
      "text/plain": [
       "        region  call_per_month  min_per_month  sms_per_month  mb_per_month   \n",
       "user_id                                                                      \n",
       "1000     other              16            117             11    1901.47000  \\\n",
       "1001     other              53            329             42   16087.58800   \n",
       "1002     other              38            260             30   13431.11000   \n",
       "1003     other             149           1041             50   27044.14000   \n",
       "1004     other              47            328             23   19544.10125   \n",
       "\n",
       "             plan  minutes_included  messages_included  mb_per_month_included   \n",
       "user_id                                                                         \n",
       "1000     ultimate              3000               1000                  30720  \\\n",
       "1001         surf               500                 50                  15360   \n",
       "1002         surf               500                 50                  15360   \n",
       "1003         surf               500                 50                  15360   \n",
       "1004         surf               500                 50                  15360   \n",
       "\n",
       "         usd_monthly_pay  usd_per_minute  usd_per_message  usd_per_gb   \n",
       "user_id                                                                 \n",
       "1000                  70            0.01             0.01           7  \\\n",
       "1001                  20            0.03             0.03          10   \n",
       "1002                  20            0.03             0.03          10   \n",
       "1003                  20            0.03             0.03          10   \n",
       "1004                  20            0.03             0.03          10   \n",
       "\n",
       "         add_price_call  add_price_message  add_price_internet  gb_per_month  \n",
       "user_id                                                                       \n",
       "1000               0.00                0.0                   0             2  \n",
       "1001               0.00                0.0                  10            16  \n",
       "1002               0.00                0.0                   0            14  \n",
       "1003              16.23                0.0                 120            27  \n",
       "1004               0.00                0.0                  50            20  "
      ]
     },
     "execution_count": 618,
     "metadata": {},
     "output_type": "execute_result"
    }
   ],
   "source": [
    "# make details of additional costs outside the package\n",
    "\n",
    "# additional charge for call duration per user per month\n",
    "user_usage['add_price_call'] = (user_usage['min_per_month'] - user_usage['minutes_included']) * user_usage['usd_per_minute']\n",
    "\n",
    "# additional charge for the number of sms per user per month\n",
    "user_usage['add_price_message'] = (user_usage['sms_per_month'] - user_usage['messages_included']) * user_usage['usd_per_message']\n",
    "\n",
    "# additional fees for the amount of internet data per user per month\n",
    "# calculate the difference and convert the amount of data from MB to GB\n",
    "#1GB = 1024MB\n",
    "user_usage['add_price_internet'] = (user_usage['mb_per_month'] - user_usage['mb_per_month_included'])/1024\n",
    "# rounding the amount of user internet data per month\n",
    "user_usage['add_price_internet'] = user_usage['add_price_internet'].apply(lambda x: mt. ceil(x))\n",
    "# calculates the additional cost of the user's internet data per month\n",
    "user_usage['add_price_internet'] = user_usage['add_price_internet'] * user_usage['usd_per_gb']\n",
    "\n",
    "# removes the negative charge to 0, we take the positive charge\n",
    "user_usage.loc[user_usage['add_price_call'] < 0,'add_price_call'] = 0\n",
    "user_usage.loc[user_usage['add_price_message'] < 0, 'add_price_message'] = 0\n",
    "user_usage.loc[user_usage['add_price_internet'] < 0, 'add_price_internet'] = 0\n",
    "\n",
    "# create internet data column 'gb_per_month'\n",
    "#1GB = 1024MB\n",
    "user_usage['gb_per_month'] = user_usage['mb_per_month']/1024\n",
    "user_usage['gb_per_month'] = user_usage['gb_per_month'].apply(lambda x: mt. ceil(x))\n",
    "\n",
    "# round call duration 'min_per_month'\n",
    "user_usage['min_per_month'] = user_usage['min_per_month'].apply(lambda x: mt. ceil(x))\n",
    "\n",
    "# displays sample data\n",
    "user_usage.head()"
   ]
  },
  {
   "attachments": {},
   "cell_type": "markdown",
   "metadata": {},
   "source": [
    "Next, we add up all the income from each user based on their needs per month. Then proceed with filtering the dataframe column based on the required column for further analysis."
   ]
  },
  {
   "cell_type": "code",
   "execution_count": 619,
   "metadata": {},
   "outputs": [
    {
     "data": {
      "text/html": [
       "<div>\n",
       "<style scoped>\n",
       "    .dataframe tbody tr th:only-of-type {\n",
       "        vertical-align: middle;\n",
       "    }\n",
       "\n",
       "    .dataframe tbody tr th {\n",
       "        vertical-align: top;\n",
       "    }\n",
       "\n",
       "    .dataframe thead th {\n",
       "        text-align: right;\n",
       "    }\n",
       "</style>\n",
       "<table border=\"1\" class=\"dataframe\">\n",
       "  <thead>\n",
       "    <tr style=\"text-align: right;\">\n",
       "      <th></th>\n",
       "      <th>region</th>\n",
       "      <th>call_per_month</th>\n",
       "      <th>min_per_month</th>\n",
       "      <th>sms_per_month</th>\n",
       "      <th>gb_per_month</th>\n",
       "      <th>plan</th>\n",
       "      <th>user_amount</th>\n",
       "    </tr>\n",
       "    <tr>\n",
       "      <th>user_id</th>\n",
       "      <th></th>\n",
       "      <th></th>\n",
       "      <th></th>\n",
       "      <th></th>\n",
       "      <th></th>\n",
       "      <th></th>\n",
       "      <th></th>\n",
       "    </tr>\n",
       "  </thead>\n",
       "  <tbody>\n",
       "    <tr>\n",
       "      <th>1000</th>\n",
       "      <td>other</td>\n",
       "      <td>16</td>\n",
       "      <td>117</td>\n",
       "      <td>11</td>\n",
       "      <td>2</td>\n",
       "      <td>ultimate</td>\n",
       "      <td>70.00</td>\n",
       "    </tr>\n",
       "    <tr>\n",
       "      <th>1001</th>\n",
       "      <td>other</td>\n",
       "      <td>53</td>\n",
       "      <td>329</td>\n",
       "      <td>42</td>\n",
       "      <td>16</td>\n",
       "      <td>surf</td>\n",
       "      <td>30.00</td>\n",
       "    </tr>\n",
       "    <tr>\n",
       "      <th>1002</th>\n",
       "      <td>other</td>\n",
       "      <td>38</td>\n",
       "      <td>260</td>\n",
       "      <td>30</td>\n",
       "      <td>14</td>\n",
       "      <td>surf</td>\n",
       "      <td>20.00</td>\n",
       "    </tr>\n",
       "    <tr>\n",
       "      <th>1003</th>\n",
       "      <td>other</td>\n",
       "      <td>149</td>\n",
       "      <td>1041</td>\n",
       "      <td>50</td>\n",
       "      <td>27</td>\n",
       "      <td>surf</td>\n",
       "      <td>156.23</td>\n",
       "    </tr>\n",
       "    <tr>\n",
       "      <th>1004</th>\n",
       "      <td>other</td>\n",
       "      <td>47</td>\n",
       "      <td>328</td>\n",
       "      <td>23</td>\n",
       "      <td>20</td>\n",
       "      <td>surf</td>\n",
       "      <td>70.00</td>\n",
       "    </tr>\n",
       "  </tbody>\n",
       "</table>\n",
       "</div>"
      ],
      "text/plain": [
       "        region  call_per_month  min_per_month  sms_per_month  gb_per_month   \n",
       "user_id                                                                      \n",
       "1000     other              16            117             11             2  \\\n",
       "1001     other              53            329             42            16   \n",
       "1002     other              38            260             30            14   \n",
       "1003     other             149           1041             50            27   \n",
       "1004     other              47            328             23            20   \n",
       "\n",
       "             plan  user_amount  \n",
       "user_id                         \n",
       "1000     ultimate        70.00  \n",
       "1001         surf        30.00  \n",
       "1002         surf        20.00  \n",
       "1003         surf       156.23  \n",
       "1004         surf        70.00  "
      ]
     },
     "execution_count": 619,
     "metadata": {},
     "output_type": "execute_result"
    }
   ],
   "source": [
    "# add up all the total revenue from users per month\n",
    "user_usage['user_amount'] = user_usage['usd_monthly_pay'] + user_usage['add_price_call'] + user_usage['add_price_message'] + user_usage['add_price_internet']\n",
    "\n",
    "# filter the dataframe for the columns needed for further analysis\n",
    "user_usage = user_usage[['region','call_per_month','min_per_month','sms_per_month','gb_per_month','plan','user_amount']]\n",
    "\n",
    "# displays sample data\n",
    "user_usage.head()"
   ]
  },
  {
   "attachments": {},
   "cell_type": "markdown",
   "metadata": {},
   "source": [
    "The new dataframe is very good at seeing the monthly user needs along with the monthly income we receive from each user. However, we cannot see user behavior and determine which `Prepaid Package` is better. Let's analyze further."
   ]
  },
  {
   "attachments": {},
   "cell_type": "markdown",
   "metadata": {},
   "source": [
    "## Study User Behavior <a id= 'cont_19' ></a>"
   ]
  },
  {
   "attachments": {},
   "cell_type": "markdown",
   "metadata": {},
   "source": [
    "Next, we will perform data processing to get an overview of user behavior based on several categories, including based on `Calls`, `SMS`, `Internet` and `Revenue` for the `Prepaid Packages` used."
   ]
  },
  {
   "attachments": {},
   "cell_type": "markdown",
   "metadata": {},
   "source": [
    "### Calling <a id= 'cont_20' ></a>"
   ]
  },
  {
   "cell_type": "code",
   "execution_count": 620,
   "metadata": {},
   "outputs": [
    {
     "data": {
      "image/png": "[encoded data removed]",
      "text/plain": [
       "<Figure size 700x500 with 1 Axes>"
      ]
     },
     "metadata": {},
     "output_type": "display_data"
    }
   ],
   "source": [
    "# compare the average call duration of each package per month.\n",
    "# we will create a bar chart to visualize it.\n",
    "\n",
    "# create a pivot table to summarize the average call duration dataset based on the type of package used\n",
    "package_call = pd.pivot_table(user_usage, index = 'plan', values = 'min_per_month', aggfunc = 'mean')\n",
    "\n",
    "# create a bar chart from a pivot table\n",
    "package_call. plot(kind = 'bar',rot = 0,figsize=(7,5))\n",
    "\n",
    "# defines the y-axis limits\n",
    "plt.ylim(350,390)\n",
    "\n",
    "# defines the x-axis and y-axis labels\n",
    "plt.xlabel('Plans')\n",
    "plt.ylabel('average calls (min)')\n",
    "\n",
    "# create a label on the bar chart\n",
    "plt.text(x=0.01,y=380,s='379.69')\n",
    "plt.text(x=0.95,y=377.5,s='377.20')\n",
    "\n",
    "# displays the bar chart\n",
    "plt.show()"
   ]
  },
  {
   "attachments": {},
   "cell_type": "markdown",
   "metadata": {},
   "source": [
    "From the graph above it can be seen that `Surf Package` users have a slightly higher user call duration per month than `Ultimate Package` users with an average duration of `379.69 minutes (Surf)` and `377.20 minutes (Ultimate)` respectively."
   ]
  },
  {
   "attachments": {},
   "cell_type": "markdown",
   "metadata": {},
   "source": [
    "Next, we will look at the distribution of user call duration per month per package using the histogram graph as follows:"
   ]
  },
  {
   "cell_type": "code",
   "execution_count": 621,
   "metadata": {},
   "outputs": [],
   "source": [
    "# grouping package types for 'min_per_call' category for `surf` and `ultimate` package types\n",
    "surf = user_usage[user_usage['plan'] == 'surf']\n",
    "ultimate = user_usage[user_usage['plan'] == 'ultimate']"
   ]
  },
  {
   "cell_type": "code",
   "execution_count": 622,
   "metadata": {},
   "outputs": [
    {
     "data": {
      "image/png": "[encoded data removed]",
      "text/plain": [
       "<Figure size 800x500 with 1 Axes>"
      ]
     },
     "metadata": {},
     "output_type": "display_data"
    }
   ],
   "source": [
    "# compare the number of minutes needed by users of each plan per month.\n",
    "# we will create a histogram.\n",
    "\n",
    "# create a histogram of the `surf` package and the 'ultimate' package\n",
    "surf['min_per_month'].hist(bins=15, label = 'Surf Package',figsize=(8,5))\n",
    "ultimate['min_per_month'].hist(bins=15, label = 'Ultimate Plan')\n",
    "\n",
    "# defines the histogram title\n",
    "plt.title('User Minute Duration Distribution (min)')\n",
    "\n",
    "# defines the location of the legend\n",
    "plt.legend(loc='upper right')\n",
    "\n",
    "# displays the histogram chart\n",
    "plt.show()"
   ]
  },
  {
   "attachments": {},
   "cell_type": "markdown",
   "metadata": {},
   "source": [
    "The two histograms show that:\n",
    "- For the `Surf Plan`, the distribution of data is spread over the range of `200 to 530 minutes` with peaks in the range of `300 minutes`.\n",
    "- For the `Ultimate Plan`, the distribution of data is spread over the range of `370 to 430 minutes` with peaks in the range of `400 minutes`.\n",
    "- The use of the `call` feature for the `surf` package is more frequently used than the `ultimate` package"
   ]
  },
  {
   "cell_type": "code",
   "execution_count": 623,
   "metadata": {},
   "outputs": [
    {
     "name": "stdout",
     "output_type": "stream",
     "text": [
      "Average Call Duration Surf Plan Users\t : 379.69 minutes\n",
      "Average Call Duration for Ultimate Plan Users : 377.20 minutes\n"
     ]
    }
   ],
   "source": [
    "# calculates the average and variance of the monthly call duration\n",
    "\n",
    "# calculates the average\n",
    "mean_surf_calls = surf['min_per_month'].mean()\n",
    "mean_ultimate_calls = ultimate['min_per_month'].mean()\n",
    "\n",
    "# displays the output\n",
    "print('Average Call Duration Surf Plan Users\\t :',f'{mean_surf_calls:.2f}','minutes')\n",
    "print('Average Call Duration for Ultimate Plan Users :',f'{mean_ultimate_calls:.2f}','minutes')"
   ]
  },
  {
   "cell_type": "code",
   "execution_count": 624,
   "metadata": {},
   "outputs": [
    {
     "name": "stdout",
     "output_type": "stream",
     "text": [
      "Surf Plan User Call Duration Variance\t  : 37357.58 minutes squared\n",
      "Ultimate Plan User Call Duration Variance : 38073.64 minutes squared\n"
     ]
    }
   ],
   "source": [
    "# calculate the variance\n",
    "variance_surf_calls = np.var(surf[['min_per_month']])\n",
    "variance_ultimate_calls = np.var(ultimate[['min_per_month']])\n",
    "\n",
    "# extraction of value from variance\n",
    "tmp_surf = variance_surf_calls['min_per_month']\n",
    "tmp_ultimate = variance_ultimate_calls['min_per_month']\n",
    "\n",
    "# displays the output\n",
    "print('Surf Plan User Call Duration Variance\\t  :',f'{tmp_surf:.2f}','minutes squared')\n",
    "print('Ultimate Plan User Call Duration Variance :',f'{tmp_ultimate:.2f}','minutes squared')"
   ]
  },
  {
   "cell_type": "code",
   "execution_count": 625,
   "metadata": {
    "scrolled": true
   },
   "outputs": [
    {
     "data": {
      "image/png": "[encoded data removed]",
      "text/plain": [
       "<Figure size 700x500 with 1 Axes>"
      ]
     },
     "metadata": {},
     "output_type": "display_data"
    }
   ],
   "source": [
    "# Create a boxplot graph to visualize the distribution of monthly call durations\n",
    "\n",
    "# Merge two dataframes `surf` and `ultimate` into one dataframe using the join method\n",
    "merging_package = surf. join(ultimate,how='outer',lsuffix='_surf', rsuffix='_ultimate')\n",
    "\n",
    "# displays the time duration boxplot based on the packages\n",
    "plt.figure(figsize=(7,5))\n",
    "sns.boxplot(data=merging_package[['min_per_month_surf','min_per_month_ultimate']])\n",
    "\n",
    "# defines the histogram title\n",
    "plt.title('User Minute Duration Distribution (min)')\n",
    "\n",
    "# displays boxplots\n",
    "plt.show()"
   ]
  },
  {
   "attachments": {},
   "cell_type": "markdown",
   "metadata": {},
   "source": [
    "From the average analysis, variance and boxplot visualization for each data package, it can be seen that the user's behavior towards `call duration` in `Surf Plan` has almost the same behavior as `Ultimate Plan` but the behavior of `Surf Plan` is more outperforms than the `Ultimate Plan`."
   ]
  },
  {
   "attachments": {},
   "cell_type": "markdown",
   "metadata": {},
   "source": [
    "### Messaging/SMS <a id= 'cont_21' ></a>"
   ]
  },
  {
   "cell_type": "code",
   "execution_count": 626,
   "metadata": {},
   "outputs": [
    {
     "data": {
      "image/png": "[encoded data removed]",
      "text/plain": [
       "<Figure size 700x500 with 1 Axes>"
      ]
     },
     "metadata": {},
     "output_type": "display_data"
    }
   ],
   "source": [
    "# compares the number of SMS that users tend to send per package per month\n",
    "\n",
    "# create a pivot table to summarize the average number of SMS datasets based on the type of package used\n",
    "package_sms = pd.pivot_table(user_usage, index = 'plan', values = 'sms_per_month', aggfunc = 'mean')\n",
    "\n",
    "# create a bar chart from a pivot table\n",
    "package_sms.plot(kind = 'bar',rot = 0,figsize=(7,5),color='orange')\n",
    "\n",
    "# defines the y-axis limits\n",
    "plt.ylim(0.50)\n",
    "\n",
    "# defines the x-axis and y-axis labels\n",
    "plt.xlabel('Plans')\n",
    "plt.ylabel('average sms (qty)')\n",
    "\n",
    "# create a label on the bar chart\n",
    "plt.text(x=0.01,y=32.5,s='32')\n",
    "plt.text(x=0.95,y=38,s='38')\n",
    "\n",
    "# displays the bar chart\n",
    "plt.show()"
   ]
  },
  {
   "attachments": {},
   "cell_type": "markdown",
   "metadata": {},
   "source": [
    "From the graph above it can be seen that `Ultimate Plan` users have a higher number of SMS users per month than `Surf Plan` users with an average number of `32 qty (Surf)` and `38 qty (Ultimate)` respectively. ."
   ]
  },
  {
   "attachments": {},
   "cell_type": "markdown",
   "metadata": {},
   "source": [
    "Next, we will see the distribution of the number of SMS users per month per package using the histogram graph as follows:"
   ]
  },
  {
   "cell_type": "code",
   "execution_count": 627,
   "metadata": {},
   "outputs": [
    {
     "data": {
      "image/png": "[encoded data removed]",
      "text/plain": [
       "<Figure size 800x500 with 1 Axes>"
      ]
     },
     "metadata": {},
     "output_type": "display_data"
    }
   ],
   "source": [
    "# compare the number of sms needed by users of each package per month.\n",
    "# we will create a histogram.\n",
    "\n",
    "# create a histogram of the `surf` plan and the 'ultimate' plan\n",
    "surf['sms_per_month'].hist(bins=15, label = 'Surf Package',figsize=(8,5))\n",
    "ultimate['sms_per_month'].hist(bins=15, label = 'Ultimate Package')\n",
    "\n",
    "# defines the histogram title\n",
    "plt.title('Distribution of Number of SMS Users (qty)')\n",
    "\n",
    "# defines the location of the legend\n",
    "plt.legend(loc='upper right')\n",
    "\n",
    "# displays the histogram chart\n",
    "plt.show()"
   ]
  },
  {
   "attachments": {},
   "cell_type": "markdown",
   "metadata": {},
   "source": [
    "The two histograms show that:\n",
    "- The `Surf Plan` and `Ultimate Plan` have a distribution of the number of sms spread over the range of `0 to 30 qty` with the peak being in the range of `5 qty`.\n",
    "- Both histograms show that not many users frequently use `SMS` where the graph slopes to the right.\n",
    "- The use of the `sms` feature for the `surf` package is more frequently used than the `ultimate` plan"
   ]
  },
  {
   "cell_type": "code",
   "execution_count": 628,
   "metadata": {},
   "outputs": [
    {
     "name": "stdout",
     "output_type": "stream",
     "text": [
      "Average SMS Surf Plan Users : 32.11 sms\n",
      "Average SMS for Ultimate Plan Users : 37.70 sms\n"
     ]
    }
   ],
   "source": [
    "# calculates the average and variance of the number of monthly sms\n",
    "\n",
    "# calculates the average\n",
    "mean_surf_sms = surf['sms_per_month'].mean()\n",
    "mean_ultimate_sms = ultimate['sms_per_month'].mean()\n",
    "\n",
    "# displays the output\n",
    "print('Average SMS Surf Plan Users :',f'{mean_surf_sms:.2f}','sms')\n",
    "print('Average SMS for Ultimate Plan Users :',f'{mean_ultimate_sms:.2f}','sms')"
   ]
  },
  {
   "cell_type": "code",
   "execution_count": 629,
   "metadata": {},
   "outputs": [
    {
     "name": "stdout",
     "output_type": "stream",
     "text": [
      "Surf Plan User SMS Variance : 963.40 qty squared\n",
      "Ultimate Plan User SMS Variance : 1086.56 qty squared\n"
     ]
    }
   ],
   "source": [
    "# calculate the variance\n",
    "variance_surf_sms = np.var(surf[['sms_per_month']])\n",
    "variance_ultimate_sms = np.var(ultimate[['sms_per_month']])\n",
    "\n",
    "# extraction of value from variance\n",
    "tmp_surf = variance_surf_sms['sms_per_month']\n",
    "tmp_ultimate = variance_ultimate_sms['sms_per_month']\n",
    "\n",
    "# displays the output\n",
    "print('Surf Plan User SMS Variance :',f'{tmp_surf:.2f}','qty squared')\n",
    "print('Ultimate Plan User SMS Variance :',f'{tmp_ultimate:.2f}','qty squared')"
   ]
  },
  {
   "cell_type": "code",
   "execution_count": 630,
   "metadata": {},
   "outputs": [
    {
     "data": {
      "image/png": "[encoded data removed]",
      "text/plain": [
       "<Figure size 700x500 with 1 Axes>"
      ]
     },
     "metadata": {},
     "output_type": "display_data"
    }
   ],
   "source": [
    "# create a boxplot graph to visualize the distribution of the number of monthly sms\n",
    "\n",
    "# displays the boxplot of the number of sms based on the packages\n",
    "plt.figure(figsize=(7,5))\n",
    "sns.boxplot(data=merging_package[['sms_per_month_surf','sms_per_month_ultimate']])\n",
    "\n",
    "# defines the title of the boxplot\n",
    "plt.title('Distribution of Number of SMS Users (qty)')\n",
    "\n",
    "# displays boxplots\n",
    "plt.show()"
   ]
  },
  {
   "attachments": {},
   "cell_type": "markdown",
   "metadata": {},
   "source": [
    "From the analysis of the average, variance and boxplot visualization for each data package, it can be seen that the user's behavior towards the `number of sms` in `Surf Plan` has a `different` behavior from the `Ultimate Plan` behavior where the data distribution is in a different place. The `Ultimate Plan` has a higher value when compared to the `Surf Plan`."
   ]
  },
  {
   "attachments": {},
   "cell_type": "markdown",
   "metadata": {},
   "source": [
    "### Internet <a id= 'cont_22' ></a>"
   ]
  },
  {
   "cell_type": "code",
   "execution_count": 631,
   "metadata": {},
   "outputs": [
    {
     "data": {
      "image/png": "[encoded data removed]",
      "text/plain": [
       "<Figure size 700x500 with 1 Axes>"
      ]
     },
     "metadata": {},
     "output_type": "display_data"
    }
   ],
   "source": [
    "# compares the amount of data users tend to send per plan per month\n",
    "\n",
    "# create a pivot table to summarize the average dataset amount of data based on the type of package used\n",
    "package_internet = pd.pivot_table(user_usage, index = 'plan', values = 'gb_per_month', aggfunc = 'mean')\n",
    "\n",
    "# create a bar chart from a pivot table\n",
    "package_internet.plot(kind = 'bar',rot = 0,figsize=(7,5),color='orange')\n",
    "\n",
    "# defines the y-axis limits\n",
    "plt.ylim(15,16.2)\n",
    "\n",
    "# defines the x-axis and y-axis labels\n",
    "plt.xlabel('Plans')\n",
    "plt.ylabel('average data (gb)')\n",
    "\n",
    "# create a label on the bar chart\n",
    "plt.text(x=0.01,y=15.77,s='15.76')\n",
    "plt.text(x=0.95,y=15.83,s='15.82')\n",
    "\n",
    "# displays the bar chart\n",
    "plt.show()"
   ]
  },
  {
   "attachments": {},
   "cell_type": "markdown",
   "metadata": {},
   "source": [
    "From the graph above it can be seen that `Ultimate Plan` users have a slightly higher amount of internet data users per month than `Surf Plan` users with an average size of `15.76 Gb (Surf)` and `15.82 Gb (Ultimate)`."
   ]
  },
  {
   "attachments": {},
   "cell_type": "markdown",
   "metadata": {},
   "source": [
    "Next, we will look at the distribution of the amount of internet data users per month per package using the histogram graph as follows:"
   ]
  },
  {
   "cell_type": "code",
   "execution_count": 632,
   "metadata": {},
   "outputs": [
    {
     "data": {
      "image/png": "[encoded data removed]",
      "text/plain": [
       "<Figure size 800x500 with 1 Axes>"
      ]
     },
     "metadata": {},
     "output_type": "display_data"
    }
   ],
   "source": [
    "# compare the amount of data needed by users of each package per month.\n",
    "# we will create a histogram.\n",
    "\n",
    "# create a histogram of the `surf` plan and the 'ultimate' plan\n",
    "surf['gb_per_month'].hist(bins=15, label = 'Surf Package', figsize=(8,5))\n",
    "ultimate['gb_per_month'].hist(bins=15, label = 'Ultimate Plan')\n",
    "\n",
    "# defines the histogram title\n",
    "plt.title('Distribution of User Data Amount (Gb)')\n",
    "\n",
    "# defines the location of the legend\n",
    "plt.legend(loc='upper right')\n",
    "\n",
    "# displays the histogram chart\n",
    "plt.show()"
   ]
  },
  {
   "attachments": {},
   "cell_type": "markdown",
   "metadata": {},
   "source": [
    "The two histograms show that:\n",
    "- The `Surf Plan` has a data distribution spread over the range of `12 to 20.5 Gb` with peaks in the `15 Gb` range.\n",
    "- The `Ultimate Plan` has a data distribution spread over the range of `14 to 21 Gb` with peaks in the `15 Gb` range.\n",
    "- Use of the `Amount of Internet Data` feature for the `surf` plan is used more frequently than the `ultimate` plan"
   ]
  },
  {
   "cell_type": "code",
   "execution_count": 633,
   "metadata": {},
   "outputs": [
    {
     "name": "stdout",
     "output_type": "stream",
     "text": [
      "Average Number of Internet Data Surf Plan Users : 15.76 gb\n",
      "Average Amount of Internet Data for Ultimate Plan Users : 15.82 gb\n"
     ]
    }
   ],
   "source": [
    "# calculates the average and variance of the monthly (gb) amount of data\n",
    "\n",
    "# calculates the average\n",
    "mean_surf_internet = surf['gb_per_month'].mean()\n",
    "mean_ultimate_internet = ultimate['gb_per_month'].mean()\n",
    "\n",
    "# displays the output\n",
    "print('Average Number of Internet Data Surf Plan Users :',f'{mean_surf_internet:.2f}','gb')\n",
    "print('Average Amount of Internet Data for Ultimate Plan Users :',f'{mean_ultimate_internet:.2f}','gb')"
   ]
  },
  {
   "cell_type": "code",
   "execution_count": 634,
   "metadata": {},
   "outputs": [
    {
     "name": "stdout",
     "output_type": "stream",
     "text": [
      "Variance of Amount of Internet Data Surf Plan Users : 40.72 gb squared\n",
      "Variance of Amount of Internet Data Ultimate Plan Users : 38.64 gb squared\n"
     ]
    }
   ],
   "source": [
    "# calculate the variance\n",
    "variance_surf_gb = np.var(surf[['gb_per_month']])\n",
    "variance_ultimate_gb = np.var(ultimate[['gb_per_month']])\n",
    "\n",
    "# extraction of value from variance\n",
    "tmp_surf = variance_surf_gb['gb_per_month']\n",
    "tmp_ultimate = variance_ultimate_gb['gb_per_month']\n",
    "\n",
    "# displays the output\n",
    "print('Variance of Amount of Internet Data Surf Plan Users :',f'{tmp_surf:.2f}','gb squared')\n",
    "print('Variance of Amount of Internet Data Ultimate Plan Users :',f'{tmp_ultimate:.2f}','gb squared')"
   ]
  },
  {
   "cell_type": "code",
   "execution_count": 635,
   "metadata": {
    "scrolled": true
   },
   "outputs": [
    {
     "data": {
      "image/png": "[encoded data removed]",
      "text/plain": [
       "<Figure size 700x500 with 1 Axes>"
      ]
     },
     "metadata": {},
     "output_type": "display_data"
    }
   ],
   "source": [
    "# create a boxplot graph to visualize the monthly distribution of the amount of data (gb).\n",
    "\n",
    "# displays the boxplot of the number of sms based on the packages\n",
    "plt.figure(figsize=(7,5))\n",
    "sns.boxplot(data=merging_package[['gb_per_month_surf','gb_per_month_ultimate']])\n",
    "\n",
    "# defines the title of the boxplot\n",
    "plt.title('Distribution of User Data Amount (Gb)')\n",
    "\n",
    "# displays boxplots\n",
    "plt.show()"
   ]
  },
  {
   "attachments": {},
   "cell_type": "markdown",
   "metadata": {},
   "source": [
    "From the analysis of the average, variance and boxplot visualization for each data package, it can be seen that the user's behavior towards the 'amount of internet data' in the 'Surf Plan' has a slightly 'different' behavior from the behavior of the 'Ultimate Plan' where the data distribution is in the same place. slightly different. The `Ultimate Plan` has a higher value when compared to the `Surf Plan`."
   ]
  },
  {
   "attachments": {},
   "cell_type": "markdown",
   "metadata": {},
   "source": [
    "## Income <a id= 'cont_23' ></a>"
   ]
  },
  {
   "cell_type": "code",
   "execution_count": 636,
   "metadata": {},
   "outputs": [
    {
     "data": {
      "image/png": "[encoded data removed]",
      "text/plain": [
       "<Figure size 700x500 with 1 Axes>"
      ]
     },
     "metadata": {},
     "output_type": "display_data"
    }
   ],
   "source": [
    "# compare the amount of income from users of each package per month\n",
    "\n",
    "# create a pivot table to summarize the average income dataset based on the type of package used\n",
    "package_amount = pd.pivot_table(user_usage, index = 'plan', values = 'user_amount', aggfunc = 'mean')\n",
    "\n",
    "# create a bar chart from a pivot table\n",
    "package_amount.plot(kind = 'bar',rot = 0, figsize=(7,5))\n",
    "\n",
    "# defines the y-axis limits\n",
    "plt.ylim(0,100)\n",
    "\n",
    "# defines the x-axis and y-axis labels\n",
    "plt.xlabel('Plans')\n",
    "plt.ylabel('average user_amount (USD)')\n",
    "\n",
    "# create a label on the bar chart\n",
    "plt.text(x=0.01,y=49,s='48.16')\n",
    "plt.text(x=0.95,y=72,s='70.52')\n",
    "\n",
    "# displays the bar chart\n",
    "plt.show()"
   ]
  },
  {
   "attachments": {},
   "cell_type": "markdown",
   "metadata": {},
   "source": [
    "From the graph above it can be seen that `Ultimate Plan` users provide a higher amount of income from users per month than `Surf Plan` users with an average amount of income of `48.16 USD (Surf)` and `70.52 USD (Ultimate) respectively.`."
   ]
  },
  {
   "cell_type": "code",
   "execution_count": 637,
   "metadata": {},
   "outputs": [
    {
     "data": {
      "image/png": "[encoded data removed]",
      "text/plain": [
       "<Figure size 800x500 with 1 Axes>"
      ]
     },
     "metadata": {},
     "output_type": "display_data"
    }
   ],
   "source": [
    "# compare the amount of income from users of each package per month.\n",
    "# we will create a histogram.\n",
    "\n",
    "# create a histogram of the `surf` plan and the 'ultimate' plan\n",
    "surf['user_amount'].hist(bins=15, label = 'Surf Package',figsize=(8,5))\n",
    "ultimate['user_amount'].hist(bins=3, label = 'Ultimate Package', alpha = 0.7)\n",
    "\n",
    "# defines the histogram title\n",
    "plt.title('Distribution of Total Revenue (USD) of Users')\n",
    "\n",
    "# defines the location of the legend\n",
    "plt.legend(loc='upper right')\n",
    "\n",
    "# displays the histogram chart\n",
    "plt.show()"
   ]
  },
  {
   "attachments": {},
   "cell_type": "markdown",
   "metadata": {},
   "source": [
    "The two histograms show that:\n",
    "- The `Surf Plan` has a data distribution that is spread over the range of `23 to 75 USD` with a peak in the range of `25 USD`.\n",
    "- For the `Ultimate Plan` it has a centralized distribution of data in the range of `70 USD`.\n",
    "- The use of `Plan Type` for the `surf` plan is more often used than for the `ultimate` plan\n",
    "- Both charts have a sloping shape to the right `(Positive Skew)`."
   ]
  },
  {
   "cell_type": "code",
   "execution_count": 638,
   "metadata": {},
   "outputs": [
    {
     "name": "stdout",
     "output_type": "stream",
     "text": [
      "Average Amount of Income from Surf Plan Users : 48.16 USD\n",
      "Average Total Income of Ultimate Plan Users : 70.52 USD\n"
     ]
    }
   ],
   "source": [
    "# calculates the average and variance of the total revenue of monthly subscribers\n",
    "\n",
    "# calculates the average\n",
    "mean_surf_amount = surf['user_amount'].mean()\n",
    "mean_ultimate_amount = ultimate['user_amount'].mean()\n",
    "\n",
    "# displays the output\n",
    "print('Average Amount of Income from Surf Plan Users :',f'{mean_surf_amount:.2f}','USD')\n",
    "print('Average Total Income of Ultimate Plan Users :',f'{mean_ultimate_amount:.2f}','USD')"
   ]
  },
  {
   "cell_type": "code",
   "execution_count": 639,
   "metadata": {},
   "outputs": [
    {
     "name": "stdout",
     "output_type": "stream",
     "text": [
      "Variance of Total Revenue from Surf Plan Users : 1777.84 USD squared\n",
      "Variance of Total Earnings of Ultimate Plan Users : 16.16 USD squared\n"
     ]
    }
   ],
   "source": [
    "# calculate the variance\n",
    "variance_surf_amount = np.var(surf[['user_amount']])\n",
    "variance_ultimate_amount = np.var(ultimate[['user_amount']])\n",
    "\n",
    "# extraction of value from variance\n",
    "tmp_surf = variance_surf_amount['user_amount']\n",
    "tmp_ultimate = variance_ultimate_amount['user_amount']\n",
    "\n",
    "# displays the output\n",
    "print('Variance of Total Revenue from Surf Plan Users :',f'{tmp_surf:.2f}','USD squared')\n",
    "print('Variance of Total Earnings of Ultimate Plan Users :',f'{tmp_ultimate:.2f}','USD squared')"
   ]
  },
  {
   "cell_type": "code",
   "execution_count": 640,
   "metadata": {},
   "outputs": [
    {
     "data": {
      "image/png": "[encoded data removed]",
      "text/plain": [
       "<Figure size 700x500 with 1 Axes>"
      ]
     },
     "metadata": {},
     "output_type": "display_data"
    }
   ],
   "source": [
    "# create a boxplot graph to visualize the distribution of the amount of income from monthly subscribers\n",
    "\n",
    "# displays the boxplot of the number of sms based on the packages\n",
    "plt.figure(figsize=(7,5))\n",
    "sns.boxplot(data=merging_package[['user_amount_surf','user_amount_ultimate']])\n",
    "\n",
    "# defines the title of the boxplot\n",
    "plt.title('Distribution of Total Revenue (USD) of Users')\n",
    "\n",
    "# displays boxplots\n",
    "plt.show()"
   ]
  },
  {
   "attachments": {},
   "cell_type": "markdown",
   "metadata": {},
   "source": [
    "From the analysis of the average, variance and visualization of the boxplot for each user's income, it can be seen that the monthly income from the `surf` plan and the `ultimate` plan provide different income results, whereas the `ultimate` plan provides a higher monthly income compared to the revenue from the `surf` plan."
   ]
  },
  {
   "attachments": {},
   "cell_type": "markdown",
   "metadata": {},
   "source": [
    "## Testing Statistical Hypotheses <a id= 'cont_24' ></a>"
   ]
  },
  {
   "attachments": {},
   "cell_type": "markdown",
   "metadata": {},
   "source": [
    "### Hypothesis Testing 1: The Average Income of Ultimate and Surf Prepaid Package Users is Different <a id= 'cont_25' ></a>"
   ]
  },
  {
   "attachments": {},
   "cell_type": "markdown",
   "metadata": {},
   "source": [
    "Next we will test a hypothesis which states that `The Average Revenue of Ultimate and Surf Prepaid Package Users is Different`. Let's summarize the hypothesis as follows:\n",
    "- The Null Hypothesis: `The Average Revenue of Ultimate and Surf Prepaid Package Users is the Same`\n",
    "- Alternative Hypothesis: `The Average Revenue of Ultimate and Surf Prepaid Package Users Is Different`\n",
    "\n",
    "Let's test using the `scipy` library."
   ]
  },
  {
   "cell_type": "code",
   "execution_count": 641,
   "metadata": {},
   "outputs": [
    {
     "name": "stdout",
     "output_type": "stream",
     "text": [
      "p-value 9.973982812516387e-20\n",
      "We reject the null hypothesis\n"
     ]
    }
   ],
   "source": [
    "# test hypothesis 1:\n",
    "# define a significance of 5%\n",
    "alpha = 0.05\n",
    "\n",
    "# test whether the revenue on the `surf` plan and the `ultimate` plan are the same using `ttest_ind`\n",
    "results = st.ttest_ind(surf['user_amount'],ultimate['user_amount'],equal_var=False)\n",
    "\n",
    "# display p-values\n",
    "print('p-value',results.pvalue)\n",
    "\n",
    "# Hypothesis test\n",
    "if results.pvalue < alpha:\n",
    "     # alternative hypothesis = \"The Average Revenue of Ultimate and Surf Prepaid Package Users is Different\"\n",
    "     print('We reject the null hypothesis')\n",
    "else:\n",
    "     # null hypothesis = \"The Average Revenue of Ultimate and Surf Prepaid Package Users is the Same\"\n",
    "     print('We cannot reject the null hypothesis')"
   ]
  },
  {
   "attachments": {},
   "cell_type": "markdown",
   "metadata": {},
   "source": [
    "The results of hypothesis testing show `'Rejection of the Null Hypothesis'` where `'Alternative Hypothesis Approved'` which means that `\"The average income of Ultimate and Surf Prepaid Package Users is different\"`. This is in accordance with the analysis of revenue from users in the previous discussion that `'Revenue from the Ultimate Package is Bigger than the Surf Package'`."
   ]
  },
  {
   "attachments": {},
   "cell_type": "markdown",
   "metadata": {},
   "source": [
    "### Hypothesis 2 Test: The Average Revenue of Users in the NY-NJ Region Is Different from the Earnings of Users from Other Regions <a id= 'cont_26' ></a>"
   ]
  },
  {
   "attachments": {},
   "cell_type": "markdown",
   "metadata": {},
   "source": [
    "Next we will test a hypothesis which states that 'The Average Revenue of Users in the NY-NJ Region Differs from the Earnings of Users from Other Regions'. Let's summarize the hypothesis as follows:\n",
    "- Null Hypothesis: `The Average Revenue of Users in the NY-NJ Region is the Same as Other Areas`\n",
    "- Alternative Hypothesis: `The Average Revenue of Users in the NY-NJ Region is Different from Other Regions`\n",
    "\n",
    "Let's test using the `scipy` library."
   ]
  },
  {
   "cell_type": "code",
   "execution_count": 642,
   "metadata": {},
   "outputs": [],
   "source": [
    "# membuat filter pendapatan berdasarkan region 'NY-NJ' dengan region 'other'\n",
    "ny_nj_amount = user_usage[user_usage['region'] == 'NY-NJ']\n",
    "other_amount = user_usage[user_usage['region'] == 'other']"
   ]
  },
  {
   "cell_type": "code",
   "execution_count": 643,
   "metadata": {},
   "outputs": [
    {
     "name": "stdout",
     "output_type": "stream",
     "text": [
      "p-value 0.4268835575367236\n",
      "We cannot reject the null hypothesis\n"
     ]
    }
   ],
   "source": [
    "# test hypothesis 2:\n",
    "# define a significance of 5%\n",
    "alpha = 0.05\n",
    "\n",
    "# test whether revenues in `NY-NJ` region and `Other` region are equal using `ttest_ind`\n",
    "results = st.ttest_ind(ny_nj_amount['user_amount'],other_amount['user_amount'],equal_var=False)\n",
    "\n",
    "# display p-values\n",
    "print('p-value',results.pvalue)\n",
    "\n",
    "# Hypothesis test\n",
    "if results.pvalue < alpha:\n",
    "     # alternative hypothesis = \"The Average Revenue of Users in NY-NJ Region is Different from Other Regions\"\n",
    "     print('We reject the null hypothesis')\n",
    "else:\n",
    "     # null hypothesis = \"The Average Revenue of Users in NY-NJ Region is the Same as Other Areas\"\n",
    "     print('We cannot reject the null hypothesis')"
   ]
  },
  {
   "attachments": {},
   "cell_type": "markdown",
   "metadata": {},
   "source": [
    "The results of hypothesis testing show `'We cannot reject the Null Hypothesis'` where `'Alternative Hypothesis Rejected'` which means that `\"The Average Income of Users in the NY-NJ Region with Other Regions is the Same\"`."
   ]
  },
  {
   "attachments": {},
   "cell_type": "markdown",
   "metadata": {},
   "source": [
    "## General Conclusion <a id= 'cont_27' ></a>"
   ]
  },
  {
   "attachments": {},
   "cell_type": "markdown",
   "metadata": {},
   "source": [
    "To find out which Prepaid Package is better (more profitable), some analysis is needed starting from data preparation to the analysis itself. If possible, it is necessary to test the hypothesis as was done in this project. The preparation stage starts with checking several data samples in each dataframe. `Megaline` contains several dataframes including `'calls'`, `'internet'`, `'messages'`, `'plans'` and `'users'` which all contain important information for the analysis of this project.\n",
    "\n",
    "The first stage of data processing is to check whether the `data type` is as expected, then proceed by checking `missing values and overcoming`, `checking data duplication`, and enriching the data by separating `datetime` into respective columns namely `day `, `month` and `year`.\n",
    "\n",
    "After the `cleanup data` process is followed by `data aggregation` to facilitate analysis, then analysis of user behavior by category `(call duration, number of sms, amount of internet data and amount of income)` is carried out starting from making `histogram` and `boxplot`. Then proceed with hypothesis testing such as testing the similarity of data between the prepaid packages and finally concluding.\n",
    "\n",
    "The following are some conclusions obtained from the analysis of prepaid packages including:\n",
    "- In the behavior of the user's `call duration` where the `Prepaid Surf Package` outperforms the average call duration of `379.69 mins` spread between `200 to 530 minutes` compared to the `Ultimate Prepaid Package` of `377.20 mins` which spread between `370 to 430 minutes`.\n",
    "- In the behavior of `the number of sms` users where `Ultimate Prepaid Package` outperforms in average the number of sms of `38 qty` compared to `32 qty` of `Surf Prepaid Package, both packages have data distribution around `0 to 30 qty`.\n",
    "- In the behavior of `amount of internet data` users where `Ultimate Prepaid Package` and `Surf Prepaid Package` have almost the same average amount of data usage, however `Ultimate Prepaid Package` outperforms slightly in average amount of data usage of ` 15.82 Gb` spread over `14 to 21 Gb` compared to `15.76 Gb` `Surf Prepaid Package` spread between `12 to 20.5 Gb`.\n",
    "- In the behavior of `total income per month` from users where `Ultimate Prepaid Package` outperforms the average amount of income per month of `70.52 USD` spread over the range of `70 USD` compared to `Prepaid Surf Package` of `48.16 USD` which has a data distribution of around `23 to 75 USD`.\n",
    "- Testing the first hypothesis `\"The Average Income of Ultimate and Surf Prepaid Package Users is Different\"` shows that the null hypothesis: `\"The Average Income of Ultimate and Surf Prepaid Package Users is the Same\"` is rejected, so the alternative hypothesis: `\"Revenue The average number of Users of Ultimate and Surf Different Prepaid Packages received\"`.\n",
    "- Testing of the second hypothesis `\"The Average Revenue of Users in the NY-NJ Region is Different from Other Regions\"` shows that the null hypothesis: `\"The Average Revenue of Users in the NY-NJ Region is the Same as Other Regions is the Same\"` is not can be rejected, so the alternative hypothesis: `\"The Average Revenue of Users in the NY-NJ Region is Different from Other Regions\"` is rejected.\n",
    "\n",
    "From the description above, it shows that the `Ultimate Prepaid Package` provides more `\"More Income\"` and also a lot of user interest, especially `number of sms` and `data package`."
   ]
  }
 ],
 "metadata": {
  "ExecuteTimeLog": [
   {
    "duration": 828,
    "start_time": "2021-11-16T09:21:11.304Z"
   },
   {
    "duration": 893,
    "start_time": "2021-11-16T09:21:17.728Z"
   },
   {
    "duration": 1150,
    "start_time": "2021-11-16T09:21:29.568Z"
   },
   {
    "duration": 3,
    "start_time": "2021-11-16T09:24:14.495Z"
   },
   {
    "duration": 120,
    "start_time": "2021-11-16T09:24:46.630Z"
   },
   {
    "duration": 3,
    "start_time": "2021-11-16T09:28:27.882Z"
   },
   {
    "duration": 4,
    "start_time": "2021-11-16T09:29:54.281Z"
   },
   {
    "duration": 3,
    "start_time": "2021-11-16T09:30:45.936Z"
   },
   {
    "duration": 4,
    "start_time": "2021-11-16T09:31:06.300Z"
   },
   {
    "duration": 113,
    "start_time": "2021-11-16T09:31:37.208Z"
   },
   {
    "duration": 143,
    "start_time": "2021-11-16T09:31:48.656Z"
   },
   {
    "duration": 98,
    "start_time": "2021-11-16T09:31:55.678Z"
   },
   {
    "duration": 3,
    "start_time": "2021-11-16T09:32:08.535Z"
   },
   {
    "duration": 111,
    "start_time": "2021-11-16T09:32:10.120Z"
   },
   {
    "duration": 3,
    "start_time": "2021-11-16T09:32:15.732Z"
   },
   {
    "duration": 4,
    "start_time": "2021-11-16T09:32:29.423Z"
   },
   {
    "duration": 3,
    "start_time": "2021-11-16T10:03:03.074Z"
   },
   {
    "duration": 3,
    "start_time": "2021-11-16T10:10:01.288Z"
   },
   {
    "duration": 3,
    "start_time": "2021-11-16T10:10:46.923Z"
   },
   {
    "duration": 121,
    "start_time": "2021-11-16T10:37:46.494Z"
   },
   {
    "duration": 125,
    "start_time": "2021-11-16T10:38:20.632Z"
   },
   {
    "duration": 112,
    "start_time": "2021-11-16T10:46:53.001Z"
   },
   {
    "duration": 110,
    "start_time": "2021-11-16T10:48:25.775Z"
   },
   {
    "duration": 3,
    "start_time": "2021-11-16T10:50:18.720Z"
   },
   {
    "duration": 4,
    "start_time": "2021-11-16T10:50:37.649Z"
   },
   {
    "duration": 2,
    "start_time": "2021-11-16T10:50:51.884Z"
   },
   {
    "duration": 3,
    "start_time": "2021-11-16T10:51:56.237Z"
   },
   {
    "duration": 101,
    "start_time": "2021-11-16T10:53:13.791Z"
   },
   {
    "duration": 3,
    "start_time": "2021-11-16T10:55:59.186Z"
   },
   {
    "duration": 3,
    "start_time": "2021-11-16T10:56:10.751Z"
   },
   {
    "duration": 3,
    "start_time": "2021-11-16T10:56:49.038Z"
   },
   {
    "duration": 3,
    "start_time": "2021-11-16T10:56:49.174Z"
   },
   {
    "duration": 4,
    "start_time": "2021-11-16T10:56:49.414Z"
   },
   {
    "duration": 3,
    "start_time": "2021-11-16T10:56:49.680Z"
   },
   {
    "duration": 3,
    "start_time": "2021-11-16T10:56:50.370Z"
   },
   {
    "duration": 114,
    "start_time": "2021-11-16T10:59:34.518Z"
   },
   {
    "duration": 3,
    "start_time": "2021-11-16T11:01:41.201Z"
   },
   {
    "duration": 116,
    "start_time": "2021-11-16T11:01:48.754Z"
   },
   {
    "duration": 3,
    "start_time": "2021-11-16T11:02:16.685Z"
   },
   {
    "duration": 3,
    "start_time": "2021-11-16T11:02:19.479Z"
   },
   {
    "duration": 3,
    "start_time": "2021-11-16T11:02:47.067Z"
   },
   {
    "duration": 3,
    "start_time": "2021-11-16T11:02:49.353Z"
   },
   {
    "duration": 3,
    "start_time": "2021-11-16T11:03:07.835Z"
   },
   {
    "duration": 3,
    "start_time": "2021-11-16T11:03:07.953Z"
   },
   {
    "duration": 112,
    "start_time": "2021-11-16T11:07:52.072Z"
   },
   {
    "duration": 187,
    "start_time": "2021-11-16T11:09:23.468Z"
   },
   {
    "duration": 4,
    "start_time": "2021-11-16T11:10:01.455Z"
   },
   {
    "duration": 3,
    "start_time": "2021-11-16T11:10:05.069Z"
   },
   {
    "duration": 4,
    "start_time": "2021-11-16T11:10:13.376Z"
   },
   {
    "duration": 3,
    "start_time": "2021-11-16T11:10:14.434Z"
   },
   {
    "duration": 3,
    "start_time": "2021-11-16T11:10:22.853Z"
   },
   {
    "duration": 4,
    "start_time": "2021-11-16T11:27:29.279Z"
   },
   {
    "duration": 4,
    "start_time": "2021-11-16T11:29:08.919Z"
   },
   {
    "duration": 118,
    "start_time": "2021-11-16T11:29:46.703Z"
   },
   {
    "duration": 437,
    "start_time": "2021-11-16T11:36:02.181Z"
   },
   {
    "duration": 157,
    "start_time": "2021-11-16T11:36:14.388Z"
   },
   {
    "duration": 207,
    "start_time": "2021-11-16T11:47:15.898Z"
   },
   {
    "duration": 3,
    "start_time": "2021-11-16T11:53:52.092Z"
   },
   {
    "duration": 3,
    "start_time": "2021-11-16T11:53:52.236Z"
   },
   {
    "duration": 3,
    "start_time": "2021-11-16T11:59:12.005Z"
   },
   {
    "duration": 112,
    "start_time": "2021-11-16T12:00:33.446Z"
   },
   {
    "duration": 3,
    "start_time": "2021-11-16T12:02:14.453Z"
   },
   {
    "duration": 3,
    "start_time": "2021-11-16T12:02:39.512Z"
   },
   {
    "duration": 106,
    "start_time": "2021-11-16T12:03:03.460Z"
   },
   {
    "duration": 3,
    "start_time": "2021-11-17T20:37:21.139Z"
   },
   {
    "duration": 3,
    "start_time": "2021-11-17T20:37:22.229Z"
   },
   {
    "duration": 3,
    "start_time": "2021-11-17T20:38:38.806Z"
   },
   {
    "duration": 3,
    "start_time": "2021-11-17T20:38:41.958Z"
   },
   {
    "duration": 3,
    "start_time": "2021-11-17T20:43:46.551Z"
   },
   {
    "duration": 4,
    "start_time": "2021-11-17T20:58:21.835Z"
   },
   {
    "duration": 3,
    "start_time": "2021-11-17T20:59:21.872Z"
   },
   {
    "duration": 4,
    "start_time": "2021-11-17T20:59:45.352Z"
   },
   {
    "duration": 4,
    "start_time": "2021-11-17T20:59:49.646Z"
   },
   {
    "duration": 159,
    "start_time": "2021-11-17T21:02:26.949Z"
   },
   {
    "duration": 3,
    "start_time": "2021-11-17T21:03:53.461Z"
   },
   {
    "duration": 3,
    "start_time": "2021-11-17T21:03:53.694Z"
   },
   {
    "duration": 3,
    "start_time": "2021-11-17T21:05:28.145Z"
   },
   {
    "duration": 116,
    "start_time": "2021-11-17T21:05:57.787Z"
   },
   {
    "duration": 3,
    "start_time": "2021-11-17T21:06:37.993Z"
   },
   {
    "duration": 3,
    "start_time": "2021-11-17T21:06:38.261Z"
   },
   {
    "duration": 3,
    "start_time": "2021-11-17T21:11:54.358Z"
   },
   {
    "duration": 3,
    "start_time": "2021-11-17T21:12:43.846Z"
   },
   {
    "duration": 4,
    "start_time": "2021-11-17T21:13:08.773Z"
   },
   {
    "duration": 3,
    "start_time": "2021-11-17T21:14:44.441Z"
   },
   {
    "duration": 3,
    "start_time": "2021-11-17T21:15:42.059Z"
   },
   {
    "duration": 4,
    "start_time": "2021-11-17T21:15:51.995Z"
   },
   {
    "duration": 3,
    "start_time": "2021-11-17T21:15:53.923Z"
   },
   {
    "duration": 3,
    "start_time": "2021-11-17T21:15:55.282Z"
   },
   {
    "duration": 3,
    "start_time": "2021-11-17T21:16:28.492Z"
   },
   {
    "duration": 3,
    "start_time": "2021-11-17T21:16:32.603Z"
   },
   {
    "duration": 3,
    "start_time": "2021-11-17T21:17:06.941Z"
   },
   {
    "duration": 98,
    "start_time": "2021-11-17T21:18:05.733Z"
   },
   {
    "duration": 4,
    "start_time": "2021-11-17T21:21:35.255Z"
   },
   {
    "duration": 3,
    "start_time": "2021-11-17T21:21:37.804Z"
   },
   {
    "duration": 4,
    "start_time": "2021-11-17T21:23:06.071Z"
   },
   {
    "duration": 3,
    "start_time": "2021-11-17T21:23:24.799Z"
   },
   {
    "duration": 3,
    "start_time": "2021-11-17T21:23:32.591Z"
   },
   {
    "duration": 98,
    "start_time": "2021-11-17T21:28:31.559Z"
   },
   {
    "duration": 3,
    "start_time": "2021-11-17T21:28:45.448Z"
   },
   {
    "duration": 3,
    "start_time": "2021-11-17T21:29:17.303Z"
   },
   {
    "duration": 3,
    "start_time": "2021-11-17T21:29:29.617Z"
   },
   {
    "duration": 3,
    "start_time": "2021-11-17T21:29:32.681Z"
   },
   {
    "duration": 3,
    "start_time": "2021-11-17T21:36:11.474Z"
   },
   {
    "duration": 3,
    "start_time": "2021-11-17T21:36:14.791Z"
   },
   {
    "duration": 3,
    "start_time": "2021-11-17T21:36:53.943Z"
   },
   {
    "duration": 3,
    "start_time": "2021-11-17T21:36:56.165Z"
   },
   {
    "duration": 4,
    "start_time": "2021-11-17T21:37:16.590Z"
   },
   {
    "duration": 3,
    "start_time": "2021-11-17T21:37:22.702Z"
   },
   {
    "duration": 4,
    "start_time": "2021-11-17T21:38:03.479Z"
   },
   {
    "duration": 3,
    "start_time": "2021-11-17T21:38:08.601Z"
   },
   {
    "duration": 3,
    "start_time": "2021-11-17T21:38:12.928Z"
   },
   {
    "duration": 3,
    "start_time": "2021-11-17T21:38:48.896Z"
   },
   {
    "duration": 2,
    "start_time": "2021-11-17T21:38:49.171Z"
   },
   {
    "duration": 4,
    "start_time": "2021-11-17T21:39:57.889Z"
   },
   {
    "duration": 3,
    "start_time": "2021-11-17T21:39:58.057Z"
   },
   {
    "duration": 3,
    "start_time": "2021-11-17T21:41:20.108Z"
   },
   {
    "duration": 3,
    "start_time": "2021-11-17T21:41:20.629Z"
   },
   {
    "duration": 3,
    "start_time": "2021-11-17T21:42:49.136Z"
   },
   {
    "duration": 3,
    "start_time": "2021-11-17T21:43:15.137Z"
   },
   {
    "duration": 4,
    "start_time": "2021-11-17T21:43:16.766Z"
   },
   {
    "duration": 4,
    "start_time": "2021-11-17T21:43:31.711Z"
   },
   {
    "duration": 3,
    "start_time": "2021-11-17T21:43:36.312Z"
   },
   {
    "duration": 4,
    "start_time": "2021-11-17T21:45:08.825Z"
   },
   {
    "duration": 4,
    "start_time": "2021-11-17T21:45:10.119Z"
   },
   {
    "duration": 4,
    "start_time": "2021-11-17T21:45:13.748Z"
   },
   {
    "duration": 3,
    "start_time": "2021-11-17T21:45:22.219Z"
   },
   {
    "duration": 3,
    "start_time": "2021-11-17T21:45:33.412Z"
   },
   {
    "duration": 2,
    "start_time": "2021-11-17T21:46:01.885Z"
   },
   {
    "duration": 3,
    "start_time": "2021-11-17T21:46:03.628Z"
   },
   {
    "duration": 107,
    "start_time": "2021-11-17T21:47:32.512Z"
   },
   {
    "duration": 103,
    "start_time": "2021-11-17T21:50:36.243Z"
   },
   {
    "duration": 3,
    "start_time": "2021-11-18T06:28:31.440Z"
   },
   {
    "duration": 3,
    "start_time": "2021-11-18T06:29:00.168Z"
   },
   {
    "duration": 3,
    "start_time": "2021-11-18T06:31:27.008Z"
   },
   {
    "duration": 2,
    "start_time": "2021-11-18T06:35:34.288Z"
   },
   {
    "duration": 2,
    "start_time": "2021-11-18T06:38:04.527Z"
   }
  ],
  "kernelspec": {
   "display_name": "Python 3 (ipykernel)",
   "language": "python",
   "name": "python3"
  },
  "language_info": {
   "codemirror_mode": {
    "name": "ipython",
    "version": 3
   },
   "file_extension": ".py",
   "mimetype": "text/x-python",
   "name": "python",
   "nbconvert_exporter": "python",
   "pygments_lexer": "ipython3",
   "version": "3.11.2"
  },
  "toc": {
   "base_numbering": 1,
   "nav_menu": {},
   "number_sections": true,
   "sideBar": true,
   "skip_h1_title": false,
   "title_cell": "Table of Contents",
   "title_sidebar": "Contents",
   "toc_cell": false,
   "toc_position": {},
   "toc_section_display": true,
   "toc_window_display": false
  }
 },
 "nbformat": 4,
 "nbformat_minor": 2
}
